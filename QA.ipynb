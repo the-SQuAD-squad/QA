{
  "nbformat": 4,
  "nbformat_minor": 0,
  "metadata": {
    "colab": {
      "name": "QA.ipynb",
      "provenance": [],
      "collapsed_sections": [],
      "machine_shape": "hm",
      "include_colab_link": true
    },
    "kernelspec": {
      "name": "python3",
      "display_name": "Python 3"
    },
    "accelerator": "GPU",
    "widgets": {
      "application/vnd.jupyter.widget-state+json": {
        "0426974695844ebc9b23f6f32a5ff73b": {
          "model_module": "@jupyter-widgets/controls",
          "model_name": "HBoxModel",
          "state": {
            "_view_name": "HBoxView",
            "_dom_classes": [],
            "_model_name": "HBoxModel",
            "_view_module": "@jupyter-widgets/controls",
            "_model_module_version": "1.5.0",
            "_view_count": null,
            "_view_module_version": "1.5.0",
            "box_style": "",
            "layout": "IPY_MODEL_1dd3cf0e2c2e438b8736636ab3c57eec",
            "_model_module": "@jupyter-widgets/controls",
            "children": [
              "IPY_MODEL_c08f4bc66481411faed3e022c4cf50a8",
              "IPY_MODEL_220dee8970394bdc87e32bdef4a5bcd1"
            ]
          }
        },
        "1dd3cf0e2c2e438b8736636ab3c57eec": {
          "model_module": "@jupyter-widgets/base",
          "model_name": "LayoutModel",
          "state": {
            "_view_name": "LayoutView",
            "grid_template_rows": null,
            "right": null,
            "justify_content": null,
            "_view_module": "@jupyter-widgets/base",
            "overflow": null,
            "_model_module_version": "1.2.0",
            "_view_count": null,
            "flex_flow": null,
            "width": null,
            "min_width": null,
            "border": null,
            "align_items": null,
            "bottom": null,
            "_model_module": "@jupyter-widgets/base",
            "top": null,
            "grid_column": null,
            "overflow_y": null,
            "overflow_x": null,
            "grid_auto_flow": null,
            "grid_area": null,
            "grid_template_columns": null,
            "flex": null,
            "_model_name": "LayoutModel",
            "justify_items": null,
            "grid_row": null,
            "max_height": null,
            "align_content": null,
            "visibility": null,
            "align_self": null,
            "height": null,
            "min_height": null,
            "padding": null,
            "grid_auto_rows": null,
            "grid_gap": null,
            "max_width": null,
            "order": null,
            "_view_module_version": "1.2.0",
            "grid_template_areas": null,
            "object_position": null,
            "object_fit": null,
            "grid_auto_columns": null,
            "margin": null,
            "display": null,
            "left": null
          }
        },
        "c08f4bc66481411faed3e022c4cf50a8": {
          "model_module": "@jupyter-widgets/controls",
          "model_name": "FloatProgressModel",
          "state": {
            "_view_name": "ProgressView",
            "style": "IPY_MODEL_4a7726fe0a3e4e999908113997384c69",
            "_dom_classes": [],
            "description": "Downloading: 100%",
            "_model_name": "FloatProgressModel",
            "bar_style": "success",
            "max": 481,
            "_view_module": "@jupyter-widgets/controls",
            "_model_module_version": "1.5.0",
            "value": 481,
            "_view_count": null,
            "_view_module_version": "1.5.0",
            "orientation": "horizontal",
            "min": 0,
            "description_tooltip": null,
            "_model_module": "@jupyter-widgets/controls",
            "layout": "IPY_MODEL_a11661160dc845469fb1592f7950d92f"
          }
        },
        "220dee8970394bdc87e32bdef4a5bcd1": {
          "model_module": "@jupyter-widgets/controls",
          "model_name": "HTMLModel",
          "state": {
            "_view_name": "HTMLView",
            "style": "IPY_MODEL_6cd1f052b4ab423781dae195021ef383",
            "_dom_classes": [],
            "description": "",
            "_model_name": "HTMLModel",
            "placeholder": "​",
            "_view_module": "@jupyter-widgets/controls",
            "_model_module_version": "1.5.0",
            "value": " 481/481 [00:18&lt;00:00, 26.1B/s]",
            "_view_count": null,
            "_view_module_version": "1.5.0",
            "description_tooltip": null,
            "_model_module": "@jupyter-widgets/controls",
            "layout": "IPY_MODEL_64a38e126b414ef8aeedb928b39ad628"
          }
        },
        "4a7726fe0a3e4e999908113997384c69": {
          "model_module": "@jupyter-widgets/controls",
          "model_name": "ProgressStyleModel",
          "state": {
            "_view_name": "StyleView",
            "_model_name": "ProgressStyleModel",
            "description_width": "initial",
            "_view_module": "@jupyter-widgets/base",
            "_model_module_version": "1.5.0",
            "_view_count": null,
            "_view_module_version": "1.2.0",
            "bar_color": null,
            "_model_module": "@jupyter-widgets/controls"
          }
        },
        "a11661160dc845469fb1592f7950d92f": {
          "model_module": "@jupyter-widgets/base",
          "model_name": "LayoutModel",
          "state": {
            "_view_name": "LayoutView",
            "grid_template_rows": null,
            "right": null,
            "justify_content": null,
            "_view_module": "@jupyter-widgets/base",
            "overflow": null,
            "_model_module_version": "1.2.0",
            "_view_count": null,
            "flex_flow": null,
            "width": null,
            "min_width": null,
            "border": null,
            "align_items": null,
            "bottom": null,
            "_model_module": "@jupyter-widgets/base",
            "top": null,
            "grid_column": null,
            "overflow_y": null,
            "overflow_x": null,
            "grid_auto_flow": null,
            "grid_area": null,
            "grid_template_columns": null,
            "flex": null,
            "_model_name": "LayoutModel",
            "justify_items": null,
            "grid_row": null,
            "max_height": null,
            "align_content": null,
            "visibility": null,
            "align_self": null,
            "height": null,
            "min_height": null,
            "padding": null,
            "grid_auto_rows": null,
            "grid_gap": null,
            "max_width": null,
            "order": null,
            "_view_module_version": "1.2.0",
            "grid_template_areas": null,
            "object_position": null,
            "object_fit": null,
            "grid_auto_columns": null,
            "margin": null,
            "display": null,
            "left": null
          }
        },
        "6cd1f052b4ab423781dae195021ef383": {
          "model_module": "@jupyter-widgets/controls",
          "model_name": "DescriptionStyleModel",
          "state": {
            "_view_name": "StyleView",
            "_model_name": "DescriptionStyleModel",
            "description_width": "",
            "_view_module": "@jupyter-widgets/base",
            "_model_module_version": "1.5.0",
            "_view_count": null,
            "_view_module_version": "1.2.0",
            "_model_module": "@jupyter-widgets/controls"
          }
        },
        "64a38e126b414ef8aeedb928b39ad628": {
          "model_module": "@jupyter-widgets/base",
          "model_name": "LayoutModel",
          "state": {
            "_view_name": "LayoutView",
            "grid_template_rows": null,
            "right": null,
            "justify_content": null,
            "_view_module": "@jupyter-widgets/base",
            "overflow": null,
            "_model_module_version": "1.2.0",
            "_view_count": null,
            "flex_flow": null,
            "width": null,
            "min_width": null,
            "border": null,
            "align_items": null,
            "bottom": null,
            "_model_module": "@jupyter-widgets/base",
            "top": null,
            "grid_column": null,
            "overflow_y": null,
            "overflow_x": null,
            "grid_auto_flow": null,
            "grid_area": null,
            "grid_template_columns": null,
            "flex": null,
            "_model_name": "LayoutModel",
            "justify_items": null,
            "grid_row": null,
            "max_height": null,
            "align_content": null,
            "visibility": null,
            "align_self": null,
            "height": null,
            "min_height": null,
            "padding": null,
            "grid_auto_rows": null,
            "grid_gap": null,
            "max_width": null,
            "order": null,
            "_view_module_version": "1.2.0",
            "grid_template_areas": null,
            "object_position": null,
            "object_fit": null,
            "grid_auto_columns": null,
            "margin": null,
            "display": null,
            "left": null
          }
        },
        "c8bc2d115c284fdfa9dab05472f6d37b": {
          "model_module": "@jupyter-widgets/controls",
          "model_name": "HBoxModel",
          "state": {
            "_view_name": "HBoxView",
            "_dom_classes": [],
            "_model_name": "HBoxModel",
            "_view_module": "@jupyter-widgets/controls",
            "_model_module_version": "1.5.0",
            "_view_count": null,
            "_view_module_version": "1.5.0",
            "box_style": "",
            "layout": "IPY_MODEL_b20ae3f19cb544c191c4d1dfe47c162e",
            "_model_module": "@jupyter-widgets/controls",
            "children": [
              "IPY_MODEL_58e3f71f9f0b4f4187cf497a98a74a46",
              "IPY_MODEL_72e6a02218c54e82a11323ee0d7ecf2d"
            ]
          }
        },
        "b20ae3f19cb544c191c4d1dfe47c162e": {
          "model_module": "@jupyter-widgets/base",
          "model_name": "LayoutModel",
          "state": {
            "_view_name": "LayoutView",
            "grid_template_rows": null,
            "right": null,
            "justify_content": null,
            "_view_module": "@jupyter-widgets/base",
            "overflow": null,
            "_model_module_version": "1.2.0",
            "_view_count": null,
            "flex_flow": null,
            "width": null,
            "min_width": null,
            "border": null,
            "align_items": null,
            "bottom": null,
            "_model_module": "@jupyter-widgets/base",
            "top": null,
            "grid_column": null,
            "overflow_y": null,
            "overflow_x": null,
            "grid_auto_flow": null,
            "grid_area": null,
            "grid_template_columns": null,
            "flex": null,
            "_model_name": "LayoutModel",
            "justify_items": null,
            "grid_row": null,
            "max_height": null,
            "align_content": null,
            "visibility": null,
            "align_self": null,
            "height": null,
            "min_height": null,
            "padding": null,
            "grid_auto_rows": null,
            "grid_gap": null,
            "max_width": null,
            "order": null,
            "_view_module_version": "1.2.0",
            "grid_template_areas": null,
            "object_position": null,
            "object_fit": null,
            "grid_auto_columns": null,
            "margin": null,
            "display": null,
            "left": null
          }
        },
        "58e3f71f9f0b4f4187cf497a98a74a46": {
          "model_module": "@jupyter-widgets/controls",
          "model_name": "FloatProgressModel",
          "state": {
            "_view_name": "ProgressView",
            "style": "IPY_MODEL_4954f165fb754187ba3b8b3d1d3aabd1",
            "_dom_classes": [],
            "description": "Downloading: 100%",
            "_model_name": "FloatProgressModel",
            "bar_style": "success",
            "max": 898823,
            "_view_module": "@jupyter-widgets/controls",
            "_model_module_version": "1.5.0",
            "value": 898823,
            "_view_count": null,
            "_view_module_version": "1.5.0",
            "orientation": "horizontal",
            "min": 0,
            "description_tooltip": null,
            "_model_module": "@jupyter-widgets/controls",
            "layout": "IPY_MODEL_b35af8052f6e429d9d0c9c93db5beccb"
          }
        },
        "72e6a02218c54e82a11323ee0d7ecf2d": {
          "model_module": "@jupyter-widgets/controls",
          "model_name": "HTMLModel",
          "state": {
            "_view_name": "HTMLView",
            "style": "IPY_MODEL_2035c01a8ccf47b794a944ec8c87f63d",
            "_dom_classes": [],
            "description": "",
            "_model_name": "HTMLModel",
            "placeholder": "​",
            "_view_module": "@jupyter-widgets/controls",
            "_model_module_version": "1.5.0",
            "value": " 899k/899k [00:17&lt;00:00, 52.3kB/s]",
            "_view_count": null,
            "_view_module_version": "1.5.0",
            "description_tooltip": null,
            "_model_module": "@jupyter-widgets/controls",
            "layout": "IPY_MODEL_67e0ca9fcd09417eac6bbc3875302dbf"
          }
        },
        "4954f165fb754187ba3b8b3d1d3aabd1": {
          "model_module": "@jupyter-widgets/controls",
          "model_name": "ProgressStyleModel",
          "state": {
            "_view_name": "StyleView",
            "_model_name": "ProgressStyleModel",
            "description_width": "initial",
            "_view_module": "@jupyter-widgets/base",
            "_model_module_version": "1.5.0",
            "_view_count": null,
            "_view_module_version": "1.2.0",
            "bar_color": null,
            "_model_module": "@jupyter-widgets/controls"
          }
        },
        "b35af8052f6e429d9d0c9c93db5beccb": {
          "model_module": "@jupyter-widgets/base",
          "model_name": "LayoutModel",
          "state": {
            "_view_name": "LayoutView",
            "grid_template_rows": null,
            "right": null,
            "justify_content": null,
            "_view_module": "@jupyter-widgets/base",
            "overflow": null,
            "_model_module_version": "1.2.0",
            "_view_count": null,
            "flex_flow": null,
            "width": null,
            "min_width": null,
            "border": null,
            "align_items": null,
            "bottom": null,
            "_model_module": "@jupyter-widgets/base",
            "top": null,
            "grid_column": null,
            "overflow_y": null,
            "overflow_x": null,
            "grid_auto_flow": null,
            "grid_area": null,
            "grid_template_columns": null,
            "flex": null,
            "_model_name": "LayoutModel",
            "justify_items": null,
            "grid_row": null,
            "max_height": null,
            "align_content": null,
            "visibility": null,
            "align_self": null,
            "height": null,
            "min_height": null,
            "padding": null,
            "grid_auto_rows": null,
            "grid_gap": null,
            "max_width": null,
            "order": null,
            "_view_module_version": "1.2.0",
            "grid_template_areas": null,
            "object_position": null,
            "object_fit": null,
            "grid_auto_columns": null,
            "margin": null,
            "display": null,
            "left": null
          }
        },
        "2035c01a8ccf47b794a944ec8c87f63d": {
          "model_module": "@jupyter-widgets/controls",
          "model_name": "DescriptionStyleModel",
          "state": {
            "_view_name": "StyleView",
            "_model_name": "DescriptionStyleModel",
            "description_width": "",
            "_view_module": "@jupyter-widgets/base",
            "_model_module_version": "1.5.0",
            "_view_count": null,
            "_view_module_version": "1.2.0",
            "_model_module": "@jupyter-widgets/controls"
          }
        },
        "67e0ca9fcd09417eac6bbc3875302dbf": {
          "model_module": "@jupyter-widgets/base",
          "model_name": "LayoutModel",
          "state": {
            "_view_name": "LayoutView",
            "grid_template_rows": null,
            "right": null,
            "justify_content": null,
            "_view_module": "@jupyter-widgets/base",
            "overflow": null,
            "_model_module_version": "1.2.0",
            "_view_count": null,
            "flex_flow": null,
            "width": null,
            "min_width": null,
            "border": null,
            "align_items": null,
            "bottom": null,
            "_model_module": "@jupyter-widgets/base",
            "top": null,
            "grid_column": null,
            "overflow_y": null,
            "overflow_x": null,
            "grid_auto_flow": null,
            "grid_area": null,
            "grid_template_columns": null,
            "flex": null,
            "_model_name": "LayoutModel",
            "justify_items": null,
            "grid_row": null,
            "max_height": null,
            "align_content": null,
            "visibility": null,
            "align_self": null,
            "height": null,
            "min_height": null,
            "padding": null,
            "grid_auto_rows": null,
            "grid_gap": null,
            "max_width": null,
            "order": null,
            "_view_module_version": "1.2.0",
            "grid_template_areas": null,
            "object_position": null,
            "object_fit": null,
            "grid_auto_columns": null,
            "margin": null,
            "display": null,
            "left": null
          }
        },
        "2d3264b8409f47deb6b0d1863f52021f": {
          "model_module": "@jupyter-widgets/controls",
          "model_name": "HBoxModel",
          "state": {
            "_view_name": "HBoxView",
            "_dom_classes": [],
            "_model_name": "HBoxModel",
            "_view_module": "@jupyter-widgets/controls",
            "_model_module_version": "1.5.0",
            "_view_count": null,
            "_view_module_version": "1.5.0",
            "box_style": "",
            "layout": "IPY_MODEL_a41faa66600e4486b2e127a3bfbd230c",
            "_model_module": "@jupyter-widgets/controls",
            "children": [
              "IPY_MODEL_f61b419add31410daeec7f55d1b4193a",
              "IPY_MODEL_f2fabf7bb9a44d8f8b451098ca42da6c"
            ]
          }
        },
        "a41faa66600e4486b2e127a3bfbd230c": {
          "model_module": "@jupyter-widgets/base",
          "model_name": "LayoutModel",
          "state": {
            "_view_name": "LayoutView",
            "grid_template_rows": null,
            "right": null,
            "justify_content": null,
            "_view_module": "@jupyter-widgets/base",
            "overflow": null,
            "_model_module_version": "1.2.0",
            "_view_count": null,
            "flex_flow": null,
            "width": null,
            "min_width": null,
            "border": null,
            "align_items": null,
            "bottom": null,
            "_model_module": "@jupyter-widgets/base",
            "top": null,
            "grid_column": null,
            "overflow_y": null,
            "overflow_x": null,
            "grid_auto_flow": null,
            "grid_area": null,
            "grid_template_columns": null,
            "flex": null,
            "_model_name": "LayoutModel",
            "justify_items": null,
            "grid_row": null,
            "max_height": null,
            "align_content": null,
            "visibility": null,
            "align_self": null,
            "height": null,
            "min_height": null,
            "padding": null,
            "grid_auto_rows": null,
            "grid_gap": null,
            "max_width": null,
            "order": null,
            "_view_module_version": "1.2.0",
            "grid_template_areas": null,
            "object_position": null,
            "object_fit": null,
            "grid_auto_columns": null,
            "margin": null,
            "display": null,
            "left": null
          }
        },
        "f61b419add31410daeec7f55d1b4193a": {
          "model_module": "@jupyter-widgets/controls",
          "model_name": "FloatProgressModel",
          "state": {
            "_view_name": "ProgressView",
            "style": "IPY_MODEL_1192f06cdabf49dda3e57332e03de5f3",
            "_dom_classes": [],
            "description": "Downloading: 100%",
            "_model_name": "FloatProgressModel",
            "bar_style": "success",
            "max": 456318,
            "_view_module": "@jupyter-widgets/controls",
            "_model_module_version": "1.5.0",
            "value": 456318,
            "_view_count": null,
            "_view_module_version": "1.5.0",
            "orientation": "horizontal",
            "min": 0,
            "description_tooltip": null,
            "_model_module": "@jupyter-widgets/controls",
            "layout": "IPY_MODEL_a3278aeef50248938ab797c567dab45d"
          }
        },
        "f2fabf7bb9a44d8f8b451098ca42da6c": {
          "model_module": "@jupyter-widgets/controls",
          "model_name": "HTMLModel",
          "state": {
            "_view_name": "HTMLView",
            "style": "IPY_MODEL_624d0de8d6b540799300270b6424ef7c",
            "_dom_classes": [],
            "description": "",
            "_model_name": "HTMLModel",
            "placeholder": "​",
            "_view_module": "@jupyter-widgets/controls",
            "_model_module_version": "1.5.0",
            "value": " 456k/456k [00:03&lt;00:00, 123kB/s]",
            "_view_count": null,
            "_view_module_version": "1.5.0",
            "description_tooltip": null,
            "_model_module": "@jupyter-widgets/controls",
            "layout": "IPY_MODEL_9f8dbd990054450ba24f1e168f0ab86f"
          }
        },
        "1192f06cdabf49dda3e57332e03de5f3": {
          "model_module": "@jupyter-widgets/controls",
          "model_name": "ProgressStyleModel",
          "state": {
            "_view_name": "StyleView",
            "_model_name": "ProgressStyleModel",
            "description_width": "initial",
            "_view_module": "@jupyter-widgets/base",
            "_model_module_version": "1.5.0",
            "_view_count": null,
            "_view_module_version": "1.2.0",
            "bar_color": null,
            "_model_module": "@jupyter-widgets/controls"
          }
        },
        "a3278aeef50248938ab797c567dab45d": {
          "model_module": "@jupyter-widgets/base",
          "model_name": "LayoutModel",
          "state": {
            "_view_name": "LayoutView",
            "grid_template_rows": null,
            "right": null,
            "justify_content": null,
            "_view_module": "@jupyter-widgets/base",
            "overflow": null,
            "_model_module_version": "1.2.0",
            "_view_count": null,
            "flex_flow": null,
            "width": null,
            "min_width": null,
            "border": null,
            "align_items": null,
            "bottom": null,
            "_model_module": "@jupyter-widgets/base",
            "top": null,
            "grid_column": null,
            "overflow_y": null,
            "overflow_x": null,
            "grid_auto_flow": null,
            "grid_area": null,
            "grid_template_columns": null,
            "flex": null,
            "_model_name": "LayoutModel",
            "justify_items": null,
            "grid_row": null,
            "max_height": null,
            "align_content": null,
            "visibility": null,
            "align_self": null,
            "height": null,
            "min_height": null,
            "padding": null,
            "grid_auto_rows": null,
            "grid_gap": null,
            "max_width": null,
            "order": null,
            "_view_module_version": "1.2.0",
            "grid_template_areas": null,
            "object_position": null,
            "object_fit": null,
            "grid_auto_columns": null,
            "margin": null,
            "display": null,
            "left": null
          }
        },
        "624d0de8d6b540799300270b6424ef7c": {
          "model_module": "@jupyter-widgets/controls",
          "model_name": "DescriptionStyleModel",
          "state": {
            "_view_name": "StyleView",
            "_model_name": "DescriptionStyleModel",
            "description_width": "",
            "_view_module": "@jupyter-widgets/base",
            "_model_module_version": "1.5.0",
            "_view_count": null,
            "_view_module_version": "1.2.0",
            "_model_module": "@jupyter-widgets/controls"
          }
        },
        "9f8dbd990054450ba24f1e168f0ab86f": {
          "model_module": "@jupyter-widgets/base",
          "model_name": "LayoutModel",
          "state": {
            "_view_name": "LayoutView",
            "grid_template_rows": null,
            "right": null,
            "justify_content": null,
            "_view_module": "@jupyter-widgets/base",
            "overflow": null,
            "_model_module_version": "1.2.0",
            "_view_count": null,
            "flex_flow": null,
            "width": null,
            "min_width": null,
            "border": null,
            "align_items": null,
            "bottom": null,
            "_model_module": "@jupyter-widgets/base",
            "top": null,
            "grid_column": null,
            "overflow_y": null,
            "overflow_x": null,
            "grid_auto_flow": null,
            "grid_area": null,
            "grid_template_columns": null,
            "flex": null,
            "_model_name": "LayoutModel",
            "justify_items": null,
            "grid_row": null,
            "max_height": null,
            "align_content": null,
            "visibility": null,
            "align_self": null,
            "height": null,
            "min_height": null,
            "padding": null,
            "grid_auto_rows": null,
            "grid_gap": null,
            "max_width": null,
            "order": null,
            "_view_module_version": "1.2.0",
            "grid_template_areas": null,
            "object_position": null,
            "object_fit": null,
            "grid_auto_columns": null,
            "margin": null,
            "display": null,
            "left": null
          }
        },
        "c885f872dc6d4b80914d6e999260dd69": {
          "model_module": "@jupyter-widgets/controls",
          "model_name": "HBoxModel",
          "state": {
            "_view_name": "HBoxView",
            "_dom_classes": [],
            "_model_name": "HBoxModel",
            "_view_module": "@jupyter-widgets/controls",
            "_model_module_version": "1.5.0",
            "_view_count": null,
            "_view_module_version": "1.5.0",
            "box_style": "",
            "layout": "IPY_MODEL_cd3e01bedb2f45c4977718b649dd8d3d",
            "_model_module": "@jupyter-widgets/controls",
            "children": [
              "IPY_MODEL_41ae0de92f694b54895edf9d5ae1d39c",
              "IPY_MODEL_c59ff0023267490484e97e26ee5276ab"
            ]
          }
        },
        "cd3e01bedb2f45c4977718b649dd8d3d": {
          "model_module": "@jupyter-widgets/base",
          "model_name": "LayoutModel",
          "state": {
            "_view_name": "LayoutView",
            "grid_template_rows": null,
            "right": null,
            "justify_content": null,
            "_view_module": "@jupyter-widgets/base",
            "overflow": null,
            "_model_module_version": "1.2.0",
            "_view_count": null,
            "flex_flow": null,
            "width": null,
            "min_width": null,
            "border": null,
            "align_items": null,
            "bottom": null,
            "_model_module": "@jupyter-widgets/base",
            "top": null,
            "grid_column": null,
            "overflow_y": null,
            "overflow_x": null,
            "grid_auto_flow": null,
            "grid_area": null,
            "grid_template_columns": null,
            "flex": null,
            "_model_name": "LayoutModel",
            "justify_items": null,
            "grid_row": null,
            "max_height": null,
            "align_content": null,
            "visibility": null,
            "align_self": null,
            "height": null,
            "min_height": null,
            "padding": null,
            "grid_auto_rows": null,
            "grid_gap": null,
            "max_width": null,
            "order": null,
            "_view_module_version": "1.2.0",
            "grid_template_areas": null,
            "object_position": null,
            "object_fit": null,
            "grid_auto_columns": null,
            "margin": null,
            "display": null,
            "left": null
          }
        },
        "41ae0de92f694b54895edf9d5ae1d39c": {
          "model_module": "@jupyter-widgets/controls",
          "model_name": "FloatProgressModel",
          "state": {
            "_view_name": "ProgressView",
            "style": "IPY_MODEL_f73b8ace7f44473e8eccfbe1b91ca2f6",
            "_dom_classes": [],
            "description": "Downloading: 100%",
            "_model_name": "FloatProgressModel",
            "bar_style": "success",
            "max": 1355863,
            "_view_module": "@jupyter-widgets/controls",
            "_model_module_version": "1.5.0",
            "value": 1355863,
            "_view_count": null,
            "_view_module_version": "1.5.0",
            "orientation": "horizontal",
            "min": 0,
            "description_tooltip": null,
            "_model_module": "@jupyter-widgets/controls",
            "layout": "IPY_MODEL_17212be0cf4b4fc7b0d994ca0bf8f8c1"
          }
        },
        "c59ff0023267490484e97e26ee5276ab": {
          "model_module": "@jupyter-widgets/controls",
          "model_name": "HTMLModel",
          "state": {
            "_view_name": "HTMLView",
            "style": "IPY_MODEL_3951e1484d2a4777b46b87030796e822",
            "_dom_classes": [],
            "description": "",
            "_model_name": "HTMLModel",
            "placeholder": "​",
            "_view_module": "@jupyter-widgets/controls",
            "_model_module_version": "1.5.0",
            "value": " 1.36M/1.36M [00:01&lt;00:00, 1.09MB/s]",
            "_view_count": null,
            "_view_module_version": "1.5.0",
            "description_tooltip": null,
            "_model_module": "@jupyter-widgets/controls",
            "layout": "IPY_MODEL_6d97fca99ad246db9849da2536f16454"
          }
        },
        "f73b8ace7f44473e8eccfbe1b91ca2f6": {
          "model_module": "@jupyter-widgets/controls",
          "model_name": "ProgressStyleModel",
          "state": {
            "_view_name": "StyleView",
            "_model_name": "ProgressStyleModel",
            "description_width": "initial",
            "_view_module": "@jupyter-widgets/base",
            "_model_module_version": "1.5.0",
            "_view_count": null,
            "_view_module_version": "1.2.0",
            "bar_color": null,
            "_model_module": "@jupyter-widgets/controls"
          }
        },
        "17212be0cf4b4fc7b0d994ca0bf8f8c1": {
          "model_module": "@jupyter-widgets/base",
          "model_name": "LayoutModel",
          "state": {
            "_view_name": "LayoutView",
            "grid_template_rows": null,
            "right": null,
            "justify_content": null,
            "_view_module": "@jupyter-widgets/base",
            "overflow": null,
            "_model_module_version": "1.2.0",
            "_view_count": null,
            "flex_flow": null,
            "width": null,
            "min_width": null,
            "border": null,
            "align_items": null,
            "bottom": null,
            "_model_module": "@jupyter-widgets/base",
            "top": null,
            "grid_column": null,
            "overflow_y": null,
            "overflow_x": null,
            "grid_auto_flow": null,
            "grid_area": null,
            "grid_template_columns": null,
            "flex": null,
            "_model_name": "LayoutModel",
            "justify_items": null,
            "grid_row": null,
            "max_height": null,
            "align_content": null,
            "visibility": null,
            "align_self": null,
            "height": null,
            "min_height": null,
            "padding": null,
            "grid_auto_rows": null,
            "grid_gap": null,
            "max_width": null,
            "order": null,
            "_view_module_version": "1.2.0",
            "grid_template_areas": null,
            "object_position": null,
            "object_fit": null,
            "grid_auto_columns": null,
            "margin": null,
            "display": null,
            "left": null
          }
        },
        "3951e1484d2a4777b46b87030796e822": {
          "model_module": "@jupyter-widgets/controls",
          "model_name": "DescriptionStyleModel",
          "state": {
            "_view_name": "StyleView",
            "_model_name": "DescriptionStyleModel",
            "description_width": "",
            "_view_module": "@jupyter-widgets/base",
            "_model_module_version": "1.5.0",
            "_view_count": null,
            "_view_module_version": "1.2.0",
            "_model_module": "@jupyter-widgets/controls"
          }
        },
        "6d97fca99ad246db9849da2536f16454": {
          "model_module": "@jupyter-widgets/base",
          "model_name": "LayoutModel",
          "state": {
            "_view_name": "LayoutView",
            "grid_template_rows": null,
            "right": null,
            "justify_content": null,
            "_view_module": "@jupyter-widgets/base",
            "overflow": null,
            "_model_module_version": "1.2.0",
            "_view_count": null,
            "flex_flow": null,
            "width": null,
            "min_width": null,
            "border": null,
            "align_items": null,
            "bottom": null,
            "_model_module": "@jupyter-widgets/base",
            "top": null,
            "grid_column": null,
            "overflow_y": null,
            "overflow_x": null,
            "grid_auto_flow": null,
            "grid_area": null,
            "grid_template_columns": null,
            "flex": null,
            "_model_name": "LayoutModel",
            "justify_items": null,
            "grid_row": null,
            "max_height": null,
            "align_content": null,
            "visibility": null,
            "align_self": null,
            "height": null,
            "min_height": null,
            "padding": null,
            "grid_auto_rows": null,
            "grid_gap": null,
            "max_width": null,
            "order": null,
            "_view_module_version": "1.2.0",
            "grid_template_areas": null,
            "object_position": null,
            "object_fit": null,
            "grid_auto_columns": null,
            "margin": null,
            "display": null,
            "left": null
          }
        },
        "59d38e2152164f8daaf74e5da6ad7e1f": {
          "model_module": "@jupyter-widgets/controls",
          "model_name": "HBoxModel",
          "state": {
            "_view_name": "HBoxView",
            "_dom_classes": [],
            "_model_name": "HBoxModel",
            "_view_module": "@jupyter-widgets/controls",
            "_model_module_version": "1.5.0",
            "_view_count": null,
            "_view_module_version": "1.5.0",
            "box_style": "",
            "layout": "IPY_MODEL_ce6ec4cb4fb244f7a1a4f010dcd75462",
            "_model_module": "@jupyter-widgets/controls",
            "children": [
              "IPY_MODEL_19a55c79ac6f40e79cfcac8244b7666b",
              "IPY_MODEL_ddac4802f1fc4485bbb3393ef8da50e0"
            ]
          }
        },
        "ce6ec4cb4fb244f7a1a4f010dcd75462": {
          "model_module": "@jupyter-widgets/base",
          "model_name": "LayoutModel",
          "state": {
            "_view_name": "LayoutView",
            "grid_template_rows": null,
            "right": null,
            "justify_content": null,
            "_view_module": "@jupyter-widgets/base",
            "overflow": null,
            "_model_module_version": "1.2.0",
            "_view_count": null,
            "flex_flow": null,
            "width": null,
            "min_width": null,
            "border": null,
            "align_items": null,
            "bottom": null,
            "_model_module": "@jupyter-widgets/base",
            "top": null,
            "grid_column": null,
            "overflow_y": null,
            "overflow_x": null,
            "grid_auto_flow": null,
            "grid_area": null,
            "grid_template_columns": null,
            "flex": null,
            "_model_name": "LayoutModel",
            "justify_items": null,
            "grid_row": null,
            "max_height": null,
            "align_content": null,
            "visibility": null,
            "align_self": null,
            "height": null,
            "min_height": null,
            "padding": null,
            "grid_auto_rows": null,
            "grid_gap": null,
            "max_width": null,
            "order": null,
            "_view_module_version": "1.2.0",
            "grid_template_areas": null,
            "object_position": null,
            "object_fit": null,
            "grid_auto_columns": null,
            "margin": null,
            "display": null,
            "left": null
          }
        },
        "19a55c79ac6f40e79cfcac8244b7666b": {
          "model_module": "@jupyter-widgets/controls",
          "model_name": "FloatProgressModel",
          "state": {
            "_view_name": "ProgressView",
            "style": "IPY_MODEL_eec01e8684574576b4fb6452f681ffa8",
            "_dom_classes": [],
            "description": "Downloading: 100%",
            "_model_name": "FloatProgressModel",
            "bar_style": "success",
            "max": 657434796,
            "_view_module": "@jupyter-widgets/controls",
            "_model_module_version": "1.5.0",
            "value": 657434796,
            "_view_count": null,
            "_view_module_version": "1.5.0",
            "orientation": "horizontal",
            "min": 0,
            "description_tooltip": null,
            "_model_module": "@jupyter-widgets/controls",
            "layout": "IPY_MODEL_568d8d3db59a4946bddaa73921f8ae0f"
          }
        },
        "ddac4802f1fc4485bbb3393ef8da50e0": {
          "model_module": "@jupyter-widgets/controls",
          "model_name": "HTMLModel",
          "state": {
            "_view_name": "HTMLView",
            "style": "IPY_MODEL_54e3797151d344e4a06be59ded0ff8a7",
            "_dom_classes": [],
            "description": "",
            "_model_name": "HTMLModel",
            "placeholder": "​",
            "_view_module": "@jupyter-widgets/controls",
            "_model_module_version": "1.5.0",
            "value": " 657M/657M [00:09&lt;00:00, 67.8MB/s]",
            "_view_count": null,
            "_view_module_version": "1.5.0",
            "description_tooltip": null,
            "_model_module": "@jupyter-widgets/controls",
            "layout": "IPY_MODEL_2815d0e5e1fb4d32a73c051230ed7f3f"
          }
        },
        "eec01e8684574576b4fb6452f681ffa8": {
          "model_module": "@jupyter-widgets/controls",
          "model_name": "ProgressStyleModel",
          "state": {
            "_view_name": "StyleView",
            "_model_name": "ProgressStyleModel",
            "description_width": "initial",
            "_view_module": "@jupyter-widgets/base",
            "_model_module_version": "1.5.0",
            "_view_count": null,
            "_view_module_version": "1.2.0",
            "bar_color": null,
            "_model_module": "@jupyter-widgets/controls"
          }
        },
        "568d8d3db59a4946bddaa73921f8ae0f": {
          "model_module": "@jupyter-widgets/base",
          "model_name": "LayoutModel",
          "state": {
            "_view_name": "LayoutView",
            "grid_template_rows": null,
            "right": null,
            "justify_content": null,
            "_view_module": "@jupyter-widgets/base",
            "overflow": null,
            "_model_module_version": "1.2.0",
            "_view_count": null,
            "flex_flow": null,
            "width": null,
            "min_width": null,
            "border": null,
            "align_items": null,
            "bottom": null,
            "_model_module": "@jupyter-widgets/base",
            "top": null,
            "grid_column": null,
            "overflow_y": null,
            "overflow_x": null,
            "grid_auto_flow": null,
            "grid_area": null,
            "grid_template_columns": null,
            "flex": null,
            "_model_name": "LayoutModel",
            "justify_items": null,
            "grid_row": null,
            "max_height": null,
            "align_content": null,
            "visibility": null,
            "align_self": null,
            "height": null,
            "min_height": null,
            "padding": null,
            "grid_auto_rows": null,
            "grid_gap": null,
            "max_width": null,
            "order": null,
            "_view_module_version": "1.2.0",
            "grid_template_areas": null,
            "object_position": null,
            "object_fit": null,
            "grid_auto_columns": null,
            "margin": null,
            "display": null,
            "left": null
          }
        },
        "54e3797151d344e4a06be59ded0ff8a7": {
          "model_module": "@jupyter-widgets/controls",
          "model_name": "DescriptionStyleModel",
          "state": {
            "_view_name": "StyleView",
            "_model_name": "DescriptionStyleModel",
            "description_width": "",
            "_view_module": "@jupyter-widgets/base",
            "_model_module_version": "1.5.0",
            "_view_count": null,
            "_view_module_version": "1.2.0",
            "_model_module": "@jupyter-widgets/controls"
          }
        },
        "2815d0e5e1fb4d32a73c051230ed7f3f": {
          "model_module": "@jupyter-widgets/base",
          "model_name": "LayoutModel",
          "state": {
            "_view_name": "LayoutView",
            "grid_template_rows": null,
            "right": null,
            "justify_content": null,
            "_view_module": "@jupyter-widgets/base",
            "overflow": null,
            "_model_module_version": "1.2.0",
            "_view_count": null,
            "flex_flow": null,
            "width": null,
            "min_width": null,
            "border": null,
            "align_items": null,
            "bottom": null,
            "_model_module": "@jupyter-widgets/base",
            "top": null,
            "grid_column": null,
            "overflow_y": null,
            "overflow_x": null,
            "grid_auto_flow": null,
            "grid_area": null,
            "grid_template_columns": null,
            "flex": null,
            "_model_name": "LayoutModel",
            "justify_items": null,
            "grid_row": null,
            "max_height": null,
            "align_content": null,
            "visibility": null,
            "align_self": null,
            "height": null,
            "min_height": null,
            "padding": null,
            "grid_auto_rows": null,
            "grid_gap": null,
            "max_width": null,
            "order": null,
            "_view_module_version": "1.2.0",
            "grid_template_areas": null,
            "object_position": null,
            "object_fit": null,
            "grid_auto_columns": null,
            "margin": null,
            "display": null,
            "left": null
          }
        },
        "70892de5cdb04cd19d253240442b8403": {
          "model_module": "@jupyter-widgets/controls",
          "model_name": "HBoxModel",
          "state": {
            "_view_name": "HBoxView",
            "_dom_classes": [],
            "_model_name": "HBoxModel",
            "_view_module": "@jupyter-widgets/controls",
            "_model_module_version": "1.5.0",
            "_view_count": null,
            "_view_module_version": "1.5.0",
            "box_style": "",
            "layout": "IPY_MODEL_50f7ef0c54ac45f68dfb1eba3c841e4c",
            "_model_module": "@jupyter-widgets/controls",
            "children": [
              "IPY_MODEL_4755a69b401d4deabb8884b448faf9b5",
              "IPY_MODEL_5777e8022b324116bcad7ea0ff87a7b6"
            ]
          }
        },
        "50f7ef0c54ac45f68dfb1eba3c841e4c": {
          "model_module": "@jupyter-widgets/base",
          "model_name": "LayoutModel",
          "state": {
            "_view_name": "LayoutView",
            "grid_template_rows": null,
            "right": null,
            "justify_content": null,
            "_view_module": "@jupyter-widgets/base",
            "overflow": null,
            "_model_module_version": "1.2.0",
            "_view_count": null,
            "flex_flow": null,
            "width": null,
            "min_width": null,
            "border": null,
            "align_items": null,
            "bottom": null,
            "_model_module": "@jupyter-widgets/base",
            "top": null,
            "grid_column": null,
            "overflow_y": null,
            "overflow_x": null,
            "grid_auto_flow": null,
            "grid_area": null,
            "grid_template_columns": null,
            "flex": null,
            "_model_name": "LayoutModel",
            "justify_items": null,
            "grid_row": null,
            "max_height": null,
            "align_content": null,
            "visibility": null,
            "align_self": null,
            "height": null,
            "min_height": null,
            "padding": null,
            "grid_auto_rows": null,
            "grid_gap": null,
            "max_width": null,
            "order": null,
            "_view_module_version": "1.2.0",
            "grid_template_areas": null,
            "object_position": null,
            "object_fit": null,
            "grid_auto_columns": null,
            "margin": null,
            "display": null,
            "left": null
          }
        },
        "4755a69b401d4deabb8884b448faf9b5": {
          "model_module": "@jupyter-widgets/controls",
          "model_name": "FloatProgressModel",
          "state": {
            "_view_name": "ProgressView",
            "style": "IPY_MODEL_61ca6591da3e4c72a5719892d04a37cf",
            "_dom_classes": [],
            "description": "100%",
            "_model_name": "FloatProgressModel",
            "bar_style": "success",
            "max": 87364,
            "_view_module": "@jupyter-widgets/controls",
            "_model_module_version": "1.5.0",
            "value": 87364,
            "_view_count": null,
            "_view_module_version": "1.5.0",
            "orientation": "horizontal",
            "min": 0,
            "description_tooltip": null,
            "_model_module": "@jupyter-widgets/controls",
            "layout": "IPY_MODEL_0c39c2ec102d43a98c84a18e963ecff1"
          }
        },
        "5777e8022b324116bcad7ea0ff87a7b6": {
          "model_module": "@jupyter-widgets/controls",
          "model_name": "HTMLModel",
          "state": {
            "_view_name": "HTMLView",
            "style": "IPY_MODEL_cb6ea224c70741c7af358ade84c16677",
            "_dom_classes": [],
            "description": "",
            "_model_name": "HTMLModel",
            "placeholder": "​",
            "_view_module": "@jupyter-widgets/controls",
            "_model_module_version": "1.5.0",
            "value": " 87364/87364 [01:02&lt;00:00, 1397.63it/s]",
            "_view_count": null,
            "_view_module_version": "1.5.0",
            "description_tooltip": null,
            "_model_module": "@jupyter-widgets/controls",
            "layout": "IPY_MODEL_7e932dbe2a164c488b1ac7491833b0f8"
          }
        },
        "61ca6591da3e4c72a5719892d04a37cf": {
          "model_module": "@jupyter-widgets/controls",
          "model_name": "ProgressStyleModel",
          "state": {
            "_view_name": "StyleView",
            "_model_name": "ProgressStyleModel",
            "description_width": "initial",
            "_view_module": "@jupyter-widgets/base",
            "_model_module_version": "1.5.0",
            "_view_count": null,
            "_view_module_version": "1.2.0",
            "bar_color": null,
            "_model_module": "@jupyter-widgets/controls"
          }
        },
        "0c39c2ec102d43a98c84a18e963ecff1": {
          "model_module": "@jupyter-widgets/base",
          "model_name": "LayoutModel",
          "state": {
            "_view_name": "LayoutView",
            "grid_template_rows": null,
            "right": null,
            "justify_content": null,
            "_view_module": "@jupyter-widgets/base",
            "overflow": null,
            "_model_module_version": "1.2.0",
            "_view_count": null,
            "flex_flow": null,
            "width": null,
            "min_width": null,
            "border": null,
            "align_items": null,
            "bottom": null,
            "_model_module": "@jupyter-widgets/base",
            "top": null,
            "grid_column": null,
            "overflow_y": null,
            "overflow_x": null,
            "grid_auto_flow": null,
            "grid_area": null,
            "grid_template_columns": null,
            "flex": null,
            "_model_name": "LayoutModel",
            "justify_items": null,
            "grid_row": null,
            "max_height": null,
            "align_content": null,
            "visibility": null,
            "align_self": null,
            "height": null,
            "min_height": null,
            "padding": null,
            "grid_auto_rows": null,
            "grid_gap": null,
            "max_width": null,
            "order": null,
            "_view_module_version": "1.2.0",
            "grid_template_areas": null,
            "object_position": null,
            "object_fit": null,
            "grid_auto_columns": null,
            "margin": null,
            "display": null,
            "left": null
          }
        },
        "cb6ea224c70741c7af358ade84c16677": {
          "model_module": "@jupyter-widgets/controls",
          "model_name": "DescriptionStyleModel",
          "state": {
            "_view_name": "StyleView",
            "_model_name": "DescriptionStyleModel",
            "description_width": "",
            "_view_module": "@jupyter-widgets/base",
            "_model_module_version": "1.5.0",
            "_view_count": null,
            "_view_module_version": "1.2.0",
            "_model_module": "@jupyter-widgets/controls"
          }
        },
        "7e932dbe2a164c488b1ac7491833b0f8": {
          "model_module": "@jupyter-widgets/base",
          "model_name": "LayoutModel",
          "state": {
            "_view_name": "LayoutView",
            "grid_template_rows": null,
            "right": null,
            "justify_content": null,
            "_view_module": "@jupyter-widgets/base",
            "overflow": null,
            "_model_module_version": "1.2.0",
            "_view_count": null,
            "flex_flow": null,
            "width": null,
            "min_width": null,
            "border": null,
            "align_items": null,
            "bottom": null,
            "_model_module": "@jupyter-widgets/base",
            "top": null,
            "grid_column": null,
            "overflow_y": null,
            "overflow_x": null,
            "grid_auto_flow": null,
            "grid_area": null,
            "grid_template_columns": null,
            "flex": null,
            "_model_name": "LayoutModel",
            "justify_items": null,
            "grid_row": null,
            "max_height": null,
            "align_content": null,
            "visibility": null,
            "align_self": null,
            "height": null,
            "min_height": null,
            "padding": null,
            "grid_auto_rows": null,
            "grid_gap": null,
            "max_width": null,
            "order": null,
            "_view_module_version": "1.2.0",
            "grid_template_areas": null,
            "object_position": null,
            "object_fit": null,
            "grid_auto_columns": null,
            "margin": null,
            "display": null,
            "left": null
          }
        },
        "7b86f6948a344367b590273b32082874": {
          "model_module": "@jupyter-widgets/controls",
          "model_name": "HBoxModel",
          "state": {
            "_view_name": "HBoxView",
            "_dom_classes": [],
            "_model_name": "HBoxModel",
            "_view_module": "@jupyter-widgets/controls",
            "_model_module_version": "1.5.0",
            "_view_count": null,
            "_view_module_version": "1.5.0",
            "box_style": "",
            "layout": "IPY_MODEL_7e8003285be0415c82767e5fe4886283",
            "_model_module": "@jupyter-widgets/controls",
            "children": [
              "IPY_MODEL_e297d47e457640cc8cea2bceac63d113",
              "IPY_MODEL_47673cc866234e4a88198d4fc8f7222d"
            ]
          }
        },
        "7e8003285be0415c82767e5fe4886283": {
          "model_module": "@jupyter-widgets/base",
          "model_name": "LayoutModel",
          "state": {
            "_view_name": "LayoutView",
            "grid_template_rows": null,
            "right": null,
            "justify_content": null,
            "_view_module": "@jupyter-widgets/base",
            "overflow": null,
            "_model_module_version": "1.2.0",
            "_view_count": null,
            "flex_flow": null,
            "width": null,
            "min_width": null,
            "border": null,
            "align_items": null,
            "bottom": null,
            "_model_module": "@jupyter-widgets/base",
            "top": null,
            "grid_column": null,
            "overflow_y": null,
            "overflow_x": null,
            "grid_auto_flow": null,
            "grid_area": null,
            "grid_template_columns": null,
            "flex": null,
            "_model_name": "LayoutModel",
            "justify_items": null,
            "grid_row": null,
            "max_height": null,
            "align_content": null,
            "visibility": null,
            "align_self": null,
            "height": null,
            "min_height": null,
            "padding": null,
            "grid_auto_rows": null,
            "grid_gap": null,
            "max_width": null,
            "order": null,
            "_view_module_version": "1.2.0",
            "grid_template_areas": null,
            "object_position": null,
            "object_fit": null,
            "grid_auto_columns": null,
            "margin": null,
            "display": null,
            "left": null
          }
        },
        "e297d47e457640cc8cea2bceac63d113": {
          "model_module": "@jupyter-widgets/controls",
          "model_name": "FloatProgressModel",
          "state": {
            "_view_name": "ProgressView",
            "style": "IPY_MODEL_e68ada1871c84b8f8aeace70d723d3aa",
            "_dom_classes": [],
            "description": "100%",
            "_model_name": "FloatProgressModel",
            "bar_style": "success",
            "max": 10570,
            "_view_module": "@jupyter-widgets/controls",
            "_model_module_version": "1.5.0",
            "value": 10570,
            "_view_count": null,
            "_view_module_version": "1.5.0",
            "orientation": "horizontal",
            "min": 0,
            "description_tooltip": null,
            "_model_module": "@jupyter-widgets/controls",
            "layout": "IPY_MODEL_11ab08e8662647a386665a63fc6e67b0"
          }
        },
        "47673cc866234e4a88198d4fc8f7222d": {
          "model_module": "@jupyter-widgets/controls",
          "model_name": "HTMLModel",
          "state": {
            "_view_name": "HTMLView",
            "style": "IPY_MODEL_ee23841b2894422ea71a5c24609d61e7",
            "_dom_classes": [],
            "description": "",
            "_model_name": "HTMLModel",
            "placeholder": "​",
            "_view_module": "@jupyter-widgets/controls",
            "_model_module_version": "1.5.0",
            "value": " 10570/10570 [00:07&lt;00:00, 1356.88it/s]",
            "_view_count": null,
            "_view_module_version": "1.5.0",
            "description_tooltip": null,
            "_model_module": "@jupyter-widgets/controls",
            "layout": "IPY_MODEL_03af8b5e2491452690a864d419ea5498"
          }
        },
        "e68ada1871c84b8f8aeace70d723d3aa": {
          "model_module": "@jupyter-widgets/controls",
          "model_name": "ProgressStyleModel",
          "state": {
            "_view_name": "StyleView",
            "_model_name": "ProgressStyleModel",
            "description_width": "initial",
            "_view_module": "@jupyter-widgets/base",
            "_model_module_version": "1.5.0",
            "_view_count": null,
            "_view_module_version": "1.2.0",
            "bar_color": null,
            "_model_module": "@jupyter-widgets/controls"
          }
        },
        "11ab08e8662647a386665a63fc6e67b0": {
          "model_module": "@jupyter-widgets/base",
          "model_name": "LayoutModel",
          "state": {
            "_view_name": "LayoutView",
            "grid_template_rows": null,
            "right": null,
            "justify_content": null,
            "_view_module": "@jupyter-widgets/base",
            "overflow": null,
            "_model_module_version": "1.2.0",
            "_view_count": null,
            "flex_flow": null,
            "width": null,
            "min_width": null,
            "border": null,
            "align_items": null,
            "bottom": null,
            "_model_module": "@jupyter-widgets/base",
            "top": null,
            "grid_column": null,
            "overflow_y": null,
            "overflow_x": null,
            "grid_auto_flow": null,
            "grid_area": null,
            "grid_template_columns": null,
            "flex": null,
            "_model_name": "LayoutModel",
            "justify_items": null,
            "grid_row": null,
            "max_height": null,
            "align_content": null,
            "visibility": null,
            "align_self": null,
            "height": null,
            "min_height": null,
            "padding": null,
            "grid_auto_rows": null,
            "grid_gap": null,
            "max_width": null,
            "order": null,
            "_view_module_version": "1.2.0",
            "grid_template_areas": null,
            "object_position": null,
            "object_fit": null,
            "grid_auto_columns": null,
            "margin": null,
            "display": null,
            "left": null
          }
        },
        "ee23841b2894422ea71a5c24609d61e7": {
          "model_module": "@jupyter-widgets/controls",
          "model_name": "DescriptionStyleModel",
          "state": {
            "_view_name": "StyleView",
            "_model_name": "DescriptionStyleModel",
            "description_width": "",
            "_view_module": "@jupyter-widgets/base",
            "_model_module_version": "1.5.0",
            "_view_count": null,
            "_view_module_version": "1.2.0",
            "_model_module": "@jupyter-widgets/controls"
          }
        },
        "03af8b5e2491452690a864d419ea5498": {
          "model_module": "@jupyter-widgets/base",
          "model_name": "LayoutModel",
          "state": {
            "_view_name": "LayoutView",
            "grid_template_rows": null,
            "right": null,
            "justify_content": null,
            "_view_module": "@jupyter-widgets/base",
            "overflow": null,
            "_model_module_version": "1.2.0",
            "_view_count": null,
            "flex_flow": null,
            "width": null,
            "min_width": null,
            "border": null,
            "align_items": null,
            "bottom": null,
            "_model_module": "@jupyter-widgets/base",
            "top": null,
            "grid_column": null,
            "overflow_y": null,
            "overflow_x": null,
            "grid_auto_flow": null,
            "grid_area": null,
            "grid_template_columns": null,
            "flex": null,
            "_model_name": "LayoutModel",
            "justify_items": null,
            "grid_row": null,
            "max_height": null,
            "align_content": null,
            "visibility": null,
            "align_self": null,
            "height": null,
            "min_height": null,
            "padding": null,
            "grid_auto_rows": null,
            "grid_gap": null,
            "max_width": null,
            "order": null,
            "_view_module_version": "1.2.0",
            "grid_template_areas": null,
            "object_position": null,
            "object_fit": null,
            "grid_auto_columns": null,
            "margin": null,
            "display": null,
            "left": null
          }
        }
      }
    }
  },
  "cells": [
    {
      "cell_type": "markdown",
      "metadata": {
        "id": "view-in-github",
        "colab_type": "text"
      },
      "source": [
        "<a href=\"https://colab.research.google.com/github/the-SQuAD-squad/QA/blob/huggingface-regression/QA.ipynb\" target=\"_parent\"><img src=\"https://colab.research.google.com/assets/colab-badge.svg\" alt=\"Open In Colab\"/></a>"
      ]
    },
    {
      "cell_type": "code",
      "metadata": {
        "id": "ZmkNAxSnaD9n",
        "colab": {
          "base_uri": "https://localhost:8080/",
          "height": 996,
          "referenced_widgets": [
            "0426974695844ebc9b23f6f32a5ff73b",
            "1dd3cf0e2c2e438b8736636ab3c57eec",
            "c08f4bc66481411faed3e022c4cf50a8",
            "220dee8970394bdc87e32bdef4a5bcd1",
            "4a7726fe0a3e4e999908113997384c69",
            "a11661160dc845469fb1592f7950d92f",
            "6cd1f052b4ab423781dae195021ef383",
            "64a38e126b414ef8aeedb928b39ad628",
            "c8bc2d115c284fdfa9dab05472f6d37b",
            "b20ae3f19cb544c191c4d1dfe47c162e",
            "58e3f71f9f0b4f4187cf497a98a74a46",
            "72e6a02218c54e82a11323ee0d7ecf2d",
            "4954f165fb754187ba3b8b3d1d3aabd1",
            "b35af8052f6e429d9d0c9c93db5beccb",
            "2035c01a8ccf47b794a944ec8c87f63d",
            "67e0ca9fcd09417eac6bbc3875302dbf",
            "2d3264b8409f47deb6b0d1863f52021f",
            "a41faa66600e4486b2e127a3bfbd230c",
            "f61b419add31410daeec7f55d1b4193a",
            "f2fabf7bb9a44d8f8b451098ca42da6c",
            "1192f06cdabf49dda3e57332e03de5f3",
            "a3278aeef50248938ab797c567dab45d",
            "624d0de8d6b540799300270b6424ef7c",
            "9f8dbd990054450ba24f1e168f0ab86f",
            "c885f872dc6d4b80914d6e999260dd69",
            "cd3e01bedb2f45c4977718b649dd8d3d",
            "41ae0de92f694b54895edf9d5ae1d39c",
            "c59ff0023267490484e97e26ee5276ab",
            "f73b8ace7f44473e8eccfbe1b91ca2f6",
            "17212be0cf4b4fc7b0d994ca0bf8f8c1",
            "3951e1484d2a4777b46b87030796e822",
            "6d97fca99ad246db9849da2536f16454",
            "59d38e2152164f8daaf74e5da6ad7e1f",
            "ce6ec4cb4fb244f7a1a4f010dcd75462",
            "19a55c79ac6f40e79cfcac8244b7666b",
            "ddac4802f1fc4485bbb3393ef8da50e0",
            "eec01e8684574576b4fb6452f681ffa8",
            "568d8d3db59a4946bddaa73921f8ae0f",
            "54e3797151d344e4a06be59ded0ff8a7",
            "2815d0e5e1fb4d32a73c051230ed7f3f"
          ]
        },
        "outputId": "c24bad35-c0a6-4817-a23a-b4258711d7b9"
      },
      "source": [
        "#@title Init { form-width: \"25%\" }\r\n",
        "import os\r\n",
        "import random\r\n",
        "import math\r\n",
        "import numpy as np\r\n",
        "import tensorflow as tf\r\n",
        "import json\r\n",
        "import pandas as pd\r\n",
        "import re\r\n",
        "import string\r\n",
        "import tensorflow_hub as hub\r\n",
        "from tensorflow import keras\r\n",
        "from tensorflow.keras import layers\r\n",
        "\r\n",
        "!pip install 'Transformers==4.3'\r\n",
        "import transformers\r\n",
        "from transformers import AutoTokenizer\r\n",
        "pd.set_option('display.max_colwidth', -1)\r\n",
        "\r\n",
        "# fix random seeds\r\n",
        "seed_value = 42 #@param {type:\"integer\"}\r\n",
        "\r\n",
        "os.environ['PYTHONHASHSEED']=str(seed_value)\r\n",
        "random.seed(seed_value)\r\n",
        "np.random.seed(seed_value)\r\n",
        "\r\n",
        "tf.compat.v1.set_random_seed(seed_value)\r\n",
        "\r\n",
        "session_conf = tf.compat.v1.ConfigProto(intra_op_parallelism_threads=1, inter_op_parallelism_threads=1)\r\n",
        "sess = tf.compat.v1.Session(graph=tf.compat.v1.get_default_graph(), config=session_conf)\r\n",
        "tf.compat.v1.keras.backend.set_session(sess)\r\n",
        "\r\n",
        "# BERT params\r\n",
        "max_seq_length = 512\r\n",
        "\r\n",
        "pretrained_model_str = \"roberta-base\"\r\n",
        "tokenizer = AutoTokenizer.from_pretrained(pretrained_model_str)\r\n",
        "\r\n",
        "bert_hf_layer = transformers.TFRobertaModel.from_pretrained(\r\n",
        "    pretrained_model_str, output_attentions=True)\r\n"
      ],
      "execution_count": null,
      "outputs": [
        {
          "output_type": "stream",
          "text": [
            "Collecting tokenizers\n",
            "\u001b[?25l  Downloading https://files.pythonhosted.org/packages/71/23/2ddc317b2121117bf34dd00f5b0de194158f2a44ee2bf5e47c7166878a97/tokenizers-0.10.1-cp37-cp37m-manylinux2010_x86_64.whl (3.2MB)\n",
            "\u001b[K     |████████████████████████████████| 3.2MB 4.2MB/s \n",
            "\u001b[?25hInstalling collected packages: tokenizers\n",
            "Successfully installed tokenizers-0.10.1\n",
            "Collecting transformers\n",
            "\u001b[?25l  Downloading https://files.pythonhosted.org/packages/f9/54/5ca07ec9569d2f232f3166de5457b63943882f7950ddfcc887732fc7fb23/transformers-4.3.3-py3-none-any.whl (1.9MB)\n",
            "\u001b[K     |████████████████████████████████| 1.9MB 5.8MB/s \n",
            "\u001b[?25hRequirement already satisfied: regex!=2019.12.17 in /usr/local/lib/python3.7/dist-packages (from transformers) (2019.12.20)\n",
            "Requirement already satisfied: requests in /usr/local/lib/python3.7/dist-packages (from transformers) (2.23.0)\n",
            "Requirement already satisfied: importlib-metadata; python_version < \"3.8\" in /usr/local/lib/python3.7/dist-packages (from transformers) (3.4.0)\n",
            "Requirement already satisfied: packaging in /usr/local/lib/python3.7/dist-packages (from transformers) (20.9)\n",
            "Requirement already satisfied: numpy>=1.17 in /usr/local/lib/python3.7/dist-packages (from transformers) (1.19.5)\n",
            "Collecting sacremoses\n",
            "\u001b[?25l  Downloading https://files.pythonhosted.org/packages/7d/34/09d19aff26edcc8eb2a01bed8e98f13a1537005d31e95233fd48216eed10/sacremoses-0.0.43.tar.gz (883kB)\n",
            "\u001b[K     |████████████████████████████████| 890kB 68.6MB/s \n",
            "\u001b[?25hRequirement already satisfied: tokenizers<0.11,>=0.10.1 in /usr/local/lib/python3.7/dist-packages (from transformers) (0.10.1)\n",
            "Requirement already satisfied: filelock in /usr/local/lib/python3.7/dist-packages (from transformers) (3.0.12)\n",
            "Requirement already satisfied: tqdm>=4.27 in /usr/local/lib/python3.7/dist-packages (from transformers) (4.41.1)\n",
            "Requirement already satisfied: certifi>=2017.4.17 in /usr/local/lib/python3.7/dist-packages (from requests->transformers) (2020.12.5)\n",
            "Requirement already satisfied: urllib3!=1.25.0,!=1.25.1,<1.26,>=1.21.1 in /usr/local/lib/python3.7/dist-packages (from requests->transformers) (1.24.3)\n",
            "Requirement already satisfied: idna<3,>=2.5 in /usr/local/lib/python3.7/dist-packages (from requests->transformers) (2.10)\n",
            "Requirement already satisfied: chardet<4,>=3.0.2 in /usr/local/lib/python3.7/dist-packages (from requests->transformers) (3.0.4)\n",
            "Requirement already satisfied: typing-extensions>=3.6.4; python_version < \"3.8\" in /usr/local/lib/python3.7/dist-packages (from importlib-metadata; python_version < \"3.8\"->transformers) (3.7.4.3)\n",
            "Requirement already satisfied: zipp>=0.5 in /usr/local/lib/python3.7/dist-packages (from importlib-metadata; python_version < \"3.8\"->transformers) (3.4.0)\n",
            "Requirement already satisfied: pyparsing>=2.0.2 in /usr/local/lib/python3.7/dist-packages (from packaging->transformers) (2.4.7)\n",
            "Requirement already satisfied: six in /usr/local/lib/python3.7/dist-packages (from sacremoses->transformers) (1.15.0)\n",
            "Requirement already satisfied: click in /usr/local/lib/python3.7/dist-packages (from sacremoses->transformers) (7.1.2)\n",
            "Requirement already satisfied: joblib in /usr/local/lib/python3.7/dist-packages (from sacremoses->transformers) (1.0.1)\n",
            "Building wheels for collected packages: sacremoses\n",
            "  Building wheel for sacremoses (setup.py) ... \u001b[?25l\u001b[?25hdone\n",
            "  Created wheel for sacremoses: filename=sacremoses-0.0.43-cp37-none-any.whl size=893262 sha256=519da77bd61855e281adfa382bd3ffff0dd9ddb2ff5d936780db781ff18fe519\n",
            "  Stored in directory: /root/.cache/pip/wheels/29/3c/fd/7ce5c3f0666dab31a50123635e6fb5e19ceb42ce38d4e58f45\n",
            "Successfully built sacremoses\n",
            "Installing collected packages: sacremoses, transformers\n",
            "Successfully installed sacremoses-0.0.43 transformers-4.3.3\n"
          ],
          "name": "stdout"
        },
        {
          "output_type": "stream",
          "text": [
            "/usr/local/lib/python3.7/dist-packages/ipykernel_launcher.py:21: FutureWarning: Passing a negative integer is deprecated in version 1.0 and will not be supported in future version. Instead, use None to not limit the column width.\n"
          ],
          "name": "stderr"
        },
        {
          "output_type": "display_data",
          "data": {
            "application/vnd.jupyter.widget-view+json": {
              "model_id": "0426974695844ebc9b23f6f32a5ff73b",
              "version_minor": 0,
              "version_major": 2
            },
            "text/plain": [
              "HBox(children=(FloatProgress(value=0.0, description='Downloading', max=481.0, style=ProgressStyle(description_…"
            ]
          },
          "metadata": {
            "tags": []
          }
        },
        {
          "output_type": "stream",
          "text": [
            "\n"
          ],
          "name": "stdout"
        },
        {
          "output_type": "display_data",
          "data": {
            "application/vnd.jupyter.widget-view+json": {
              "model_id": "c8bc2d115c284fdfa9dab05472f6d37b",
              "version_minor": 0,
              "version_major": 2
            },
            "text/plain": [
              "HBox(children=(FloatProgress(value=0.0, description='Downloading', max=898823.0, style=ProgressStyle(descripti…"
            ]
          },
          "metadata": {
            "tags": []
          }
        },
        {
          "output_type": "stream",
          "text": [
            "\n"
          ],
          "name": "stdout"
        },
        {
          "output_type": "display_data",
          "data": {
            "application/vnd.jupyter.widget-view+json": {
              "model_id": "2d3264b8409f47deb6b0d1863f52021f",
              "version_minor": 0,
              "version_major": 2
            },
            "text/plain": [
              "HBox(children=(FloatProgress(value=0.0, description='Downloading', max=456318.0, style=ProgressStyle(descripti…"
            ]
          },
          "metadata": {
            "tags": []
          }
        },
        {
          "output_type": "stream",
          "text": [
            "\n"
          ],
          "name": "stdout"
        },
        {
          "output_type": "display_data",
          "data": {
            "application/vnd.jupyter.widget-view+json": {
              "model_id": "c885f872dc6d4b80914d6e999260dd69",
              "version_minor": 0,
              "version_major": 2
            },
            "text/plain": [
              "HBox(children=(FloatProgress(value=0.0, description='Downloading', max=1355863.0, style=ProgressStyle(descript…"
            ]
          },
          "metadata": {
            "tags": []
          }
        },
        {
          "output_type": "stream",
          "text": [
            "\n"
          ],
          "name": "stdout"
        },
        {
          "output_type": "display_data",
          "data": {
            "application/vnd.jupyter.widget-view+json": {
              "model_id": "59d38e2152164f8daaf74e5da6ad7e1f",
              "version_minor": 0,
              "version_major": 2
            },
            "text/plain": [
              "HBox(children=(FloatProgress(value=0.0, description='Downloading', max=657434796.0, style=ProgressStyle(descri…"
            ]
          },
          "metadata": {
            "tags": []
          }
        },
        {
          "output_type": "stream",
          "text": [
            "\n"
          ],
          "name": "stdout"
        },
        {
          "output_type": "stream",
          "text": [
            "Some layers from the model checkpoint at roberta-base were not used when initializing TFRobertaModel: ['lm_head']\n",
            "- This IS expected if you are initializing TFRobertaModel from the checkpoint of a model trained on another task or with another architecture (e.g. initializing a BertForSequenceClassification model from a BertForPreTraining model).\n",
            "- This IS NOT expected if you are initializing TFRobertaModel from the checkpoint of a model that you expect to be exactly identical (initializing a BertForSequenceClassification model from a BertForSequenceClassification model).\n",
            "All the layers of TFRobertaModel were initialized from the model checkpoint at roberta-base.\n",
            "If your task is similar to the task the model of the checkpoint was trained on, you can already use TFRobertaModel for predictions without further training.\n"
          ],
          "name": "stderr"
        }
      ]
    },
    {
      "cell_type": "markdown",
      "metadata": {
        "id": "1RncxAGjM4vm"
      },
      "source": [
        "# Dataset creation"
      ]
    },
    {
      "cell_type": "code",
      "metadata": {
        "id": "El70BLeMa4np",
        "colab": {
          "base_uri": "https://localhost:8080/"
        },
        "outputId": "b0f7116e-a792-4e5d-fd9d-f35776f8946b"
      },
      "source": [
        "#@title df creation { form-width: \"25%\" }\n",
        "\n",
        "# the official dataset is identical to the provided one\n",
        "!wget https://rajpurkar.github.io/SQuAD-explorer/dataset/train-v1.1.json -O training_set.json\n",
        "\n",
        "with open(\"training_set.json\", \"r\") as f:\n",
        "    json_file = json.load(f)\n",
        "data = json_file[\"data\"]\n",
        "\n",
        "rows = []\n",
        "for document in data:\n",
        "  for par in document['paragraphs']:\n",
        "    for qas in par['qas']:\n",
        "      rows.append({\n",
        "        'id' : qas['id'],\n",
        "        'title': document[\"title\"],\n",
        "        'passage': par['context'],\n",
        "        'question' : qas['question'],\n",
        "        'answer_idx' : (qas['answers'][0]['answer_start'], \n",
        "                    qas['answers'][0]['answer_start'] + len(qas['answers'][0]['text'])),\n",
        "        'answer_text' : qas['answers'][0]['text']\n",
        "      })\n",
        "\n",
        "df_original = pd.DataFrame(rows)"
      ],
      "execution_count": null,
      "outputs": [
        {
          "output_type": "stream",
          "text": [
            "--2021-02-25 23:46:56--  https://rajpurkar.github.io/SQuAD-explorer/dataset/train-v1.1.json\n",
            "Resolving rajpurkar.github.io (rajpurkar.github.io)... 185.199.108.153, 185.199.109.153, 185.199.110.153, ...\n",
            "Connecting to rajpurkar.github.io (rajpurkar.github.io)|185.199.108.153|:443... connected.\n",
            "HTTP request sent, awaiting response... 200 OK\n",
            "Length: 30288272 (29M) [application/json]\n",
            "Saving to: ‘training_set.json’\n",
            "\n",
            "training_set.json   100%[===================>]  28.88M  55.4MB/s    in 0.5s    \n",
            "\n",
            "2021-02-25 23:46:58 (55.4 MB/s) - ‘training_set.json’ saved [30288272/30288272]\n",
            "\n"
          ],
          "name": "stdout"
        }
      ]
    },
    {
      "cell_type": "code",
      "metadata": {
        "id": "kHLX3Yv3ZBMB",
        "colab": {
          "base_uri": "https://localhost:8080/",
          "height": 1000
        },
        "outputId": "c67bb630-017d-495e-93a6-baa3f1c8e9ef"
      },
      "source": [
        "#@title clean dataset { form-width: \"25%\" }\r\n",
        "\r\n",
        "!gcloud config set project feisty-mechanic-221914\r\n",
        "!gsutil cp gs://squad_squad/error_IDs.txt ./error_IDs.txt\r\n",
        "\r\n",
        "with open(\"error_IDs.txt\", \"r\") as f:\r\n",
        "    unwanted_id = f.read()\r\n",
        "\r\n",
        "unwanted_id = unwanted_id.split(\"\\n\")[:-1]\r\n",
        "df_bert = df_original.set_index('id')\r\n",
        "df_bert = df_bert.drop(unwanted_id)\r\n",
        "df_bert.head()"
      ],
      "execution_count": null,
      "outputs": [
        {
          "output_type": "stream",
          "text": [
            "Updated property [core/project].\n",
            "Copying gs://squad_squad/error_IDs.txt...\n",
            "/ [1 files][  5.7 KiB/  5.7 KiB]                                                \n",
            "Operation completed over 1 objects/5.7 KiB.                                      \n"
          ],
          "name": "stdout"
        },
        {
          "output_type": "execute_result",
          "data": {
            "text/html": [
              "<div>\n",
              "<style scoped>\n",
              "    .dataframe tbody tr th:only-of-type {\n",
              "        vertical-align: middle;\n",
              "    }\n",
              "\n",
              "    .dataframe tbody tr th {\n",
              "        vertical-align: top;\n",
              "    }\n",
              "\n",
              "    .dataframe thead th {\n",
              "        text-align: right;\n",
              "    }\n",
              "</style>\n",
              "<table border=\"1\" class=\"dataframe\">\n",
              "  <thead>\n",
              "    <tr style=\"text-align: right;\">\n",
              "      <th></th>\n",
              "      <th>title</th>\n",
              "      <th>passage</th>\n",
              "      <th>question</th>\n",
              "      <th>answer_idx</th>\n",
              "      <th>answer_text</th>\n",
              "    </tr>\n",
              "    <tr>\n",
              "      <th>id</th>\n",
              "      <th></th>\n",
              "      <th></th>\n",
              "      <th></th>\n",
              "      <th></th>\n",
              "      <th></th>\n",
              "    </tr>\n",
              "  </thead>\n",
              "  <tbody>\n",
              "    <tr>\n",
              "      <th>5733be284776f41900661182</th>\n",
              "      <td>University_of_Notre_Dame</td>\n",
              "      <td>Architecturally, the school has a Catholic character. Atop the Main Building's gold dome is a golden statue of the Virgin Mary. Immediately in front of the Main Building and facing it, is a copper statue of Christ with arms upraised with the legend \"Venite Ad Me Omnes\". Next to the Main Building is the Basilica of the Sacred Heart. Immediately behind the basilica is the Grotto, a Marian place of prayer and reflection. It is a replica of the grotto at Lourdes, France where the Virgin Mary reputedly appeared to Saint Bernadette Soubirous in 1858. At the end of the main drive (and in a direct line that connects through 3 statues and the Gold Dome), is a simple, modern stone statue of Mary.</td>\n",
              "      <td>To whom did the Virgin Mary allegedly appear in 1858 in Lourdes France?</td>\n",
              "      <td>(515, 541)</td>\n",
              "      <td>Saint Bernadette Soubirous</td>\n",
              "    </tr>\n",
              "    <tr>\n",
              "      <th>5733be284776f4190066117f</th>\n",
              "      <td>University_of_Notre_Dame</td>\n",
              "      <td>Architecturally, the school has a Catholic character. Atop the Main Building's gold dome is a golden statue of the Virgin Mary. Immediately in front of the Main Building and facing it, is a copper statue of Christ with arms upraised with the legend \"Venite Ad Me Omnes\". Next to the Main Building is the Basilica of the Sacred Heart. Immediately behind the basilica is the Grotto, a Marian place of prayer and reflection. It is a replica of the grotto at Lourdes, France where the Virgin Mary reputedly appeared to Saint Bernadette Soubirous in 1858. At the end of the main drive (and in a direct line that connects through 3 statues and the Gold Dome), is a simple, modern stone statue of Mary.</td>\n",
              "      <td>What is in front of the Notre Dame Main Building?</td>\n",
              "      <td>(188, 213)</td>\n",
              "      <td>a copper statue of Christ</td>\n",
              "    </tr>\n",
              "    <tr>\n",
              "      <th>5733be284776f41900661180</th>\n",
              "      <td>University_of_Notre_Dame</td>\n",
              "      <td>Architecturally, the school has a Catholic character. Atop the Main Building's gold dome is a golden statue of the Virgin Mary. Immediately in front of the Main Building and facing it, is a copper statue of Christ with arms upraised with the legend \"Venite Ad Me Omnes\". Next to the Main Building is the Basilica of the Sacred Heart. Immediately behind the basilica is the Grotto, a Marian place of prayer and reflection. It is a replica of the grotto at Lourdes, France where the Virgin Mary reputedly appeared to Saint Bernadette Soubirous in 1858. At the end of the main drive (and in a direct line that connects through 3 statues and the Gold Dome), is a simple, modern stone statue of Mary.</td>\n",
              "      <td>The Basilica of the Sacred heart at Notre Dame is beside to which structure?</td>\n",
              "      <td>(279, 296)</td>\n",
              "      <td>the Main Building</td>\n",
              "    </tr>\n",
              "    <tr>\n",
              "      <th>5733be284776f41900661181</th>\n",
              "      <td>University_of_Notre_Dame</td>\n",
              "      <td>Architecturally, the school has a Catholic character. Atop the Main Building's gold dome is a golden statue of the Virgin Mary. Immediately in front of the Main Building and facing it, is a copper statue of Christ with arms upraised with the legend \"Venite Ad Me Omnes\". Next to the Main Building is the Basilica of the Sacred Heart. Immediately behind the basilica is the Grotto, a Marian place of prayer and reflection. It is a replica of the grotto at Lourdes, France where the Virgin Mary reputedly appeared to Saint Bernadette Soubirous in 1858. At the end of the main drive (and in a direct line that connects through 3 statues and the Gold Dome), is a simple, modern stone statue of Mary.</td>\n",
              "      <td>What is the Grotto at Notre Dame?</td>\n",
              "      <td>(381, 420)</td>\n",
              "      <td>a Marian place of prayer and reflection</td>\n",
              "    </tr>\n",
              "    <tr>\n",
              "      <th>5733be284776f4190066117e</th>\n",
              "      <td>University_of_Notre_Dame</td>\n",
              "      <td>Architecturally, the school has a Catholic character. Atop the Main Building's gold dome is a golden statue of the Virgin Mary. Immediately in front of the Main Building and facing it, is a copper statue of Christ with arms upraised with the legend \"Venite Ad Me Omnes\". Next to the Main Building is the Basilica of the Sacred Heart. Immediately behind the basilica is the Grotto, a Marian place of prayer and reflection. It is a replica of the grotto at Lourdes, France where the Virgin Mary reputedly appeared to Saint Bernadette Soubirous in 1858. At the end of the main drive (and in a direct line that connects through 3 statues and the Gold Dome), is a simple, modern stone statue of Mary.</td>\n",
              "      <td>What sits on top of the Main Building at Notre Dame?</td>\n",
              "      <td>(92, 126)</td>\n",
              "      <td>a golden statue of the Virgin Mary</td>\n",
              "    </tr>\n",
              "  </tbody>\n",
              "</table>\n",
              "</div>"
            ],
            "text/plain": [
              "                                             title  ...                              answer_text\n",
              "id                                                  ...                                         \n",
              "5733be284776f41900661182  University_of_Notre_Dame  ...  Saint Bernadette Soubirous             \n",
              "5733be284776f4190066117f  University_of_Notre_Dame  ...  a copper statue of Christ              \n",
              "5733be284776f41900661180  University_of_Notre_Dame  ...  the Main Building                      \n",
              "5733be284776f41900661181  University_of_Notre_Dame  ...  a Marian place of prayer and reflection\n",
              "5733be284776f4190066117e  University_of_Notre_Dame  ...  a golden statue of the Virgin Mary     \n",
              "\n",
              "[5 rows x 5 columns]"
            ]
          },
          "metadata": {
            "tags": []
          },
          "execution_count": 3
        }
      ]
    },
    {
      "cell_type": "code",
      "metadata": {
        "id": "LrFiLO78ieg-",
        "colab": {
          "base_uri": "https://localhost:8080/"
        },
        "outputId": "84d28d81-9879-4939-9553-4564e60eb42c"
      },
      "source": [
        "def preprocess_bert(text):\n",
        "    #preprocesed_text = [\" \".join(str(line).split()) for line in text]\n",
        "    tokenized_text = tokenizer(text, return_offsets_mapping=True)\n",
        "\n",
        "    rows_out  = [{'input_ids': tokenized_text.input_ids[i],\n",
        "                  'offsets': tokenized_text.offset_mapping[i]} for i in range(len(text))]\n",
        "\n",
        "    return rows_out\n",
        "\n",
        "preprocess_bert([\"hi mum\", \"hi dad\"])\n"
      ],
      "execution_count": null,
      "outputs": [
        {
          "output_type": "execute_result",
          "data": {
            "text/plain": [
              "[{'input_ids': [0, 3592, 8562, 2],\n",
              "  'offsets': [(0, 0), (0, 2), (3, 6), (0, 0)]},\n",
              " {'input_ids': [0, 3592, 4252, 2],\n",
              "  'offsets': [(0, 0), (0, 2), (3, 6), (0, 0)]}]"
            ]
          },
          "metadata": {
            "tags": []
          },
          "execution_count": 4
        }
      ]
    },
    {
      "cell_type": "code",
      "metadata": {
        "id": "wX_ERg4QT6P_",
        "colab": {
          "base_uri": "https://localhost:8080/",
          "height": 154,
          "referenced_widgets": [
            "70892de5cdb04cd19d253240442b8403",
            "50f7ef0c54ac45f68dfb1eba3c841e4c",
            "4755a69b401d4deabb8884b448faf9b5",
            "5777e8022b324116bcad7ea0ff87a7b6",
            "61ca6591da3e4c72a5719892d04a37cf",
            "0c39c2ec102d43a98c84a18e963ecff1",
            "cb6ea224c70741c7af358ade84c16677",
            "7e932dbe2a164c488b1ac7491833b0f8"
          ]
        },
        "outputId": "5f2b7e2c-0862-4550-c8df-5053e4d56471"
      },
      "source": [
        "#@title BERT preprocessing { form-width: \"25%\" }\r\n",
        "from tqdm.notebook import tqdm\r\n",
        "\r\n",
        "def preprocess_bert(text):\r\n",
        "    tokenized_text = tokenizer(list(text), return_offsets_mapping=True)\r\n",
        "\r\n",
        "    rows_out  = [{'input_ids': tokenized_text.input_ids[i],\r\n",
        "                  'offsets': tokenized_text.offset_mapping[i]} for i in range(len(text))]\r\n",
        "\r\n",
        "    return rows_out\r\n",
        "\r\n",
        "def labeling(df):\r\n",
        "    skip = []\r\n",
        "    ans_token_start = []\r\n",
        "    ans_token_end = []\r\n",
        "    input_word_ids = []\r\n",
        "    input_type_ids = []\r\n",
        "    input_mask = []\r\n",
        "    context_token_to_char = []\r\n",
        "\r\n",
        "    for id in tqdm(df.index):\r\n",
        "        answer = \" \".join(str(df.loc[id]['answer_text']).split())\r\n",
        "        tokenized_context = df.loc[id]['passage']\r\n",
        "        tokenized_question = df.loc[id]['question']\r\n",
        "\r\n",
        "        # mark all the character indexes in context that are also in answer     \r\n",
        "        is_char_in_ans = [0] * len(df_bert.loc[id]['passage'])\r\n",
        "        for idx in range(*df.loc[id]['answer_idx']):\r\n",
        "            is_char_in_ans[idx] = 1\r\n",
        "        ans_token_idx = []\r\n",
        "        # find all the tokens that are in the answers\r\n",
        "        for idx, (start, end) in enumerate(tokenized_context[\"offsets\"]): #start is index of the first character of the word, end is the index of the last character of the word\r\n",
        "            if sum(is_char_in_ans[start:end]) > 0:\r\n",
        "                ans_token_idx.append(idx)\r\n",
        "        if len(ans_token_idx) == 0:\r\n",
        "            skip.append(id)\r\n",
        "            continue\r\n",
        "        # create inputs as usual\r\n",
        "        input_ids = tokenized_context['input_ids'] + tokenized_question['input_ids'][1:] #removing CLS from the beginning of the question \r\n",
        "        token_type_ids = [0] * len(tokenized_context['input_ids']) + [1] * len(tokenized_question['input_ids'][1:])\r\n",
        "        attention_mask = [1] * len(input_ids)\r\n",
        "        padding_length = max_seq_length - len(input_ids)\r\n",
        "        \r\n",
        "        # add padding if necessary\r\n",
        "        if padding_length > 0:\r\n",
        "            input_ids = input_ids + ([0] * padding_length)\r\n",
        "            attention_mask = attention_mask + ([0] * padding_length)\r\n",
        "            token_type_ids = token_type_ids + ([0] * padding_length)\r\n",
        "        elif padding_length < 0:\r\n",
        "            skip.append(id)\r\n",
        "            continue\r\n",
        "        input_word_ids.append(np.array(input_ids))\r\n",
        "        input_type_ids.append(np.array(token_type_ids))\r\n",
        "        input_mask.append(np.array(attention_mask))\r\n",
        "        context_token_to_char.append(np.array(tokenized_context[\"offsets\"]))\r\n",
        "        ans_token_start.append(ans_token_idx[0])\r\n",
        "        ans_token_end.append(ans_token_idx[-1])\r\n",
        "\r\n",
        "    df = df.drop(skip)\r\n",
        "    df['input_word_ids'] = input_word_ids\r\n",
        "    df['input_type_ids'] = input_type_ids\r\n",
        "    df['input_mask'] = input_mask\r\n",
        "    df['context_token_to_char'] = context_token_to_char\r\n",
        "    df['ans_token_start'] = ans_token_start\r\n",
        "    df['ans_token_end'] = ans_token_end\r\n",
        "\r\n",
        "    return df    \r\n",
        "\r\n",
        "df_bert_preprocessed = df_bert.copy()\r\n",
        "# pre-process passage and question text\r\n",
        "print(\"Preprocessing passage...\")\r\n",
        "df_bert_preprocessed['passage'] = preprocess_bert(df_bert['passage'])\r\n",
        "print(\"Preprocessing question...\")\r\n",
        "df_bert_preprocessed['question'] = preprocess_bert(df_bert['question'])\r\n",
        "print(\"Building attention masks...\")\r\n",
        "df_bert_preprocessed = labeling(df_bert_preprocessed)\r\n"
      ],
      "execution_count": null,
      "outputs": [
        {
          "output_type": "stream",
          "text": [
            "Preprocessing passage...\n"
          ],
          "name": "stdout"
        },
        {
          "output_type": "stream",
          "text": [
            "Token indices sequence length is longer than the specified maximum sequence length for this model (515 > 512). Running this sequence through the model will result in indexing errors\n"
          ],
          "name": "stderr"
        },
        {
          "output_type": "stream",
          "text": [
            "Preprocessing question...\n",
            "Building attention masks...\n"
          ],
          "name": "stdout"
        },
        {
          "output_type": "display_data",
          "data": {
            "application/vnd.jupyter.widget-view+json": {
              "model_id": "70892de5cdb04cd19d253240442b8403",
              "version_minor": 0,
              "version_major": 2
            },
            "text/plain": [
              "HBox(children=(FloatProgress(value=0.0, max=87364.0), HTML(value='')))"
            ]
          },
          "metadata": {
            "tags": []
          }
        },
        {
          "output_type": "stream",
          "text": [
            "\n"
          ],
          "name": "stdout"
        }
      ]
    },
    {
      "cell_type": "markdown",
      "metadata": {
        "id": "6x101fcENCOs"
      },
      "source": [
        "#Model"
      ]
    },
    {
      "cell_type": "code",
      "metadata": {
        "id": "E0PQiNubobIK"
      },
      "source": [
        "#@title split { form-width: \"25%\" }\r\n",
        "\r\n",
        "split_value = 0.1 #@param {type:\"number\"} \r\n",
        "val_dim = int(len(df_bert_preprocessed['title'].unique()) * split_value)\r\n",
        "val_titles = np.random.choice(df_bert_preprocessed['title'].unique(), size=val_dim, replace=False)\r\n",
        "\r\n",
        "df_bert_val = df_bert_preprocessed[df_bert_preprocessed['title'].isin(val_titles)]\r\n",
        "df_bert_train = df_bert_preprocessed[~(df_bert_preprocessed['title'].isin(val_titles))]\r\n",
        "\r\n",
        "x_train = [np.stack(df_bert_train[\"input_word_ids\"]),\r\n",
        "           np.stack(df_bert_train[\"input_mask\"]),\r\n",
        "           np.stack(df_bert_train[\"input_type_ids\"])]\r\n",
        "\r\n",
        "y_train_reg= [np.stack(df_bert_train[\"ans_token_start\"]),\r\n",
        "              np.stack(df_bert_train[\"ans_token_end\"]) \\\r\n",
        "              - np.stack(df_bert_train[\"ans_token_start\"]) +1]\r\n",
        "\r\n",
        "x_val = [np.stack(df_bert_val[\"input_word_ids\"]),\r\n",
        "          np.stack(df_bert_val[\"input_mask\"]),\r\n",
        "          np.stack(df_bert_val[\"input_type_ids\"])]\r\n",
        "\r\n",
        "#y_val = [np.stack(df_bert_val[\"ans_token_start\"]),\r\n",
        "#         np.stack(df_bert_val[\"ans_token_end\"])]\r\n",
        "         \r\n",
        "y_val_reg = [np.stack(df_bert_val[\"ans_token_start\"]),\r\n",
        "              np.stack(df_bert_val[\"ans_token_end\"]) \\\r\n",
        "            - np.stack(df_bert_val[\"ans_token_start\"]) +1]"
      ],
      "execution_count": null,
      "outputs": []
    },
    {
      "cell_type": "code",
      "metadata": {
        "id": "MNc6G5936ucz",
        "colab": {
          "base_uri": "https://localhost:8080/"
        },
        "outputId": "0a1c5b08-5788-4986-8b29-f10a6105bd0d"
      },
      "source": [
        "#@title model definition { form-width: \"25%\" }\r\n",
        "\r\n",
        "input_word_ids = tf.keras.layers.Input(shape=(max_seq_length,), dtype=tf.int32, name='input_word_ids')\r\n",
        "input_mask = tf.keras.layers.Input(shape=(max_seq_length,), dtype=tf.int32, name='input_mask')\r\n",
        "input_type_ids = tf.keras.layers.Input(shape=(max_seq_length,), dtype=tf.int32, name='input_type_ids')\r\n",
        "\r\n",
        "#pooled_output, sequence_output = bert_layer([input_word_ids, input_mask, input_type_ids])\r\n",
        "\r\n",
        "#HUGGINGFACE 🤗🤗🤗🤗🤗🤗🤗🤗🤗🤗🤗🤗🤗\r\n",
        "bert_output = bert_hf_layer(input_ids=input_word_ids, attention_mask=input_mask, \r\n",
        "                                token_type_ids=input_type_ids)\r\n",
        "\r\n",
        "sequence_output = bert_output.last_hidden_state\r\n",
        "#pooler_output = bert_output.pooler_output\r\n",
        "\r\n",
        "start_logits = layers.Dense(1, name=\"start_logit_seq\", use_bias=False)(sequence_output)\r\n",
        "start_logits = layers.Flatten(name=\"flatten_start\")(start_logits)\r\n",
        "\r\n",
        "end_logits = layers.Dense(1, name=\"end_logit_seq\")(sequence_output)\r\n",
        "end_logits = layers.Flatten(name=\"flatten_end\")(end_logits)\r\n",
        "end_logits = layers.Dense(1, name=\"end_logit\")(end_logits)\r\n",
        "\r\n",
        "start_probs = layers.Activation(keras.activations.softmax, name=\"softmax_start\")(start_logits)\r\n",
        "end_probs = layers.Activation(keras.activations.relu, name=\"relu_span\")(end_logits)\r\n",
        "\r\n",
        "model = keras.Model(inputs=[input_word_ids, input_mask, input_type_ids], \r\n",
        "                    outputs=[start_probs, end_probs],\r\n",
        "                    name=\"BERT_QA\")\r\n",
        "\r\n",
        "ce = keras.losses.SparseCategoricalCrossentropy(from_logits=False)\r\n",
        "mae = tf.keras.losses.MeanAbsoluteError()\r\n",
        "\r\n",
        "optimizer = keras.optimizers.Adam(lr=1e-5, beta_1=0.9, beta_2=0.98, epsilon=1e-9)\r\n",
        "\r\n",
        "model.summary(line_length=150)"
      ],
      "execution_count": null,
      "outputs": [
        {
          "output_type": "stream",
          "text": [
            "WARNING:tensorflow:The parameters `output_attentions`, `output_hidden_states` and `use_cache` cannot be updated when calling a model.They have to be set to True/False in the config object (i.e.: `config=XConfig.from_pretrained('name', output_attentions=True)`).\n",
            "WARNING:tensorflow:The parameter `return_dict` cannot be set in graph mode and will always be set to `True`.\n",
            "Model: \"BERT_QA\"\n",
            "______________________________________________________________________________________________________________________________________________________\n",
            "Layer (type)                                     Output Shape                     Param #           Connected to                                      \n",
            "======================================================================================================================================================\n",
            "input_word_ids (InputLayer)                      [(None, 512)]                    0                                                                   \n",
            "______________________________________________________________________________________________________________________________________________________\n",
            "input_mask (InputLayer)                          [(None, 512)]                    0                                                                   \n",
            "______________________________________________________________________________________________________________________________________________________\n",
            "input_type_ids (InputLayer)                      [(None, 512)]                    0                                                                   \n",
            "______________________________________________________________________________________________________________________________________________________\n",
            "tf_roberta_model (TFRobertaModel)                TFBaseModelOutputWithPooling(las 124645632         input_word_ids[0][0]                              \n",
            "                                                                                                    input_mask[0][0]                                  \n",
            "                                                                                                    input_type_ids[0][0]                              \n",
            "______________________________________________________________________________________________________________________________________________________\n",
            "end_logit_seq (Dense)                            (None, 512, 1)                   769               tf_roberta_model[3][12]                           \n",
            "______________________________________________________________________________________________________________________________________________________\n",
            "start_logit_seq (Dense)                          (None, 512, 1)                   768               tf_roberta_model[3][12]                           \n",
            "______________________________________________________________________________________________________________________________________________________\n",
            "flatten_end (Flatten)                            (None, 512)                      0                 end_logit_seq[0][0]                               \n",
            "______________________________________________________________________________________________________________________________________________________\n",
            "flatten_start (Flatten)                          (None, 512)                      0                 start_logit_seq[0][0]                             \n",
            "______________________________________________________________________________________________________________________________________________________\n",
            "end_logit (Dense)                                (None, 1)                        513               flatten_end[0][0]                                 \n",
            "______________________________________________________________________________________________________________________________________________________\n",
            "softmax_start (Activation)                       (None, 512)                      0                 flatten_start[0][0]                               \n",
            "______________________________________________________________________________________________________________________________________________________\n",
            "relu_span (Activation)                           (None, 1)                        0                 end_logit[0][0]                                   \n",
            "======================================================================================================================================================\n",
            "Total params: 124,647,682\n",
            "Trainable params: 124,647,682\n",
            "Non-trainable params: 0\n",
            "______________________________________________________________________________________________________________________________________________________\n"
          ],
          "name": "stdout"
        }
      ]
    },
    {
      "cell_type": "code",
      "metadata": {
        "id": "0nvbXaVJMW_A"
      },
      "source": [
        "#@title metrics { form-width: \"25%\" }\r\n",
        "\r\n",
        "def prec(y_true, y_pred):\r\n",
        "    sampled = tf.argmax(y_pred, axis=-1)\r\n",
        "    return 1 - tf.math.count_nonzero(tf.squeeze(tf.cast(y_true, tf.int64)) - sampled) / tf.cast(len(sampled), tf.int64)\r\n",
        "\r\n",
        "def dist(y_true, y_pred):\r\n",
        "    sampled = tf.argmax(y_pred, axis=-1)\r\n",
        "    return tf.reduce_sum(tf.abs(tf.squeeze(tf.cast(y_true, tf.int64)) - sampled)) / tf.cast(len(sampled), tf.int64)"
      ],
      "execution_count": null,
      "outputs": []
    },
    {
      "cell_type": "code",
      "metadata": {
        "id": "U-Gml1Q-rBqr",
        "colab": {
          "base_uri": "https://localhost:8080/",
          "height": 1000
        },
        "outputId": "c2303c67-5af6-4a23-ee50-67d5c80434ce"
      },
      "source": [
        "#@title train { form-width: \"25%\" }\r\n",
        "from tensorflow.keras.callbacks import EarlyStopping, ModelCheckpoint\r\n",
        "batch_size = 8\r\n",
        "epochs = 200\r\n",
        "steps_per_epoch = 1000\r\n",
        "saveDir = os.path.join(os.getcwd(), 'saved_models')\r\n",
        "if not os.path.isdir(saveDir):\r\n",
        "    os.makedirs(saveDir)\r\n",
        "chkpt = saveDir + '/squad_check.hdf5'\r\n",
        "\r\n",
        "ENABLE_WANDB = True        #@param {type:\"boolean\"}\r\n",
        "wandb_experiment_name = \"HF_RoBERTa_regseq_w0.1\" #@param {type: \"string\"}\r\n",
        "if ENABLE_WANDB:\r\n",
        "    !pip install wandb > /dev/null\r\n",
        "    !wandb login\r\n",
        "    import wandb\r\n",
        "    from wandb.keras import WandbCallback\r\n",
        "    wandb.init(project=\"SQUAD\", name=wandb_experiment_name)\r\n",
        "    wandb.config.batch_size = batch_size\r\n",
        "    wandb.config.epochs = epochs\r\n",
        "\r\n",
        "es_cb = EarlyStopping(monitor='val_loss', patience=5, verbose=1, mode='auto')\r\n",
        "cp_cb = ModelCheckpoint(filepath = chkpt, monitor='val_loss', verbose=1, \r\n",
        "                        save_best_only=False, mode='auto', \r\n",
        "                        save_weights_only=True)\r\n",
        "\r\n",
        "callbacks = [es_cb, cp_cb]\r\n",
        "\r\n",
        "if ENABLE_WANDB:\r\n",
        "    callbacks.append(WandbCallback(log_batch_frequency=10,\r\n",
        "                                   save_weights_only=True))\r\n",
        "\r\n",
        "tf.keras.backend.clear_session()\r\n",
        "\r\n",
        "model.compile(optimizer=optimizer, \r\n",
        "              loss={\"softmax_start\": ce, \"relu_span\" : mae},\r\n",
        "              metrics={\"softmax_start\":[prec, dist]},\r\n",
        "              loss_weights={\"softmax_start\": 1., \"relu_span\": 0.1}) \r\n",
        "              # favors learnign of start_position first\r\n",
        "\r\n",
        "history = model.fit(x_train, y_train_reg, epochs=epochs, callbacks=callbacks, \r\n",
        "                    validation_data=(x_val, y_val_reg), batch_size=batch_size,\r\n",
        "                    steps_per_epoch = steps_per_epoch)"
      ],
      "execution_count": null,
      "outputs": [
        {
          "output_type": "stream",
          "text": [
            "\u001b[34m\u001b[1mwandb\u001b[0m: You can find your API key in your browser here: https://wandb.ai/authorize\n",
            "\u001b[34m\u001b[1mwandb\u001b[0m: Paste an API key from your profile and hit enter: \n",
            "\u001b[34m\u001b[1mwandb\u001b[0m: Appending key for api.wandb.ai to your netrc file: /root/.netrc\n"
          ],
          "name": "stdout"
        },
        {
          "output_type": "stream",
          "text": [
            "\u001b[34m\u001b[1mwandb\u001b[0m: Currently logged in as: \u001b[33mbuio\u001b[0m (use `wandb login --relogin` to force relogin)\n"
          ],
          "name": "stderr"
        },
        {
          "output_type": "display_data",
          "data": {
            "text/html": [
              "\n",
              "                Tracking run with wandb version 0.10.20<br/>\n",
              "                Syncing run <strong style=\"color:#cdcd00\">HF_RoBERTa_regseq_w0.1</strong> to <a href=\"https://wandb.ai\" target=\"_blank\">Weights & Biases</a> <a href=\"https://docs.wandb.com/integrations/jupyter.html\" target=\"_blank\">(Documentation)</a>.<br/>\n",
              "                Project page: <a href=\"https://wandb.ai/buio/SQUAD\" target=\"_blank\">https://wandb.ai/buio/SQUAD</a><br/>\n",
              "                Run page: <a href=\"https://wandb.ai/buio/SQUAD/runs/2chgs0tt\" target=\"_blank\">https://wandb.ai/buio/SQUAD/runs/2chgs0tt</a><br/>\n",
              "                Run data is saved locally in <code>/content/wandb/run-20210225_235144-2chgs0tt</code><br/><br/>\n",
              "            "
            ],
            "text/plain": [
              "<IPython.core.display.HTML object>"
            ]
          },
          "metadata": {
            "tags": []
          }
        },
        {
          "output_type": "stream",
          "text": [
            "Epoch 1/200\n",
            "WARNING:tensorflow:The parameters `output_attentions`, `output_hidden_states` and `use_cache` cannot be updated when calling a model.They have to be set to True/False in the config object (i.e.: `config=XConfig.from_pretrained('name', output_attentions=True)`).\n",
            "WARNING:tensorflow:The parameter `return_dict` cannot be set in graph mode and will always be set to `True`.\n",
            "WARNING:tensorflow:Gradients do not exist for variables ['tf_roberta_model/roberta/pooler/dense/kernel:0', 'tf_roberta_model/roberta/pooler/dense/bias:0'] when minimizing the loss.\n",
            "WARNING:tensorflow:The parameters `output_attentions`, `output_hidden_states` and `use_cache` cannot be updated when calling a model.They have to be set to True/False in the config object (i.e.: `config=XConfig.from_pretrained('name', output_attentions=True)`).\n",
            "WARNING:tensorflow:The parameter `return_dict` cannot be set in graph mode and will always be set to `True`.\n",
            "WARNING:tensorflow:Gradients do not exist for variables ['tf_roberta_model/roberta/pooler/dense/kernel:0', 'tf_roberta_model/roberta/pooler/dense/bias:0'] when minimizing the loss.\n",
            "1000/1000 [==============================] - ETA: 0s - loss: 3.0981 - softmax_start_loss: 2.7913 - relu_span_loss: 3.0672 - softmax_start_prec: 0.3533 - softmax_start_dist: 24.9746WARNING:tensorflow:The parameters `output_attentions`, `output_hidden_states` and `use_cache` cannot be updated when calling a model.They have to be set to True/False in the config object (i.e.: `config=XConfig.from_pretrained('name', output_attentions=True)`).\n",
            "WARNING:tensorflow:The parameter `return_dict` cannot be set in graph mode and will always be set to `True`.\n",
            "1000/1000 [==============================] - 703s 691ms/step - loss: 3.0972 - softmax_start_loss: 2.7905 - relu_span_loss: 3.0669 - softmax_start_prec: 0.3534 - softmax_start_dist: 24.9638 - val_loss: 1.4138 - val_softmax_start_loss: 1.1574 - val_relu_span_loss: 2.5647 - val_softmax_start_prec: 0.6617 - val_softmax_start_dist: 5.5326\n",
            "\n",
            "Epoch 00001: saving model to /content/saved_models/squad_check.hdf5\n",
            "Epoch 2/200\n",
            "1000/1000 [==============================] - 692s 692ms/step - loss: 1.5712 - softmax_start_loss: 1.3073 - relu_span_loss: 2.6391 - softmax_start_prec: 0.6338 - softmax_start_dist: 6.8564 - val_loss: 1.3021 - val_softmax_start_loss: 1.0589 - val_relu_span_loss: 2.4316 - val_softmax_start_prec: 0.6816 - val_softmax_start_dist: 4.9642\n",
            "\n",
            "Epoch 00002: saving model to /content/saved_models/squad_check.hdf5\n",
            "Epoch 3/200\n",
            "1000/1000 [==============================] - 689s 689ms/step - loss: 1.3406 - softmax_start_loss: 1.0860 - relu_span_loss: 2.5457 - softmax_start_prec: 0.6788 - softmax_start_dist: 4.8736 - val_loss: 1.2360 - val_softmax_start_loss: 0.9956 - val_relu_span_loss: 2.4036 - val_softmax_start_prec: 0.6989 - val_softmax_start_dist: 4.4062\n",
            "\n",
            "Epoch 00003: saving model to /content/saved_models/squad_check.hdf5\n",
            "Epoch 4/200\n",
            "1000/1000 [==============================] - 692s 693ms/step - loss: 1.3364 - softmax_start_loss: 1.0845 - relu_span_loss: 2.5187 - softmax_start_prec: 0.6731 - softmax_start_dist: 5.5936 - val_loss: 1.1803 - val_softmax_start_loss: 0.9482 - val_relu_span_loss: 2.3215 - val_softmax_start_prec: 0.6996 - val_softmax_start_dist: 4.2258\n",
            "\n",
            "Epoch 00004: saving model to /content/saved_models/squad_check.hdf5\n",
            "Epoch 5/200\n",
            "1000/1000 [==============================] - 689s 689ms/step - loss: 1.2902 - softmax_start_loss: 1.0563 - relu_span_loss: 2.3387 - softmax_start_prec: 0.6825 - softmax_start_dist: 4.9300 - val_loss: 1.1494 - val_softmax_start_loss: 0.9363 - val_relu_span_loss: 2.1314 - val_softmax_start_prec: 0.7182 - val_softmax_start_dist: 4.0235\n",
            "\n",
            "Epoch 00005: saving model to /content/saved_models/squad_check.hdf5\n",
            "Epoch 6/200\n",
            "1000/1000 [==============================] - 692s 692ms/step - loss: 1.2455 - softmax_start_loss: 1.0250 - relu_span_loss: 2.2053 - softmax_start_prec: 0.6942 - softmax_start_dist: 4.9980 - val_loss: 1.0987 - val_softmax_start_loss: 0.9138 - val_relu_span_loss: 1.8486 - val_softmax_start_prec: 0.7230 - val_softmax_start_dist: 3.9686\n",
            "\n",
            "Epoch 00006: saving model to /content/saved_models/squad_check.hdf5\n",
            "Epoch 7/200\n",
            "1000/1000 [==============================] - 689s 689ms/step - loss: 1.1947 - softmax_start_loss: 0.9971 - relu_span_loss: 1.9755 - softmax_start_prec: 0.6961 - softmax_start_dist: 4.9105 - val_loss: 1.0567 - val_softmax_start_loss: 0.8867 - val_relu_span_loss: 1.6999 - val_softmax_start_prec: 0.7276 - val_softmax_start_dist: 3.8509\n",
            "\n",
            "Epoch 00007: saving model to /content/saved_models/squad_check.hdf5\n",
            "Epoch 8/200\n",
            "1000/1000 [==============================] - 689s 689ms/step - loss: 1.1988 - softmax_start_loss: 0.9991 - relu_span_loss: 1.9965 - softmax_start_prec: 0.6959 - softmax_start_dist: 4.5436 - val_loss: 1.0360 - val_softmax_start_loss: 0.8747 - val_relu_span_loss: 1.6136 - val_softmax_start_prec: 0.7339 - val_softmax_start_dist: 3.6715\n",
            "\n",
            "Epoch 00008: saving model to /content/saved_models/squad_check.hdf5\n",
            "Epoch 9/200\n",
            "1000/1000 [==============================] - 693s 693ms/step - loss: 1.1286 - softmax_start_loss: 0.9512 - relu_span_loss: 1.7740 - softmax_start_prec: 0.7038 - softmax_start_dist: 4.1882 - val_loss: 1.0566 - val_softmax_start_loss: 0.9052 - val_relu_span_loss: 1.5138 - val_softmax_start_prec: 0.7296 - val_softmax_start_dist: 3.6872\n",
            "\n",
            "Epoch 00009: saving model to /content/saved_models/squad_check.hdf5\n",
            "Epoch 10/200\n",
            "1000/1000 [==============================] - 689s 689ms/step - loss: 1.1445 - softmax_start_loss: 0.9753 - relu_span_loss: 1.6912 - softmax_start_prec: 0.7125 - softmax_start_dist: 4.5618 - val_loss: 1.0214 - val_softmax_start_loss: 0.8632 - val_relu_span_loss: 1.5824 - val_softmax_start_prec: 0.7371 - val_softmax_start_dist: 3.5406\n",
            "\n",
            "Epoch 00010: saving model to /content/saved_models/squad_check.hdf5\n",
            "Epoch 11/200\n",
            "1000/1000 [==============================] - 698s 698ms/step - loss: 0.9597 - softmax_start_loss: 0.7890 - relu_span_loss: 1.7076 - softmax_start_prec: 0.7430 - softmax_start_dist: 3.1263 - val_loss: 1.0448 - val_softmax_start_loss: 0.8981 - val_relu_span_loss: 1.4673 - val_softmax_start_prec: 0.7391 - val_softmax_start_dist: 3.6825\n",
            "\n",
            "Epoch 00011: saving model to /content/saved_models/squad_check.hdf5\n",
            "Epoch 12/200\n",
            "1000/1000 [==============================] - 688s 689ms/step - loss: 0.9159 - softmax_start_loss: 0.7543 - relu_span_loss: 1.6168 - softmax_start_prec: 0.7638 - softmax_start_dist: 3.3701 - val_loss: 1.0521 - val_softmax_start_loss: 0.8962 - val_relu_span_loss: 1.5587 - val_softmax_start_prec: 0.7363 - val_softmax_start_dist: 3.4700\n",
            "\n",
            "Epoch 00012: saving model to /content/saved_models/squad_check.hdf5\n",
            "Epoch 13/200\n",
            "1000/1000 [==============================] - 688s 689ms/step - loss: 0.9308 - softmax_start_loss: 0.7723 - relu_span_loss: 1.5845 - softmax_start_prec: 0.7570 - softmax_start_dist: 3.1906 - val_loss: 1.0131 - val_softmax_start_loss: 0.8697 - val_relu_span_loss: 1.4342 - val_softmax_start_prec: 0.7350 - val_softmax_start_dist: 3.7212\n",
            "\n",
            "Epoch 00013: saving model to /content/saved_models/squad_check.hdf5\n",
            "Epoch 14/200\n",
            "1000/1000 [==============================] - 689s 689ms/step - loss: 0.9268 - softmax_start_loss: 0.7702 - relu_span_loss: 1.5662 - softmax_start_prec: 0.7491 - softmax_start_dist: 3.1393 - val_loss: 1.0059 - val_softmax_start_loss: 0.8587 - val_relu_span_loss: 1.4719 - val_softmax_start_prec: 0.7375 - val_softmax_start_dist: 3.5816\n",
            "\n",
            "Epoch 00014: saving model to /content/saved_models/squad_check.hdf5\n",
            "Epoch 15/200\n",
            "1000/1000 [==============================] - 690s 690ms/step - loss: 0.9436 - softmax_start_loss: 0.7884 - relu_span_loss: 1.5528 - softmax_start_prec: 0.7437 - softmax_start_dist: 3.3614 - val_loss: 1.0061 - val_softmax_start_loss: 0.8658 - val_relu_span_loss: 1.4037 - val_softmax_start_prec: 0.7426 - val_softmax_start_dist: 3.3638\n",
            "\n",
            "Epoch 00015: saving model to /content/saved_models/squad_check.hdf5\n",
            "Epoch 16/200\n",
            "1000/1000 [==============================] - 688s 688ms/step - loss: 0.8998 - softmax_start_loss: 0.7527 - relu_span_loss: 1.4709 - softmax_start_prec: 0.7576 - softmax_start_dist: 2.9748 - val_loss: 1.0404 - val_softmax_start_loss: 0.8860 - val_relu_span_loss: 1.5439 - val_softmax_start_prec: 0.7398 - val_softmax_start_dist: 3.5682\n",
            "\n",
            "Epoch 00016: saving model to /content/saved_models/squad_check.hdf5\n",
            "Epoch 17/200\n",
            "1000/1000 [==============================] - 688s 688ms/step - loss: 0.9445 - softmax_start_loss: 0.7903 - relu_span_loss: 1.5423 - softmax_start_prec: 0.7489 - softmax_start_dist: 3.4602 - val_loss: 0.9946 - val_softmax_start_loss: 0.8574 - val_relu_span_loss: 1.3723 - val_softmax_start_prec: 0.7433 - val_softmax_start_dist: 3.5218\n",
            "\n",
            "Epoch 00017: saving model to /content/saved_models/squad_check.hdf5\n",
            "Epoch 18/200\n",
            "1000/1000 [==============================] - 693s 693ms/step - loss: 0.9358 - softmax_start_loss: 0.7791 - relu_span_loss: 1.5662 - softmax_start_prec: 0.7523 - softmax_start_dist: 3.0225 - val_loss: 0.9921 - val_softmax_start_loss: 0.8568 - val_relu_span_loss: 1.3532 - val_softmax_start_prec: 0.7385 - val_softmax_start_dist: 3.3725\n",
            "\n",
            "Epoch 00018: saving model to /content/saved_models/squad_check.hdf5\n",
            "Epoch 19/200\n",
            "1000/1000 [==============================] - 693s 693ms/step - loss: 0.9009 - softmax_start_loss: 0.7609 - relu_span_loss: 1.4003 - softmax_start_prec: 0.7518 - softmax_start_dist: 3.3010 - val_loss: 0.9840 - val_softmax_start_loss: 0.8458 - val_relu_span_loss: 1.3821 - val_softmax_start_prec: 0.7447 - val_softmax_start_dist: 3.4679\n",
            "\n",
            "Epoch 00019: saving model to /content/saved_models/squad_check.hdf5\n",
            "Epoch 20/200\n",
            "1000/1000 [==============================] - 691s 691ms/step - loss: 0.9036 - softmax_start_loss: 0.7580 - relu_span_loss: 1.4564 - softmax_start_prec: 0.7571 - softmax_start_dist: 3.4042 - val_loss: 1.0032 - val_softmax_start_loss: 0.8705 - val_relu_span_loss: 1.3269 - val_softmax_start_prec: 0.7424 - val_softmax_start_dist: 3.3054\n",
            "\n",
            "Epoch 00020: saving model to /content/saved_models/squad_check.hdf5\n",
            "Epoch 21/200\n",
            "1000/1000 [==============================] - 689s 689ms/step - loss: 0.7424 - softmax_start_loss: 0.6040 - relu_span_loss: 1.3836 - softmax_start_prec: 0.7914 - softmax_start_dist: 2.0978 - val_loss: 1.0685 - val_softmax_start_loss: 0.9344 - val_relu_span_loss: 1.3407 - val_softmax_start_prec: 0.7402 - val_softmax_start_dist: 3.3278\n",
            "\n",
            "Epoch 00021: saving model to /content/saved_models/squad_check.hdf5\n",
            "Epoch 22/200\n",
            "1000/1000 [==============================] - 689s 689ms/step - loss: 0.7147 - softmax_start_loss: 0.5832 - relu_span_loss: 1.3148 - softmax_start_prec: 0.8042 - softmax_start_dist: 2.1028 - val_loss: 0.9938 - val_softmax_start_loss: 0.8565 - val_relu_span_loss: 1.3730 - val_softmax_start_prec: 0.7441 - val_softmax_start_dist: 3.3658\n",
            "\n",
            "Epoch 00022: saving model to /content/saved_models/squad_check.hdf5\n",
            "Epoch 23/200\n",
            "1000/1000 [==============================] - 689s 689ms/step - loss: 0.7383 - softmax_start_loss: 0.5978 - relu_span_loss: 1.4053 - softmax_start_prec: 0.8020 - softmax_start_dist: 2.2599 - val_loss: 1.0105 - val_softmax_start_loss: 0.8765 - val_relu_span_loss: 1.3406 - val_softmax_start_prec: 0.7434 - val_softmax_start_dist: 3.5203\n",
            "\n",
            "Epoch 00023: saving model to /content/saved_models/squad_check.hdf5\n",
            "Epoch 24/200\n",
            "1000/1000 [==============================] - 689s 689ms/step - loss: 0.7716 - softmax_start_loss: 0.6317 - relu_span_loss: 1.3985 - softmax_start_prec: 0.7952 - softmax_start_dist: 2.4677 - val_loss: 1.0484 - val_softmax_start_loss: 0.9172 - val_relu_span_loss: 1.3127 - val_softmax_start_prec: 0.7342 - val_softmax_start_dist: 3.5991\n",
            "\n",
            "Epoch 00024: saving model to /content/saved_models/squad_check.hdf5\n",
            "Epoch 00024: early stopping\n"
          ],
          "name": "stdout"
        }
      ]
    },
    {
      "cell_type": "markdown",
      "metadata": {
        "id": "7XFVQKuuNEA8"
      },
      "source": [
        "#Evaluation"
      ]
    },
    {
      "cell_type": "code",
      "metadata": {
        "id": "EXAakwfMQYZa",
        "colab": {
          "base_uri": "https://localhost:8080/"
        },
        "outputId": "35d50807-7615-4835-8771-6cbf8c3bebf5"
      },
      "source": [
        "#@title download best weights\r\n",
        "!wget https://api.wandb.ai/files/buio/SQUAD/3o9zuva8/model-best.h5\r\n",
        "model.load_weights(\"model-best.h5\")"
      ],
      "execution_count": null,
      "outputs": [
        {
          "output_type": "stream",
          "text": [
            "--2021-02-25 23:31:37--  https://api.wandb.ai/files/buio/SQUAD/3o9zuva8/model-best.h5\n",
            "Resolving api.wandb.ai (api.wandb.ai)... 35.186.228.49\n",
            "Connecting to api.wandb.ai (api.wandb.ai)|35.186.228.49|:443... connected.\n",
            "HTTP request sent, awaiting response... 307 Temporary Redirect\n",
            "Location: https://storage.googleapis.com/wandb-production.appspot.com/buio/SQUAD/3o9zuva8/model-best.h5?Expires=1614295957&GoogleAccessId=wandb-production%40appspot.gserviceaccount.com&Signature=OPf7uGzvGIG1ussTCfGvcu0KV7gyqqDhzK6JPFD15jFEtTtws02U5KrnAjitfvuO0EqyKgKT7WWyC98CevdYIMuWjLQ%2F445%2Fwmo7hSknLCSb4PAcCSFd1V0nuPDEmhL%2BHPnrp4GUyciNuH18UaFYoibs%2BNA4x9Wt509yb%2Fo7xNmIjIBrJYgng57mlMzdIpwjdxW%2FYU6fjmH3OMz3NtGpUPX5ROS5dQ%2Fy9HlTrbMte1iVh99CJC%2Bh0P8FQA9VoDmlvysQ%2Ba8Zk3WDsumTu%2Bn3trbTE1gi1GVnwfrFiqFrwC53kDSpXZ54bvFzWPIV6UfvtuNCE%2Bzp7YiqFOvBv07fQQ%3D%3D [following]\n",
            "--2021-02-25 23:31:37--  https://storage.googleapis.com/wandb-production.appspot.com/buio/SQUAD/3o9zuva8/model-best.h5?Expires=1614295957&GoogleAccessId=wandb-production%40appspot.gserviceaccount.com&Signature=OPf7uGzvGIG1ussTCfGvcu0KV7gyqqDhzK6JPFD15jFEtTtws02U5KrnAjitfvuO0EqyKgKT7WWyC98CevdYIMuWjLQ%2F445%2Fwmo7hSknLCSb4PAcCSFd1V0nuPDEmhL%2BHPnrp4GUyciNuH18UaFYoibs%2BNA4x9Wt509yb%2Fo7xNmIjIBrJYgng57mlMzdIpwjdxW%2FYU6fjmH3OMz3NtGpUPX5ROS5dQ%2Fy9HlTrbMte1iVh99CJC%2Bh0P8FQA9VoDmlvysQ%2Ba8Zk3WDsumTu%2Bn3trbTE1gi1GVnwfrFiqFrwC53kDSpXZ54bvFzWPIV6UfvtuNCE%2Bzp7YiqFOvBv07fQQ%3D%3D\n",
            "Resolving storage.googleapis.com (storage.googleapis.com)... 74.125.142.128, 74.125.195.128, 74.125.20.128, ...\n",
            "Connecting to storage.googleapis.com (storage.googleapis.com)|74.125.142.128|:443... connected.\n",
            "HTTP request sent, awaiting response... 200 OK\n",
            "Length: 498864248 (476M) [application/keras]\n",
            "Saving to: ‘model-best.h5’\n",
            "\n",
            "model-best.h5       100%[===================>] 475.75M   236MB/s    in 2.0s    \n",
            "\n",
            "2021-02-25 23:31:39 (236 MB/s) - ‘model-best.h5’ saved [498864248/498864248]\n",
            "\n"
          ],
          "name": "stdout"
        }
      ]
    },
    {
      "cell_type": "code",
      "metadata": {
        "id": "16MNlFdGQkPO",
        "colab": {
          "base_uri": "https://localhost:8080/",
          "height": 1000
        },
        "outputId": "80756d3c-20f2-4f53-f0f8-d2d2a5f38e38"
      },
      "source": [
        "#@title prediction distribution { form-width: \"25%\" }\r\n",
        "import matplotlib.pyplot as plt\r\n",
        "\r\n",
        "predictions = model.predict(x_val, verbose=1)\r\n",
        "sampled_start = np.argmax(predictions[0], axis=-1)\r\n",
        "sampled_span = predictions[1].squeeze()\r\n",
        "computed_end = sampled_start + sampled_span\r\n",
        "\r\n",
        "plt.figure(figsize=(30,30))\r\n",
        "plt.plot(y_val_reg[0], y_val_reg[0] + y_val_reg[1], \".\");\r\n",
        "plt.plot(sampled_start, computed_end,\"*\");\r\n",
        "plt.show()"
      ],
      "execution_count": null,
      "outputs": [
        {
          "output_type": "stream",
          "text": [
            "WARNING:tensorflow:The parameters `output_attentions`, `output_hidden_states` and `use_cache` cannot be updated when calling a model.They have to be set to True/False in the config object (i.e.: `config=XConfig.from_pretrained('name', output_attentions=True)`).\n",
            "WARNING:tensorflow:The parameter `return_dict` cannot be set in graph mode and will always be set to `True`.\n",
            "224/224 [==============================] - 141s 624ms/step\n"
          ],
          "name": "stdout"
        },
        {
          "output_type": "display_data",
          "data": {
            "image/png": "[encoded data removed]",
            "text/plain": [
              "<Figure size 2160x2160 with 1 Axes>"
            ]
          },
          "metadata": {
            "tags": [],
            "needs_background": "light"
          }
        }
      ]
    },
    {
      "cell_type": "code",
      "metadata": {
        "colab": {
          "base_uri": "https://localhost:8080/",
          "height": 265
        },
        "id": "ASi4yiqu9tTI",
        "outputId": "5c1a2105-5fee-4ac8-ba8d-6eddfd44df99"
      },
      "source": [
        "plt.hist(y_val_reg[1],bins=200);\n",
        "plt.hist(sampled_span,bins=200);\n",
        "plt.show()"
      ],
      "execution_count": null,
      "outputs": [
        {
          "output_type": "display_data",
          "data": {
            "image/png": "[encoded data removed]",
            "text/plain": [
              "<Figure size 432x288 with 1 Axes>"
            ]
          },
          "metadata": {
            "tags": [],
            "needs_background": "light"
          }
        }
      ]
    },
    {
      "cell_type": "code",
      "metadata": {
        "id": "y0GAiyOURzyC",
        "colab": {
          "base_uri": "https://localhost:8080/"
        },
        "outputId": "7a539425-2c7f-4f36-af2e-2359103f8ab5"
      },
      "source": [
        "!gsutil cp gs://squad_squad/evaluate.py ./evaluate.py\r\n",
        "!chmod +x ./evaluate.py"
      ],
      "execution_count": null,
      "outputs": [
        {
          "output_type": "stream",
          "text": [
            "Copying gs://squad_squad/evaluate.py...\n",
            "/ [1 files][ 10.3 KiB/ 10.3 KiB]                                                \n",
            "Operation completed over 1 objects/10.3 KiB.                                     \n"
          ],
          "name": "stdout"
        }
      ]
    },
    {
      "cell_type": "code",
      "metadata": {
        "id": "4dHYm-NCTmLB",
        "colab": {
          "base_uri": "https://localhost:8080/",
          "height": 253,
          "referenced_widgets": [
            "7b86f6948a344367b590273b32082874",
            "7e8003285be0415c82767e5fe4886283",
            "e297d47e457640cc8cea2bceac63d113",
            "47673cc866234e4a88198d4fc8f7222d",
            "e68ada1871c84b8f8aeace70d723d3aa",
            "11ab08e8662647a386665a63fc6e67b0",
            "ee23841b2894422ea71a5c24609d61e7",
            "03af8b5e2491452690a864d419ea5498"
          ]
        },
        "outputId": "17dade55-f5e7-4923-e004-10b8612c678a"
      },
      "source": [
        "#@title preprocess dev set { form-width: \"25%\" } \n",
        "\n",
        "!wget https://rajpurkar.github.io/SQuAD-explorer/dataset/dev-v1.1.json -O test_set.json\n",
        "\n",
        "with open(\"test_set.json\", \"r\") as f:\n",
        "    json_file = json.load(f)\n",
        "data = json_file[\"data\"]\n",
        "\n",
        "rows = []\n",
        "for document in data:\n",
        "  for par in document['paragraphs']:\n",
        "    for qas in par['qas']:\n",
        "      rows.append({\n",
        "        'id' : qas['id'],\n",
        "        'title': document[\"title\"],\n",
        "        'passage': par['context'],\n",
        "        'question' : qas['question'],\n",
        "        'answer_idx' : (qas['answers'][0]['answer_start'], \n",
        "                    qas['answers'][0]['answer_start'] + len(qas['answers'][0]['text'])),\n",
        "        'answer_text' : qas['answers'][0]['text']\n",
        "      })\n",
        "\n",
        "df_dev = pd.DataFrame(rows)\n",
        "\n",
        "def preprocess_bert(text):\n",
        "    tokenized_text = tokenizer(list(text), return_offsets_mapping=True)\n",
        "\n",
        "    rows_out  = [{'input_ids': tokenized_text.input_ids[i],\n",
        "                  'offsets': tokenized_text.offset_mapping[i]} for i in range(len(text))]\n",
        "\n",
        "    return rows_out\n",
        "\n",
        "def labeling(df):\n",
        "    skip = []\n",
        "    ans_token_start = []\n",
        "    ans_token_end = []\n",
        "    input_word_ids = []\n",
        "    input_type_ids = []\n",
        "    input_mask = []\n",
        "    context_token_to_char = []\n",
        "\n",
        "    for id in tqdm(df.index):\n",
        "        answer = \" \".join(str(df.loc[id]['answer_text']).split())\n",
        "        tokenized_context = df.loc[id]['passage']\n",
        "        tokenized_question = df.loc[id]['question']\n",
        "\n",
        "        # mark all the character indexes in context that are also in answer     \n",
        "        is_char_in_ans = [0] * len(df_dev.loc[id]['passage'])\n",
        "        for idx in range(*df.loc[id]['answer_idx']):\n",
        "            is_char_in_ans[idx] = 1\n",
        "        ans_token_idx = []\n",
        "        # find all the tokens that are in the answers\n",
        "        for idx, (start, end) in enumerate(tokenized_context[\"offsets\"]): #start is index of the first character of the word, end is the index of the last character of the word\n",
        "            if sum(is_char_in_ans[start:end]) > 0:\n",
        "                ans_token_idx.append(idx)\n",
        "        if len(ans_token_idx) == 0:\n",
        "            skip.append(id)\n",
        "            continue\n",
        "        # create inputs as usual\n",
        "        input_ids = tokenized_context['input_ids'] + tokenized_question['input_ids'][1:] #removing CLS from the beginning of the question \n",
        "        token_type_ids = [0] * len(tokenized_context['input_ids']) + [1] * len(tokenized_question['input_ids'][1:])\n",
        "        attention_mask = [1] * len(input_ids)\n",
        "        padding_length = max_seq_length - len(input_ids)\n",
        "        \n",
        "        # add padding if necessary\n",
        "        if padding_length > 0:\n",
        "            input_ids = input_ids + ([0] * padding_length)\n",
        "            attention_mask = attention_mask + ([0] * padding_length)\n",
        "            token_type_ids = token_type_ids + ([0] * padding_length)\n",
        "        elif padding_length < 0:\n",
        "            skip.append(id)\n",
        "            continue\n",
        "        input_word_ids.append(np.array(input_ids))\n",
        "        input_type_ids.append(np.array(token_type_ids))\n",
        "        input_mask.append(np.array(attention_mask))\n",
        "        context_token_to_char.append(np.array(tokenized_context[\"offsets\"]))\n",
        "        ans_token_start.append(ans_token_idx[0])\n",
        "        ans_token_end.append(ans_token_idx[-1])\n",
        "\n",
        "    df = df.drop(skip)\n",
        "    df['input_word_ids'] = input_word_ids\n",
        "    df['input_type_ids'] = input_type_ids\n",
        "    df['input_mask'] = input_mask\n",
        "    df['context_token_to_char'] = context_token_to_char\n",
        "    df['ans_token_start'] = ans_token_start\n",
        "    df['ans_token_end'] = ans_token_end\n",
        "\n",
        "    return df, skip\n",
        "\n",
        "# pre-process passage and question text\n",
        "df_dev = df_dev.set_index('id')\n",
        "df_bert_dev = df_dev.copy()\n",
        "\n",
        "df_bert_dev['passage'] = preprocess_bert(df_dev['passage'])\n",
        "df_bert_dev['question'] = preprocess_bert(df_dev['question'])\n",
        "\n",
        "df_bert_dev, skipped = labeling(df_bert_dev)\n",
        "\n",
        "x_test = [np.stack(df_bert_dev[\"input_word_ids\"]),\n",
        "          np.stack(df_bert_dev[\"input_mask\"]),\n",
        "          np.stack(df_bert_dev[\"input_type_ids\"])],\n",
        "                  \n",
        "y_test = [np.stack(df_bert_dev[\"ans_token_start\"]),\n",
        "          np.stack(df_bert_dev[\"ans_token_end\"]) \\\n",
        "          - np.stack(df_bert_dev[\"ans_token_start\"]) +1]"
      ],
      "execution_count": null,
      "outputs": [
        {
          "output_type": "stream",
          "text": [
            "--2021-02-25 23:35:28--  https://rajpurkar.github.io/SQuAD-explorer/dataset/dev-v1.1.json\n",
            "Resolving rajpurkar.github.io (rajpurkar.github.io)... 185.199.108.153, 185.199.109.153, 185.199.110.153, ...\n",
            "Connecting to rajpurkar.github.io (rajpurkar.github.io)|185.199.108.153|:443... connected.\n",
            "HTTP request sent, awaiting response... 200 OK\n",
            "Length: 4854279 (4.6M) [application/json]\n",
            "Saving to: ‘test_set.json’\n",
            "\n",
            "test_set.json       100%[===================>]   4.63M  --.-KB/s    in 0.1s    \n",
            "\n",
            "2021-02-25 23:35:28 (43.3 MB/s) - ‘test_set.json’ saved [4854279/4854279]\n",
            "\n"
          ],
          "name": "stdout"
        },
        {
          "output_type": "display_data",
          "data": {
            "application/vnd.jupyter.widget-view+json": {
              "model_id": "7b86f6948a344367b590273b32082874",
              "version_minor": 0,
              "version_major": 2
            },
            "text/plain": [
              "HBox(children=(FloatProgress(value=0.0, max=10570.0), HTML(value='')))"
            ]
          },
          "metadata": {
            "tags": []
          }
        },
        {
          "output_type": "stream",
          "text": [
            "\n"
          ],
          "name": "stdout"
        }
      ]
    },
    {
      "cell_type": "code",
      "metadata": {
        "id": "74EEAaH1LNK2"
      },
      "source": [
        "#@title save predictions { form-width: \"25%\" }\n",
        "\n",
        "predictions_test = model.predict(x_test, verbose=1)\n",
        "start = np.argmax(predictions_test[0], axis=-1)\n",
        "span = predictions_test[1].squeeze()\n",
        "end = (start + span).astype(int)\n",
        "\n",
        "num_samples = len(df_bert_dev)\n",
        "\n",
        "with open(\"dev_predictions.txt\",\"w\") as out:\n",
        "    out.write(\"{\")\n",
        "    for id in skipped:\n",
        "        out.write(f'''\"{id}\": \"42\",\\n''')\n",
        "\n",
        "    for ans_id in range(num_samples):\n",
        "        predicted_ans = tokenizer.decode(df_bert_dev.iloc[ans_id]['passage'][\"input_ids\"][start[ans_id] : end[ans_id]+1]).replace(\"\\n\",\" \")\n",
        "        if ans_id == num_samples-1:\n",
        "            out.write(f'''\"{df_bert_dev.index[ans_id]}\": \"{predicted_ans.replace('\"',\"\")}\"''')\n",
        "        else:\n",
        "            out.write(f'''\"{df_bert_dev.index[ans_id]}\": \"{predicted_ans.replace('\"',\"\")}\",\\n''')\n",
        "\n",
        "\n",
        "    out.write(\"}\")"
      ],
      "execution_count": null,
      "outputs": []
    },
    {
      "cell_type": "code",
      "metadata": {
        "id": "jGh_peiPTCOE",
        "colab": {
          "base_uri": "https://localhost:8080/"
        },
        "outputId": "9d22dd12-7131-4e0f-ad06-d55490a87c20"
      },
      "source": [
        "#@title evaluate { form-width: \"25%\" }\r\n",
        "\r\n",
        "evaluation = !python3 evaluate.py test_set.json dev_predictions.txt\r\n",
        "print(evaluation)\r\n",
        "if ENABLE_WANDB:\r\n",
        "    wandb.log({\"Evaluate\": wandb.Html(\"<pre>\"+str(evaluation)+\"<pre>\", inject=False)})"
      ],
      "execution_count": null,
      "outputs": [
        {
          "output_type": "stream",
          "text": [
            "['{', '  \"exact\": 48.55250709555345,', '  \"f1\": 81.6452865093835,', '  \"total\": 10570,', '  \"HasAns_exact\": 48.55250709555345,', '  \"HasAns_f1\": 81.6452865093835,', '  \"HasAns_total\": 10570', '}']\n"
          ],
          "name": "stdout"
        }
      ]
    },
    {
      "cell_type": "code",
      "metadata": {
        "id": "zGh7mkarf_a1"
      },
      "source": [
        "#@title custom inference { form-width: \"25%\" }\r\n",
        "\r\n",
        "def custom_inference(context, question):\r\n",
        "    preprocessed_context = \" \".join(str(context).split())\r\n",
        "    preprocessed_question = \" \".join(str(question).split())\r\n",
        "    tokenized_context = tokenizer(preprocessed_context)\r\n",
        "    tokenized_question = tokenizer(preprocessed_question)\r\n",
        "    input_ids = tokenized_context[\"input_ids\"] + tokenized_question[\"input_ids\"][1:]\r\n",
        "    token_type_ids = [0] * len(tokenized_context[\"input_ids\"]) + [1] * len(tokenized_question[\"input_ids\"][1:])\r\n",
        "    attention_mask = [1] * len(input_ids)\r\n",
        "    padding_length = max_seq_length - len(input_ids)\r\n",
        "    if padding_length > 0:\r\n",
        "        input_ids = input_ids + ([0] * padding_length)\r\n",
        "        attention_mask = attention_mask + ([0] * padding_length)\r\n",
        "        token_type_ids = token_type_ids + ([0] * padding_length)\r\n",
        "    else:\r\n",
        "        print(\"Error! The input is too long\")\r\n",
        "    input_word_ids = np.array(input_ids)\r\n",
        "    input_mask = np.array(attention_mask)\r\n",
        "    input_type_ids = np.array(token_type_ids)\r\n",
        "    x = [np.expand_dims(input_word_ids, axis =0), np.expand_dims(input_mask, axis = 0), \r\n",
        "         np.expand_dims(input_type_ids,axis=0)]\r\n",
        "    predictions = model.predict(x)\r\n",
        "    start, end = list(np.argmax(predictions, axis=-1).squeeze())\r\n",
        "    predicted_ans = tokenizer.decode(tokenized_context[\"input_ids\"][start : end+1])\r\n",
        "    return predicted_ans"
      ],
      "execution_count": null,
      "outputs": []
    },
    {
      "cell_type": "code",
      "metadata": {
        "id": "B0ZGxDrYtnJL"
      },
      "source": [
        "context = \"Thomas Cruise Mapother IV (born July 3, 1962) is an American actor and producer. He has received various accolades for his work, including three Golden Globe Awards and three nominations for Academy Awards. He is one of the highest-paid actors in the world. His films have grossed over $4 billion in North America and over $10.1 billion worldwide, making him one of the highest-grossing box office stars of all time. Cruise began acting in the early 1980s and made his breakthrough with leading roles in the comedy film Risky Business (1983) and action drama film Top Gun (1986). Critical acclaim came with his roles in the drama films The Color of Money (1986), Rain Man (1988), and Born on the Fourth of July (1989). For his portrayal of Ron Kovic in the latter, he won a Golden Globe Award and received a nomination for the Academy Award for Best Actor. As a leading Hollywood star in the 1990s, he starred in several commercially successful films, including the drama A Few Good Men (1992), the thriller The Firm (1993), the horror film Interview with the Vampire (1994), and the romance Jerry Maguire (1996). For his role in the latter, he won a Golden Globe Award for Best Actor and received his second Academy Award nomination.\"\r\n",
        "question = \"What was the first film Tom Cruise acted in?\"\r\n",
        "\r\n",
        "\r\n",
        "predicted_answer = custom_inference(context, question)\r\n",
        "print(predicted_answer)"
      ],
      "execution_count": null,
      "outputs": []
    }
  ]
}