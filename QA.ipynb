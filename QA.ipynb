{
  "nbformat": 4,
  "nbformat_minor": 0,
  "metadata": {
    "colab": {
      "name": "QA.ipynb",
      "provenance": [],
      "include_colab_link": true
    },
    "kernelspec": {
      "name": "python3",
      "display_name": "Python 3"
    }
  },
  "cells": [
    {
      "cell_type": "markdown",
      "metadata": {
        "id": "view-in-github",
        "colab_type": "text"
      },
      "source": [
        "<a href=\"https://colab.research.google.com/github/the-SQuAD-squad/IR-QA/blob/main/QA.ipynb\" target=\"_parent\"><img src=\"https://colab.research.google.com/assets/colab-badge.svg\" alt=\"Open In Colab\"/></a>"
      ]
    },
    {
      "cell_type": "code",
      "metadata": {
        "id": "El70BLeMa4np",
        "colab": {
          "base_uri": "https://localhost:8080/"
        },
        "outputId": "0be6d0aa-81d2-44c1-dd49-4b7cf8f4b4d4"
      },
      "source": [
        "#@title df creation { form-width: \"25%\" }\n",
        "import json\n",
        "import pandas as pd\n",
        "\n",
        "# dataset is copyed to public git repo for fast access within colab \n",
        "!wget 'https://raw.githubusercontent.com/the-SQuAD-squad/data/main/SQuAD/squad1.1.zip'\n",
        "!unzip squad1.1.zip\n",
        "\n",
        "with open(\"training_set.json\", \"r\") as f:\n",
        "    json_file = json.load(f)\n",
        "data = json_file[\"data\"]\n",
        "\n",
        "rows = []\n",
        "for document in data:\n",
        "  for par in document['paragraphs']:\n",
        "    for qas in par['qas']:\n",
        "      rows.append({\n",
        "        'id' : qas['id'],\n",
        "        'title': document[\"title\"],\n",
        "        'passage': par['context'],\n",
        "        'question' : qas['question'],\n",
        "        'answer' : (qas['answers'][0]['answer_start'], \n",
        "                    qas['answers'][0]['answer_start'] + len(qas['answers'][0]['text']))\n",
        "      })\n",
        "\n",
        "df = pd.DataFrame(rows)\n",
        "\n",
        "assert data[0][\"paragraphs\"][0][\"qas\"][0][\"answers\"][0][\"text\"] == df[\"passage\"][0][df[\"answer\"][0][0]:df[\"answer\"][0][1]]"
      ],
      "execution_count": 3,
      "outputs": [
        {
          "output_type": "stream",
          "text": [
            "--2021-01-20 11:30:36--  https://raw.githubusercontent.com/the-SQuAD-squad/data/main/SQuAD/squad1.1.zip\n",
            "Resolving raw.githubusercontent.com (raw.githubusercontent.com)... 151.101.0.133, 151.101.64.133, 151.101.128.133, ...\n",
            "Connecting to raw.githubusercontent.com (raw.githubusercontent.com)|151.101.0.133|:443... connected.\n",
            "HTTP request sent, awaiting response... 200 OK\n",
            "Length: 7638822 (7.3M) [application/zip]\n",
            "Saving to: ‘squad1.1.zip’\n",
            "\n",
            "squad1.1.zip        100%[===================>]   7.28M  26.8MB/s    in 0.3s    \n",
            "\n",
            "2021-01-20 11:30:37 (26.8 MB/s) - ‘squad1.1.zip’ saved [7638822/7638822]\n",
            "\n",
            "Archive:  squad1.1.zip\n",
            "  inflating: training_set.json       \n"
          ],
          "name": "stdout"
        }
      ]
    }
  ]
}