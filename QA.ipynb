{
  "nbformat": 4,
  "nbformat_minor": 0,
  "metadata": {
    "colab": {
      "name": "QA.ipynb",
      "provenance": [],
      "include_colab_link": true
    },
    "kernelspec": {
      "name": "python3",
      "display_name": "Python 3"
    }
  },
  "cells": [
    {
      "cell_type": "markdown",
      "metadata": {
        "id": "view-in-github",
        "colab_type": "text"
      },
      "source": [
        "<a href=\"https://colab.research.google.com/github/the-SQuAD-squad/IR-QA/blob/main/QA.ipynb\" target=\"_parent\"><img src=\"https://colab.research.google.com/assets/colab-badge.svg\" alt=\"Open In Colab\"/></a>"
      ]
    },
    {
      "cell_type": "code",
      "metadata": {
        "id": "El70BLeMa4np",
        "outputId": "d1ee2353-d79b-47ca-9c0e-820159f15dec",
        "colab": {
          "base_uri": "https://localhost:8080/"
        }
      },
      "source": [
        "# dataset is copyed to public git repo for fast access within colab \n",
        "! git clone https://github.com/buoi/question-answered.git\n",
        "! unzip question-answered/training_set.json.zip"
      ],
      "execution_count": 1,
      "outputs": [
        {
          "output_type": "stream",
          "text": [
            "Cloning into 'question-answered'...\n",
            "remote: Enumerating objects: 3, done.\u001b[K\n",
            "remote: Counting objects: 100% (3/3), done.\u001b[K\n",
            "remote: Compressing objects: 100% (2/2), done.\u001b[K\n",
            "remote: Total 3 (delta 0), reused 0 (delta 0), pack-reused 0\u001b[K\n",
            "Unpacking objects: 100% (3/3), done.\n",
            "Archive:  question-answered/training_set.json.zip\n",
            "  inflating: training_set.json       \n",
            "  inflating: __MACOSX/._training_set.json  \n"
          ],
          "name": "stdout"
        }
      ]
    },
    {
      "cell_type": "code",
      "metadata": {
        "id": "Cw7JxXWLer6e"
      },
      "source": [
        "import json\n",
        "\n",
        "with open(\"training_set.json\", \"r\") as f:\n",
        "    json_file = json.load(f)\n",
        "\n",
        "data = json_file[\"data\"]\n",
        "for i in range(10):\n",
        "  print(data[i][\"title\"])\n",
        "\n",
        "data[8][\"paragraphs\"][0]"
      ],
      "execution_count": null,
      "outputs": []
    },
    {
      "cell_type": "code",
      "metadata": {
        "id": "pWLE3flcezJv"
      },
      "source": [
        "# df creation\n",
        "import pandas as pd\n",
        "\n",
        "passages = []\n",
        "ids = []\n",
        "for document in data:\n",
        "  for par in document['paragraphs']:\n",
        "    passages.append(par['context'])\n",
        "    for qas in par['qas']:\n",
        "\n",
        "      dataframe_row = {\n",
        "          'id' : qas['id'],\n",
        "          ' '\n",
        "          }\n",
        "\n",
        "dict{dcomunetn_title: }\n",
        "#due pd dataframes: \n",
        "# document_title, passage\n",
        "\n",
        "# id, passage, question, answer\n",
        "#   (doc: title/1,2,3 , pass_1,2,3)"
      ],
      "execution_count": null,
      "outputs": []
    }
  ]
}