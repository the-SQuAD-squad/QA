{
  "nbformat": 4,
  "nbformat_minor": 0,
  "metadata": {
    "colab": {
      "name": "QA.ipynb",
      "provenance": [],
      "collapsed_sections": [],
      "machine_shape": "hm",
      "include_colab_link": true
    },
    "kernelspec": {
      "name": "python3",
      "display_name": "Python 3"
    },
    "accelerator": "GPU",
    "widgets": {
      "application/vnd.jupyter.widget-state+json": {
        "9254da4c1d45472399c5b73bab96b296": {
          "model_module": "@jupyter-widgets/controls",
          "model_name": "HBoxModel",
          "state": {
            "_view_name": "HBoxView",
            "_dom_classes": [],
            "_model_name": "HBoxModel",
            "_view_module": "@jupyter-widgets/controls",
            "_model_module_version": "1.5.0",
            "_view_count": null,
            "_view_module_version": "1.5.0",
            "box_style": "",
            "layout": "IPY_MODEL_3adb8bb049a04994bcad580c611cf5bb",
            "_model_module": "@jupyter-widgets/controls",
            "children": [
              "IPY_MODEL_f675a0f2feff4b5b8af1509f8769b943",
              "IPY_MODEL_8b2247ae14c0465fab117069d74b1da3"
            ]
          }
        },
        "3adb8bb049a04994bcad580c611cf5bb": {
          "model_module": "@jupyter-widgets/base",
          "model_name": "LayoutModel",
          "state": {
            "_view_name": "LayoutView",
            "grid_template_rows": null,
            "right": null,
            "justify_content": null,
            "_view_module": "@jupyter-widgets/base",
            "overflow": null,
            "_model_module_version": "1.2.0",
            "_view_count": null,
            "flex_flow": null,
            "width": null,
            "min_width": null,
            "border": null,
            "align_items": null,
            "bottom": null,
            "_model_module": "@jupyter-widgets/base",
            "top": null,
            "grid_column": null,
            "overflow_y": null,
            "overflow_x": null,
            "grid_auto_flow": null,
            "grid_area": null,
            "grid_template_columns": null,
            "flex": null,
            "_model_name": "LayoutModel",
            "justify_items": null,
            "grid_row": null,
            "max_height": null,
            "align_content": null,
            "visibility": null,
            "align_self": null,
            "height": null,
            "min_height": null,
            "padding": null,
            "grid_auto_rows": null,
            "grid_gap": null,
            "max_width": null,
            "order": null,
            "_view_module_version": "1.2.0",
            "grid_template_areas": null,
            "object_position": null,
            "object_fit": null,
            "grid_auto_columns": null,
            "margin": null,
            "display": null,
            "left": null
          }
        },
        "f675a0f2feff4b5b8af1509f8769b943": {
          "model_module": "@jupyter-widgets/controls",
          "model_name": "FloatProgressModel",
          "state": {
            "_view_name": "ProgressView",
            "style": "IPY_MODEL_eb463a8e71704f62bed3b650a7078170",
            "_dom_classes": [],
            "description": "100%",
            "_model_name": "FloatProgressModel",
            "bar_style": "success",
            "max": 87599,
            "_view_module": "@jupyter-widgets/controls",
            "_model_module_version": "1.5.0",
            "value": 87599,
            "_view_count": null,
            "_view_module_version": "1.5.0",
            "orientation": "horizontal",
            "min": 0,
            "description_tooltip": null,
            "_model_module": "@jupyter-widgets/controls",
            "layout": "IPY_MODEL_cd059366061f4a9baa15ef7262fd4493"
          }
        },
        "8b2247ae14c0465fab117069d74b1da3": {
          "model_module": "@jupyter-widgets/controls",
          "model_name": "HTMLModel",
          "state": {
            "_view_name": "HTMLView",
            "style": "IPY_MODEL_0aed27a803054c17b862767cc9bf9dc8",
            "_dom_classes": [],
            "description": "",
            "_model_name": "HTMLModel",
            "placeholder": "​",
            "_view_module": "@jupyter-widgets/controls",
            "_model_module_version": "1.5.0",
            "value": " 87599/87599 [02:46&lt;00:00, 525.32it/s]",
            "_view_count": null,
            "_view_module_version": "1.5.0",
            "description_tooltip": null,
            "_model_module": "@jupyter-widgets/controls",
            "layout": "IPY_MODEL_12a2a1963ebc4d82aff4c80cb50035ff"
          }
        },
        "eb463a8e71704f62bed3b650a7078170": {
          "model_module": "@jupyter-widgets/controls",
          "model_name": "ProgressStyleModel",
          "state": {
            "_view_name": "StyleView",
            "_model_name": "ProgressStyleModel",
            "description_width": "initial",
            "_view_module": "@jupyter-widgets/base",
            "_model_module_version": "1.5.0",
            "_view_count": null,
            "_view_module_version": "1.2.0",
            "bar_color": null,
            "_model_module": "@jupyter-widgets/controls"
          }
        },
        "cd059366061f4a9baa15ef7262fd4493": {
          "model_module": "@jupyter-widgets/base",
          "model_name": "LayoutModel",
          "state": {
            "_view_name": "LayoutView",
            "grid_template_rows": null,
            "right": null,
            "justify_content": null,
            "_view_module": "@jupyter-widgets/base",
            "overflow": null,
            "_model_module_version": "1.2.0",
            "_view_count": null,
            "flex_flow": null,
            "width": null,
            "min_width": null,
            "border": null,
            "align_items": null,
            "bottom": null,
            "_model_module": "@jupyter-widgets/base",
            "top": null,
            "grid_column": null,
            "overflow_y": null,
            "overflow_x": null,
            "grid_auto_flow": null,
            "grid_area": null,
            "grid_template_columns": null,
            "flex": null,
            "_model_name": "LayoutModel",
            "justify_items": null,
            "grid_row": null,
            "max_height": null,
            "align_content": null,
            "visibility": null,
            "align_self": null,
            "height": null,
            "min_height": null,
            "padding": null,
            "grid_auto_rows": null,
            "grid_gap": null,
            "max_width": null,
            "order": null,
            "_view_module_version": "1.2.0",
            "grid_template_areas": null,
            "object_position": null,
            "object_fit": null,
            "grid_auto_columns": null,
            "margin": null,
            "display": null,
            "left": null
          }
        },
        "0aed27a803054c17b862767cc9bf9dc8": {
          "model_module": "@jupyter-widgets/controls",
          "model_name": "DescriptionStyleModel",
          "state": {
            "_view_name": "StyleView",
            "_model_name": "DescriptionStyleModel",
            "description_width": "",
            "_view_module": "@jupyter-widgets/base",
            "_model_module_version": "1.5.0",
            "_view_count": null,
            "_view_module_version": "1.2.0",
            "_model_module": "@jupyter-widgets/controls"
          }
        },
        "12a2a1963ebc4d82aff4c80cb50035ff": {
          "model_module": "@jupyter-widgets/base",
          "model_name": "LayoutModel",
          "state": {
            "_view_name": "LayoutView",
            "grid_template_rows": null,
            "right": null,
            "justify_content": null,
            "_view_module": "@jupyter-widgets/base",
            "overflow": null,
            "_model_module_version": "1.2.0",
            "_view_count": null,
            "flex_flow": null,
            "width": null,
            "min_width": null,
            "border": null,
            "align_items": null,
            "bottom": null,
            "_model_module": "@jupyter-widgets/base",
            "top": null,
            "grid_column": null,
            "overflow_y": null,
            "overflow_x": null,
            "grid_auto_flow": null,
            "grid_area": null,
            "grid_template_columns": null,
            "flex": null,
            "_model_name": "LayoutModel",
            "justify_items": null,
            "grid_row": null,
            "max_height": null,
            "align_content": null,
            "visibility": null,
            "align_self": null,
            "height": null,
            "min_height": null,
            "padding": null,
            "grid_auto_rows": null,
            "grid_gap": null,
            "max_width": null,
            "order": null,
            "_view_module_version": "1.2.0",
            "grid_template_areas": null,
            "object_position": null,
            "object_fit": null,
            "grid_auto_columns": null,
            "margin": null,
            "display": null,
            "left": null
          }
        },
        "76b8a91a0cdf4a20a6401b9c2a67f7a1": {
          "model_module": "@jupyter-widgets/controls",
          "model_name": "HBoxModel",
          "state": {
            "_view_name": "HBoxView",
            "_dom_classes": [],
            "_model_name": "HBoxModel",
            "_view_module": "@jupyter-widgets/controls",
            "_model_module_version": "1.5.0",
            "_view_count": null,
            "_view_module_version": "1.5.0",
            "box_style": "",
            "layout": "IPY_MODEL_f6a2eff439cc447a8482f17f39ff91eb",
            "_model_module": "@jupyter-widgets/controls",
            "children": [
              "IPY_MODEL_d04c141ea1984bb19d7da5dcdd639071",
              "IPY_MODEL_c0906347f9ae44c2b9b03c8dd197144e"
            ]
          }
        },
        "f6a2eff439cc447a8482f17f39ff91eb": {
          "model_module": "@jupyter-widgets/base",
          "model_name": "LayoutModel",
          "state": {
            "_view_name": "LayoutView",
            "grid_template_rows": null,
            "right": null,
            "justify_content": null,
            "_view_module": "@jupyter-widgets/base",
            "overflow": null,
            "_model_module_version": "1.2.0",
            "_view_count": null,
            "flex_flow": null,
            "width": null,
            "min_width": null,
            "border": null,
            "align_items": null,
            "bottom": null,
            "_model_module": "@jupyter-widgets/base",
            "top": null,
            "grid_column": null,
            "overflow_y": null,
            "overflow_x": null,
            "grid_auto_flow": null,
            "grid_area": null,
            "grid_template_columns": null,
            "flex": null,
            "_model_name": "LayoutModel",
            "justify_items": null,
            "grid_row": null,
            "max_height": null,
            "align_content": null,
            "visibility": null,
            "align_self": null,
            "height": null,
            "min_height": null,
            "padding": null,
            "grid_auto_rows": null,
            "grid_gap": null,
            "max_width": null,
            "order": null,
            "_view_module_version": "1.2.0",
            "grid_template_areas": null,
            "object_position": null,
            "object_fit": null,
            "grid_auto_columns": null,
            "margin": null,
            "display": null,
            "left": null
          }
        },
        "d04c141ea1984bb19d7da5dcdd639071": {
          "model_module": "@jupyter-widgets/controls",
          "model_name": "FloatProgressModel",
          "state": {
            "_view_name": "ProgressView",
            "style": "IPY_MODEL_33326bfe5e8343a192f45a914caa818d",
            "_dom_classes": [],
            "description": "100%",
            "_model_name": "FloatProgressModel",
            "bar_style": "success",
            "max": 82630,
            "_view_module": "@jupyter-widgets/controls",
            "_model_module_version": "1.5.0",
            "value": 82630,
            "_view_count": null,
            "_view_module_version": "1.5.0",
            "orientation": "horizontal",
            "min": 0,
            "description_tooltip": null,
            "_model_module": "@jupyter-widgets/controls",
            "layout": "IPY_MODEL_c3893592e2394ee0b2298ca504581d59"
          }
        },
        "c0906347f9ae44c2b9b03c8dd197144e": {
          "model_module": "@jupyter-widgets/controls",
          "model_name": "HTMLModel",
          "state": {
            "_view_name": "HTMLView",
            "style": "IPY_MODEL_ea072f526a0f405ea8b69ca2ec288901",
            "_dom_classes": [],
            "description": "",
            "_model_name": "HTMLModel",
            "placeholder": "​",
            "_view_module": "@jupyter-widgets/controls",
            "_model_module_version": "1.5.0",
            "value": " 82630/82630 [05:44&lt;00:00, 239.74it/s]",
            "_view_count": null,
            "_view_module_version": "1.5.0",
            "description_tooltip": null,
            "_model_module": "@jupyter-widgets/controls",
            "layout": "IPY_MODEL_1c4a03ca7e3b49eeb675bb065f69732e"
          }
        },
        "33326bfe5e8343a192f45a914caa818d": {
          "model_module": "@jupyter-widgets/controls",
          "model_name": "ProgressStyleModel",
          "state": {
            "_view_name": "StyleView",
            "_model_name": "ProgressStyleModel",
            "description_width": "initial",
            "_view_module": "@jupyter-widgets/base",
            "_model_module_version": "1.5.0",
            "_view_count": null,
            "_view_module_version": "1.2.0",
            "bar_color": null,
            "_model_module": "@jupyter-widgets/controls"
          }
        },
        "c3893592e2394ee0b2298ca504581d59": {
          "model_module": "@jupyter-widgets/base",
          "model_name": "LayoutModel",
          "state": {
            "_view_name": "LayoutView",
            "grid_template_rows": null,
            "right": null,
            "justify_content": null,
            "_view_module": "@jupyter-widgets/base",
            "overflow": null,
            "_model_module_version": "1.2.0",
            "_view_count": null,
            "flex_flow": null,
            "width": null,
            "min_width": null,
            "border": null,
            "align_items": null,
            "bottom": null,
            "_model_module": "@jupyter-widgets/base",
            "top": null,
            "grid_column": null,
            "overflow_y": null,
            "overflow_x": null,
            "grid_auto_flow": null,
            "grid_area": null,
            "grid_template_columns": null,
            "flex": null,
            "_model_name": "LayoutModel",
            "justify_items": null,
            "grid_row": null,
            "max_height": null,
            "align_content": null,
            "visibility": null,
            "align_self": null,
            "height": null,
            "min_height": null,
            "padding": null,
            "grid_auto_rows": null,
            "grid_gap": null,
            "max_width": null,
            "order": null,
            "_view_module_version": "1.2.0",
            "grid_template_areas": null,
            "object_position": null,
            "object_fit": null,
            "grid_auto_columns": null,
            "margin": null,
            "display": null,
            "left": null
          }
        },
        "ea072f526a0f405ea8b69ca2ec288901": {
          "model_module": "@jupyter-widgets/controls",
          "model_name": "DescriptionStyleModel",
          "state": {
            "_view_name": "StyleView",
            "_model_name": "DescriptionStyleModel",
            "description_width": "",
            "_view_module": "@jupyter-widgets/base",
            "_model_module_version": "1.5.0",
            "_view_count": null,
            "_view_module_version": "1.2.0",
            "_model_module": "@jupyter-widgets/controls"
          }
        },
        "1c4a03ca7e3b49eeb675bb065f69732e": {
          "model_module": "@jupyter-widgets/base",
          "model_name": "LayoutModel",
          "state": {
            "_view_name": "LayoutView",
            "grid_template_rows": null,
            "right": null,
            "justify_content": null,
            "_view_module": "@jupyter-widgets/base",
            "overflow": null,
            "_model_module_version": "1.2.0",
            "_view_count": null,
            "flex_flow": null,
            "width": null,
            "min_width": null,
            "border": null,
            "align_items": null,
            "bottom": null,
            "_model_module": "@jupyter-widgets/base",
            "top": null,
            "grid_column": null,
            "overflow_y": null,
            "overflow_x": null,
            "grid_auto_flow": null,
            "grid_area": null,
            "grid_template_columns": null,
            "flex": null,
            "_model_name": "LayoutModel",
            "justify_items": null,
            "grid_row": null,
            "max_height": null,
            "align_content": null,
            "visibility": null,
            "align_self": null,
            "height": null,
            "min_height": null,
            "padding": null,
            "grid_auto_rows": null,
            "grid_gap": null,
            "max_width": null,
            "order": null,
            "_view_module_version": "1.2.0",
            "grid_template_areas": null,
            "object_position": null,
            "object_fit": null,
            "grid_auto_columns": null,
            "margin": null,
            "display": null,
            "left": null
          }
        }
      }
    }
  },
  "cells": [
    {
      "cell_type": "markdown",
      "metadata": {
        "id": "view-in-github",
        "colab_type": "text"
      },
      "source": [
        "<a href=\"https://colab.research.google.com/github/the-SQuAD-squad/QA/blob/rnn/QA.ipynb\" target=\"_parent\"><img src=\"https://colab.research.google.com/assets/colab-badge.svg\" alt=\"Open In Colab\"/></a>"
      ]
    },
    {
      "cell_type": "markdown",
      "metadata": {
        "id": "gjHcW32lx4dj"
      },
      "source": [
        "# NLP Project\n",
        "## RNN classification and precedence\n",
        "\n",
        "Buiani, Serfilippi, Verì, Rambaldi\n"
      ]
    },
    {
      "cell_type": "code",
      "metadata": {
        "id": "ZmkNAxSnaD9n"
      },
      "source": [
        "#@title Init { form-width: \"25%\" }\r\n",
        "import os\r\n",
        "import random\r\n",
        "import math\r\n",
        "import numpy as np\r\n",
        "import tensorflow as tf\r\n",
        "import json\r\n",
        "import pandas as pd\r\n",
        "import matplotlib.pyplot as plt\r\n",
        "from tqdm.notebook import tqdm\r\n",
        "\r\n",
        "pd.set_option('display.max_colwidth', None)\r\n",
        "\r\n",
        "# fix random seeds\r\n",
        "seed_value = 42 #@param {type:\"integer\"}\r\n",
        "\r\n",
        "os.environ['PYTHONHASHSEED']=str(seed_value)\r\n",
        "random.seed(seed_value)\r\n",
        "np.random.seed(seed_value)\r\n",
        "\r\n",
        "tf.compat.v1.set_random_seed(seed_value)\r\n",
        "\r\n",
        "session_conf = tf.compat.v1.ConfigProto(intra_op_parallelism_threads=1, inter_op_parallelism_threads=1)\r\n",
        "sess = tf.compat.v1.Session(graph=tf.compat.v1.get_default_graph(), config=session_conf)\r\n",
        "tf.compat.v1.keras.backend.set_session(sess)\r\n",
        "\r\n",
        "!nvidia-smi"
      ],
      "execution_count": 1,
      "outputs": []
    },
    {
      "cell_type": "markdown",
      "metadata": {
        "id": "XtNxXkwi7lEH"
      },
      "source": [
        "# Preprocessing\n",
        "\n",
        "Or skip preprocessing below"
      ]
    },
    {
      "cell_type": "code",
      "metadata": {
        "id": "El70BLeMa4np"
      },
      "source": [
        "#@title df creation { form-width: \"25%\" }\n",
        "\n",
        "# SQuAD v1.1 download from the rajpurkar official repo\n",
        "!wget https://rajpurkar.github.io/SQuAD-explorer/dataset/train-v1.1.json -q -O training_set.json\n",
        "\n",
        "with open(\"training_set.json\", \"r\") as f:\n",
        "    json_file = json.load(f)\n",
        "data = json_file[\"data\"]\n",
        "\n",
        "rows = []\n",
        "for document in data:\n",
        "  for par in document['paragraphs']:\n",
        "    for qas in par['qas']:\n",
        "      rows.append({\n",
        "        'id' : qas['id'],\n",
        "        'title': document[\"title\"],\n",
        "        'passage': par['context'],\n",
        "        'question' : qas['question'],\n",
        "        'answer_idx' : (qas['answers'][0]['answer_start'], \n",
        "                    qas['answers'][0]['answer_start'] + len(qas['answers'][0]['text'])),\n",
        "        'answer_text' : qas['answers'][0]['text']\n",
        "      })\n",
        "\n",
        "df_original = pd.DataFrame(rows)"
      ],
      "execution_count": 2,
      "outputs": []
    },
    {
      "cell_type": "code",
      "metadata": {
        "id": "feNDF6x2Qeb1",
        "colab": {
          "base_uri": "https://localhost:8080/"
        },
        "outputId": "4f193a11-755a-4d42-9e69-b3f8f03290b1"
      },
      "source": [
        "#@title preprocessing { form-width: \"25%\" }\r\n",
        "\r\n",
        "import nltk\r\n",
        "import re \r\n",
        "import math\r\n",
        "import random as rand\r\n",
        "\r\n",
        "def preprocess_text(text):\r\n",
        "    \"\"\"\r\n",
        "    Given an iterable containing sentences, pre-process each sentence.\r\n",
        "\r\n",
        "    :param: \r\n",
        "        - text: list of text to be pre-processed (Iterable)\r\n",
        "    :return:\r\n",
        "        - text: pre-processed text (List)\r\n",
        "    \"\"\"\r\n",
        "\r\n",
        "    REPLACE_WITH_SPACE = re.compile(r\"\\n\") \r\n",
        "    text = [REPLACE_WITH_SPACE.sub(\" \", line) for line in text]\r\n",
        "\r\n",
        "    # we don't remove symbols, but just put a space before and after them. \r\n",
        "    # We do this because we noticed that Glove contains an embedding also for\r\n",
        "    # them, so, in this way, we are able to split these symbols from the text when computing sentence tokens\r\n",
        "    text = [re.sub(r\"([(.;:!\\'ˈ~?,\\\"(\\[\\])\\\\\\/\\-–\\t```<>_#$€@%*+—°′″“”×’^₤₹‘])\", r' \\1 ', line) for line in text]\r\n",
        "\r\n",
        "    # We noticed that in the text sometimes we find numbers and the following word merged together (ex: 1980february),\r\n",
        "    # so we put a space between the number and the word\r\n",
        "    text = [re.sub(r\"(\\d+)([a-z]+)\", r'\\1 \\2', line) for line in text] \r\n",
        "    text = [re.sub('\\s{2,}', ' ', line.strip()) for line in text]   # replacing more than one consecutive blank spaces with only one of them\r\n",
        "\r\n",
        "    return text\r\n",
        "\r\n",
        "# Creating a copy of the original dataframe (to be able to compare processed and original data)\r\n",
        "df = df_original.copy()\r\n",
        "\r\n",
        "# Pre-process passage and question text\r\n",
        "df['passage'] = preprocess_text(df_original['passage'])\r\n",
        "df['question'] = preprocess_text(df_original['question'])\r\n",
        "df['answer_text'] = preprocess_text(df_original['answer_text'])\r\n",
        "\r\n",
        "# Comparing Original and Pre-Processed\r\n",
        "for i in range(3):\r\n",
        "    a = rand.randint(0,1000)\r\n",
        "    print('ORIGINAL AND PREPROCESSED PASSAGE:')\r\n",
        "    print(df_original.iloc[a]['passage'])\r\n",
        "    print(df.iloc[a]['passage'])\r\n",
        "    \r\n",
        "    print()\r\n",
        "    print('ORIGINAL AND PREPROCESSED QUESTION:')\r\n",
        "    print(df_original.iloc[a]['question'])\r\n",
        "    print(df.iloc[a]['question'])\r\n",
        "    print()"
      ],
      "execution_count": 3,
      "outputs": [
        {
          "output_type": "stream",
          "text": [
            "ORIGINAL AND PREPROCESSED PASSAGE:\n",
            "In 2015 Beyoncé signed an open letter which the ONE Campaign had been collecting signatures for; the letter was addressed to Angela Merkel and Nkosazana Dlamini-Zuma, urging them to focus on women as they serve as the head of the G7 in Germany and the AU in South Africa respectively, which will start to set the priorities in development funding before a main UN summit in September 2015 that will establish new development goals for the generation.\n",
            "In 2015 Beyoncé signed an open letter which the ONE Campaign had been collecting signatures for ; the letter was addressed to Angela Merkel and Nkosazana Dlamini - Zuma , urging them to focus on women as they serve as the head of the G7 in Germany and the AU in South Africa respectively , which will start to set the priorities in development funding before a main UN summit in September 2015 that will establish new development goals for the generation .\n",
            "\n",
            "ORIGINAL AND PREPROCESSED QUESTION:\n",
            "An important UN summit took place when?\n",
            "An important UN summit took place when ?\n",
            "\n",
            "ORIGINAL AND PREPROCESSED PASSAGE:\n",
            "The Rev. John J. Cavanaugh, C.S.C. served as president from 1946 to 1952. Cavanaugh's legacy at Notre Dame in the post-war years was devoted to raising academic standards and reshaping the university administration to suit it to an enlarged educational mission and an expanded student body and stressing advanced studies and research at a time when Notre Dame quadrupled in student census, undergraduate enrollment increased by more than half, and graduate student enrollment grew fivefold. Cavanaugh also established the Lobund Institute for Animal Studies and Notre Dame's Medieval Institute. Cavanaugh also presided over the construction of the Nieuwland Science Hall, Fisher Hall, and the Morris Inn, as well as the Hall of Liberal Arts (now O'Shaughnessy Hall), made possible by a donation from I.A. O'Shaughnessy, at the time the largest ever made to an American Catholic university. Cavanaugh also established a system of advisory councils at the university, which continue today and are vital to the university's governance and development\n",
            "The Rev . John J . Cavanaugh , C . S . C . served as president from 1946 to 1952 . Cavanaugh ' s legacy at Notre Dame in the post - war years was devoted to raising academic standards and reshaping the university administration to suit it to an enlarged educational mission and an expanded student body and stressing advanced studies and research at a time when Notre Dame quadrupled in student census , undergraduate enrollment increased by more than half , and graduate student enrollment grew fivefold . Cavanaugh also established the Lobund Institute for Animal Studies and Notre Dame ' s Medieval Institute . Cavanaugh also presided over the construction of the Nieuwland Science Hall , Fisher Hall , and the Morris Inn , as well as the Hall of Liberal Arts ( now O ' Shaughnessy Hall ) , made possible by a donation from I . A . O ' Shaughnessy , at the time the largest ever made to an American Catholic university . Cavanaugh also established a system of advisory councils at the university , which continue today and are vital to the university ' s governance and development\n",
            "\n",
            "ORIGINAL AND PREPROCESSED QUESTION:\n",
            "Which institute involving animal life did Cavanaugh create at Notre Dame?\n",
            "Which institute involving animal life did Cavanaugh create at Notre Dame ?\n",
            "\n",
            "ORIGINAL AND PREPROCESSED PASSAGE:\n",
            "The university first offered graduate degrees, in the form of a Master of Arts (MA), in the 1854–1855 academic year. The program expanded to include Master of Laws (LL.M.) and Master of Civil Engineering in its early stages of growth, before a formal graduate school education was developed with a thesis not required to receive the degrees. This changed in 1924 with formal requirements developed for graduate degrees, including offering Doctorate (PhD) degrees. Today each of the five colleges offer graduate education. Most of the departments from the College of Arts and Letters offer PhD programs, while a professional Master of Divinity (M.Div.) program also exists. All of the departments in the College of Science offer PhD programs, except for the Department of Pre-Professional Studies. The School of Architecture offers a Master of Architecture, while each of the departments of the College of Engineering offer PhD programs. The College of Business offers multiple professional programs including MBA and Master of Science in Accountancy programs. It also operates facilities in Chicago and Cincinnati for its executive MBA program. Additionally, the Alliance for Catholic Education program offers a Master of Education program where students study at the university during the summer and teach in Catholic elementary schools, middle schools, and high schools across the Southern United States for two school years.\n",
            "The university first offered graduate degrees , in the form of a Master of Arts ( MA ) , in the 1854 – 1855 academic year . The program expanded to include Master of Laws ( LL . M . ) and Master of Civil Engineering in its early stages of growth , before a formal graduate school education was developed with a thesis not required to receive the degrees . This changed in 1924 with formal requirements developed for graduate degrees , including offering Doctorate ( PhD ) degrees . Today each of the five colleges offer graduate education . Most of the departments from the College of Arts and Letters offer PhD programs , while a professional Master of Divinity ( M . Div . ) program also exists . All of the departments in the College of Science offer PhD programs , except for the Department of Pre - Professional Studies . The School of Architecture offers a Master of Architecture , while each of the departments of the College of Engineering offer PhD programs . The College of Business offers multiple professional programs including MBA and Master of Science in Accountancy programs . It also operates facilities in Chicago and Cincinnati for its executive MBA program . Additionally , the Alliance for Catholic Education program offers a Master of Education program where students study at the university during the summer and teach in Catholic elementary schools , middle schools , and high schools across the Southern United States for two school years .\n",
            "\n",
            "ORIGINAL AND PREPROCESSED QUESTION:\n",
            "What type of degree is an M.Div.?\n",
            "What type of degree is an M . Div . ?\n",
            "\n"
          ],
          "name": "stdout"
        }
      ]
    },
    {
      "cell_type": "code",
      "metadata": {
        "id": "vXg4fox1SVVo",
        "colab": {
          "base_uri": "https://localhost:8080/",
          "height": 100,
          "referenced_widgets": [
            "9254da4c1d45472399c5b73bab96b296",
            "3adb8bb049a04994bcad580c611cf5bb",
            "f675a0f2feff4b5b8af1509f8769b943",
            "8b2247ae14c0465fab117069d74b1da3",
            "eb463a8e71704f62bed3b650a7078170",
            "cd059366061f4a9baa15ef7262fd4493",
            "0aed27a803054c17b862767cc9bf9dc8",
            "12a2a1963ebc4d82aff4c80cb50035ff"
          ]
        },
        "outputId": "0e388832-c691-4307-e095-a828eac53230"
      },
      "source": [
        "#@title answer word idx + error catching { form-width: \"25%\" }\r\n",
        "\r\n",
        "unwanted_rows = set()   # this set will contain the indices of rows containing errors (thus we will remove these rows from the dataframe)\r\n",
        "unwanted_id = set()    # this set will contain the IDs of rows containing errors \r\n",
        "word_idx = []   # will contain the start and end indices of each answer in the corresponing passage\r\n",
        "impossible_count = 0\r\n",
        "\r\n",
        "print(\"Parsing dataset for answer errors\")\r\n",
        "for i in tqdm(df_original.index):\r\n",
        "\r\n",
        "    # extracting one answer and the corresponding passage\r\n",
        "    answer = np.array(df[\"answer_text\"][i].split())\r\n",
        "    passage = np.array(df[\"passage\"][i].split())\r\n",
        "\r\n",
        "    l = len(answer)\r\n",
        "    idx = []    # this list will contain the start and end indices of the answer occurrence in the corresponding passage (these could be more than 1! ex: we find the answer \"rome\" in 2 distinct positions in the same passage)\r\n",
        "    counts = []     # counts will contain how many characters there are before the answer start in the passage\r\n",
        "    char_count = 0\r\n",
        "    for j in range(len(passage)-l+1):   # for each token in the passage, check if the answer starts from that token\r\n",
        "        if (answer == passage[j:j+l]).all():\r\n",
        "            idx.append((j, j+l))    # j is the start_index and j+l is the end_index of the answer in the passage\r\n",
        "            counts.append(char_count)    # char_count is the count of characters before the start of the answer\r\n",
        "        char_count += len(passage[j])\r\n",
        "    if len(counts) == 0:    # no answer found in the passage. Probably there is an error in the dataset (for instance the answer is \"7\", but in the text it is written like \"seven\")\r\n",
        "        unwanted_rows.add(i)\r\n",
        "        unwanted_id.add(df_original[\"id\"][i])\r\n",
        "        word_idx.append((-1, -1))   # stating that there was an error\r\n",
        "        impossible_count+=1\r\n",
        "\r\n",
        "    else:   # answer found in the passage\r\n",
        "        # if more than one answer correspondence was found in the passage, we take the one whose start index is nearer the start index given in the dataset \r\n",
        "        # (these 2 starting indices do not match perfectly because we are working on the preoprocessed text, so our starting index is a little bit different from the original)\r\n",
        "        n_spaces_original = df_original[\"passage\"][i][:df_original[\"answer_idx\"][i][0]].count(\" \")    # counting how many spaces there are in the original passage before the answer\r\n",
        "        n_newline_original = df_original[\"passage\"][i][:df_original[\"answer_idx\"][i][0]].count(\"\\n\")    # counting how many newline characters there are in the original passage before the answer\r\n",
        "        s = np.abs(np.array(counts)-(df[\"answer_idx\"][i][0]-n_spaces_original-n_newline_original))\r\n",
        "\r\n",
        "        if (0 not in s) and len(s)>1:   # in this case the answer was found in the passage, but the start index specified in the dataset is not the right one (it indicates a wrong occurrence of the answer)\r\n",
        "            unwanted_rows.add(i)\r\n",
        "            unwanted_id.add(df_original[\"id\"][i])\r\n",
        "            word_idx.append((-1, -1))   # stating that there was an error\r\n",
        "            impossible_count+=1\r\n",
        "\r\n",
        "        else:\r\n",
        "            word_idx.append(idx[np.argmin(s)])\r\n",
        "\r\n",
        "print(f\"Removing {impossible_count} rows containing errors.\")\r\n",
        "\r\n",
        "# adding a new column to the dataframe containing the word indices of the answer in the splitted passage\r\n",
        "df[\"word_idx_answer\"] = word_idx\r\n",
        "df[\"passage\"]=df[\"passage\"].str.lower()\r\n",
        "df[\"question\"]=df[\"question\"].str.lower()\r\n",
        "df[\"answer_text\"]=df[\"answer_text\"].str.lower()"
      ],
      "execution_count": 5,
      "outputs": [
        {
          "output_type": "stream",
          "text": [
            "Parsing dataset for answer errors\n"
          ],
          "name": "stdout"
        },
        {
          "output_type": "display_data",
          "data": {
            "application/vnd.jupyter.widget-view+json": {
              "model_id": "9254da4c1d45472399c5b73bab96b296",
              "version_minor": 0,
              "version_major": 2
            },
            "text/plain": [
              "HBox(children=(FloatProgress(value=0.0, max=87599.0), HTML(value='')))"
            ]
          },
          "metadata": {
            "tags": []
          }
        },
        {
          "output_type": "stream",
          "text": [
            "\n",
            "Removing 231 rows containing errors.\n"
          ],
          "name": "stdout"
        }
      ]
    },
    {
      "cell_type": "code",
      "metadata": {
        "id": "FL9cFDAeTdT7",
        "colab": {
          "base_uri": "https://localhost:8080/"
        },
        "outputId": "2c493f2e-8394-4acd-b06b-e93b9c644c68"
      },
      "source": [
        "#@title build vocaulary { form-width: \"25%\" }\r\n",
        "\r\n",
        "import numpy as np\r\n",
        "\r\n",
        "def build_vocabulary(text):\r\n",
        "    \"\"\"\r\n",
        "    Given a list of words, builds the corresponding word vocabulary and the mappings from words to indices and vice-versa.\r\n",
        "\r\n",
        "    :param: \r\n",
        "        - text: list of words from which we want to build the vocabularies (List)\r\n",
        "    :return:\r\n",
        "        - idx2word: index to word mapping (Dict)\r\n",
        "        - word2idx: word to index mapping (Dict)\r\n",
        "        - set_vocab: set of unique terms that build up the vocabulary\r\n",
        "    \"\"\"\r\n",
        "\r\n",
        "    # Creating a set to eliminate repeated words\r\n",
        "    set_vocab = ['<PAD>']+sorted(set(text)) # here we add the padding token as the first element of the set\r\n",
        "\r\n",
        "    # Creating a mapping from unique words to indices\r\n",
        "    word2idx = {u:i for i, u in enumerate(set_vocab)}   # the padding token will have 0 index\r\n",
        "    # Creating a mapping from indices to unique words\r\n",
        "    idx2word = {i:u for i, u in enumerate(set_vocab)}\r\n",
        "\r\n",
        "    return idx2word,word2idx,set_vocab\r\n",
        "\r\n",
        "# Creating a list containing all the passage and question text splitted in words\r\n",
        "text =  ' '.join(np.concatenate((df['passage'],df['question']))).split(' ')\r\n",
        "# Displaying first 100 words\r\n",
        "print(text[:100])\r\n",
        "# calling the build_vocabulary function to obtain the vocab and the mappings\r\n",
        "idx_to_word, word_to_idx, word_listing = build_vocabulary(text)\r\n",
        "\r\n",
        "print('[Debug] Index -> Word vocabulary size: {}'.format(len(idx_to_word)))\r\n",
        "print('[Debug] Word -> Index vocabulary size: {}'.format(len(word_to_idx)))\r\n",
        "print('[Debug] Some words: {}'.format([(idx_to_word[idx], idx) for idx in np.arange(100)]))"
      ],
      "execution_count": 6,
      "outputs": [
        {
          "output_type": "stream",
          "text": [
            "['architecturally', ',', 'the', 'school', 'has', 'a', 'catholic', 'character', '.', 'atop', 'the', 'main', 'building', \"'\", 's', 'gold', 'dome', 'is', 'a', 'golden', 'statue', 'of', 'the', 'virgin', 'mary', '.', 'immediately', 'in', 'front', 'of', 'the', 'main', 'building', 'and', 'facing', 'it', ',', 'is', 'a', 'copper', 'statue', 'of', 'christ', 'with', 'arms', 'upraised', 'with', 'the', 'legend', '\"', 'venite', 'ad', 'me', 'omnes', '\"', '.', 'next', 'to', 'the', 'main', 'building', 'is', 'the', 'basilica', 'of', 'the', 'sacred', 'heart', '.', 'immediately', 'behind', 'the', 'basilica', 'is', 'the', 'grotto', ',', 'a', 'marian', 'place', 'of', 'prayer', 'and', 'reflection', '.', 'it', 'is', 'a', 'replica', 'of', 'the', 'grotto', 'at', 'lourdes', ',', 'france', 'where', 'the', 'virgin', 'mary']\n",
            "[Debug] Index -> Word vocabulary size: 82630\n",
            "[Debug] Word -> Index vocabulary size: 82630\n",
            "[Debug] Some words: [('<PAD>', 0), ('!', 1), ('\"', 2), ('#', 3), ('$', 4), ('%', 5), ('&', 6), (\"'\", 7), ('(', 8), (')', 9), ('*', 10), ('+', 11), (',', 12), ('-', 13), ('.', 14), ('/', 15), ('0', 16), ('00', 17), ('000', 18), ('0000', 19), ('0000222556', 20), ('000a', 21), ('000rmb', 22), ('001', 23), ('0018', 24), ('002', 25), ('0028', 26), ('0029670', 27), ('003', 28), ('004', 29), ('0042', 30), ('0043', 31), ('005', 32), ('0054', 33), ('006', 34), ('0065', 35), ('007', 36), ('0071', 37), ('0079', 38), ('00794', 39), ('008', 40), ('00b7', 41), ('00e9', 42), ('01', 43), ('010', 44), ('011', 45), ('012', 46), ('012f', 47), ('013', 48), ('014', 49), ('0147', 50), ('015', 51), ('016', 52), ('017', 53), ('018', 54), ('019', 55), ('02', 56), ('020', 57), ('0208', 58), ('021', 59), ('022', 60), ('024', 61), ('0243', 62), ('025', 63), ('026', 64), ('027', 65), ('029', 66), ('03', 67), ('030', 68), ('0301', 69), ('0307', 70), ('031', 71), ('032', 72), ('033', 73), ('034', 74), ('035', 75), ('0358', 76), ('036', 77), ('037', 78), ('039', 79), ('04', 80), ('040', 81), ('042', 82), ('043', 83), ('044', 84), ('045', 85), ('046', 86), ('047', 87), ('048', 88), ('049', 89), ('05', 90), ('050', 91), ('052', 92), ('053', 93), ('055', 94), ('056', 95), ('057', 96), ('058', 97), ('059', 98), ('05946', 99)]\n"
          ],
          "name": "stdout"
        }
      ]
    },
    {
      "cell_type": "code",
      "metadata": {
        "id": "K8xiVS-hXc4g",
        "colab": {
          "base_uri": "https://localhost:8080/",
          "height": 137,
          "referenced_widgets": [
            "76b8a91a0cdf4a20a6401b9c2a67f7a1",
            "f6a2eff439cc447a8482f17f39ff91eb",
            "d04c141ea1984bb19d7da5dcdd639071",
            "c0906347f9ae44c2b9b03c8dd197144e",
            "33326bfe5e8343a192f45a914caa818d",
            "c3893592e2394ee0b2298ca504581d59",
            "ea072f526a0f405ea8b69ca2ec288901",
            "1c4a03ca7e3b49eeb675bb065f69732e"
          ]
        },
        "outputId": "55a4893b-791a-49ae-fc1b-d100936cc9cf"
      },
      "source": [
        "#@title create GloVe embedding matrix { form-width: \"25%\" }\r\n",
        "\r\n",
        "import gensim\r\n",
        "import gensim.downloader as gloader\r\n",
        "\r\n",
        "def load_embedding_model(model_type, embedding_dimension=50):\r\n",
        "    \"\"\"\r\n",
        "    Loads a pre-trained word embedding model via gensim library.\r\n",
        "\r\n",
        "    :params:\r\n",
        "        - model_type: name of the word embedding model to load.\r\n",
        "        - embedding_dimension: size of the embedding space to consider\r\n",
        "\r\n",
        "    :return:\r\n",
        "        - pre-trained word embedding model (gensim KeyedVectors object)\r\n",
        "    \"\"\"\r\n",
        "\r\n",
        "    download_path = \"\"\r\n",
        "\r\n",
        "    # Find the correct embedding model name\r\n",
        "    if model_type.strip().lower() == 'word2vec':\r\n",
        "        download_path = \"word2vec-google-news-300\"\r\n",
        "\r\n",
        "    elif model_type.strip().lower() == 'glove':\r\n",
        "        download_path = \"glove-wiki-gigaword-{}\".format(embedding_dimension)\r\n",
        "\r\n",
        "    else:\r\n",
        "        raise AttributeError(\"Unsupported embedding model type! Available ones: word2vec, glove\")\r\n",
        "\r\n",
        "    # Check download\r\n",
        "    try:\r\n",
        "        emb_model = gloader.load(download_path)\r\n",
        "    except ValueError as e:\r\n",
        "        print(\"Invalid embedding model name! Check the embedding dimension:\")\r\n",
        "        print(\"Word2Vec: 300\")\r\n",
        "        print(\"Glove: 50, 100, 200, 300\")\r\n",
        "        raise e\r\n",
        "\r\n",
        "    return emb_model\r\n",
        "\r\n",
        "\r\n",
        "def check_OOV_terms(embedding_model, word_listing):\r\n",
        "    \"\"\"\r\n",
        "    Checks differences between pre-trained embedding model vocabulary\r\n",
        "    and dataset specific vocabulary in order to highlight out-of-vocabulary terms.\r\n",
        "\r\n",
        "    :params:\r\n",
        "        - embedding_model: pre-trained word embedding model (gensim wrapper)\r\n",
        "        - word_listing: dataset specific vocabulary (list)\r\n",
        "\r\n",
        "    :return:\r\n",
        "        - list of OOV terms\r\n",
        "    \"\"\"\r\n",
        "    # Creating a list for the OOV words\r\n",
        "    oov = []\r\n",
        "    for word in word_listing:\r\n",
        "        # Checking if the word is in the embedding_model\r\n",
        "        if word not in embedding_model:\r\n",
        "            oov.append(word)\r\n",
        "    return oov\r\n",
        "\r\n",
        "\r\n",
        "def build_embedding_matrix_w_random(embedding_model, embedding_dimension, word_to_idx, oov_terms):\r\n",
        "    \"\"\"\r\n",
        "    Builds the embedding matrix of a specific dataset given a pre-trained word embedding model\r\n",
        "\r\n",
        "    :params: \r\n",
        "        - embedding_model: pre-trained word embedding model (gensim wrapper)\r\n",
        "        - word_to_idx: vocabulary map (word -> index) (dict)\r\n",
        "        - oov_terms: list of OOV terms (list)\r\n",
        "\r\n",
        "    :return\r\n",
        "        - embedding matrix that assigns a high dimensional vector to each word in the dataset specific vocabulary (shape |V| x d)\r\n",
        "    \"\"\"\r\n",
        "    embedding_matrix = []\r\n",
        "    for word in tqdm(word_to_idx):\r\n",
        "        if word in oov_terms:\r\n",
        "            embedding_matrix.append(np.random.rand(embedding_dimension))\r\n",
        "        else:\r\n",
        "             embedding_matrix.append(embedding_model[word])\r\n",
        "    return np.array(embedding_matrix)\r\n",
        "\r\n",
        "# we used Glove with embedding dimension 100 for our final tests\r\n",
        "embedding_model_type = \"GloVe\"\r\n",
        "embedding_dimension = 100\r\n",
        "embedding_model = load_embedding_model(embedding_model_type, embedding_dimension)\r\n",
        "\r\n",
        "# checking how many OOV terms we have\r\n",
        "oov_terms = check_OOV_terms(embedding_model, word_listing)\r\n",
        "\r\n",
        "print(\"Total OOV terms: {0} ({1:.2f}%)\".format(len(oov_terms), len(oov_terms)/len(word_listing)*100))\r\n",
        "\r\n",
        "embedding_matrix = build_embedding_matrix_w_random(embedding_model, embedding_dimension, word_to_idx, oov_terms)\r\n",
        "\r\n",
        "print(\"Embedding matrix shape: {}\".format(embedding_matrix.shape))\r\n",
        "\r\n",
        "print(\"Some OOV terms: \", oov_terms[:100])   # this was useful to understand if we could improve pre-processing"
      ],
      "execution_count": 8,
      "outputs": [
        {
          "output_type": "stream",
          "text": [
            "Total OOV terms: 15985 (19.35%)\n"
          ],
          "name": "stdout"
        },
        {
          "output_type": "display_data",
          "data": {
            "application/vnd.jupyter.widget-view+json": {
              "model_id": "76b8a91a0cdf4a20a6401b9c2a67f7a1",
              "version_minor": 0,
              "version_major": 2
            },
            "text/plain": [
              "HBox(children=(FloatProgress(value=0.0, max=82630.0), HTML(value='')))"
            ]
          },
          "metadata": {
            "tags": []
          }
        },
        {
          "output_type": "stream",
          "text": [
            "\n",
            "Embedding matrix shape: (82630, 100)\n",
            "Some OOV terms:  ['<PAD>', '0000222556', '000a', '000rmb', '0018', '0028', '0029670', '0042', '0043', '0054', '0065', '0071', '0079', '00794', '00b7', '00e9', '012f', '0243', '0307', '0358', '036', '042', '057', '058', '05946', '062', '064', '066', '067', '069', '073', '078', '079', '083', '085', '088', '096', '097', '0fm', '100l', '10217', '10925', '10ffff', '10z', '10¢', '10−10', '10−12', '10−19', '10−2', '10−3', '10−34', '10−6', '10−8', '10−9', '1101010', '11092', '11114', '11172', '11246', '12232', '12291', '122ad', '1234567', '12750', '130h', '130j', '131\\u202f000', '133cs', '13500', '13526', '13818', '145a', '146a', '14fdr', '14−17', '15408', '16041', '16384', '177847', '178b', '17½', '17\\u202f000', '180ad', '18578', '1881−82', '1911a1', '1967a', '1967b', '197bc', '19n', '19sc111', '19˚n', '19˚s', '1fm', '1n4148', '1q08', '1\\u202f800', '1⁄10', '1⁄14', '1⁄2']\n"
          ],
          "name": "stdout"
        }
      ]
    },
    {
      "cell_type": "code",
      "metadata": {
        "id": "mmT-17Ydn905",
        "colab": {
          "base_uri": "https://localhost:8080/"
        },
        "outputId": "08d72df7-6a5a-408d-a17c-482442f47578"
      },
      "source": [
        "#@title dataset cleaning { form-width: \"25%\" }\r\n",
        "\r\n",
        "# filters out question shorter than 10 characters\r\n",
        "for i,question in enumerate(df['question']):\r\n",
        "    if len(question)<=10:\r\n",
        "        #print(df_original.iloc[i]) \r\n",
        "        #print(df_original['passage'][i])\r\n",
        "        #print()\r\n",
        "        unwanted_rows.add(i)\r\n",
        "        unwanted_id.add(df[\"id\"][i])\r\n",
        "\r\n",
        "# ERROR CHECK before removing rows\r\n",
        "print(\"Number of errors found: {0}\\n\".format(str(len(unwanted_id))))\r\n",
        "some_error_id = random.sample(unwanted_id, 5)\r\n",
        "for id in some_error_id:\r\n",
        "    row_with_error = df_original[df_original[\"id\"] == id].to_dict(\"list\")\r\n",
        "    print(\"Question: {0}\".format(row_with_error[\"question\"][0]))\r\n",
        "    print(\"Passage: {0}\".format(row_with_error[\"passage\"][0]))\r\n",
        "    print(\"Answer: {0}\".format(row_with_error[\"answer_text\"][0]))\r\n",
        "    print(\"Answer extracted from: {0}\".format(row_with_error[\"passage\"][0][row_with_error[\"answer_idx\"][0][0]-3:row_with_error[\"answer_idx\"][0][1]+3]))\r\n",
        "    print()\r\n",
        "\r\n",
        "# Creating a txt file containing IDs of rows with errors for tutors\r\n",
        "with open(\"error_IDs.txt\", \"a\") as f:\r\n",
        "    for error_id in unwanted_id:\r\n",
        "        f.write(error_id + \"\\n\")\r\n",
        "\r\n",
        "df_clean = df.drop(list(unwanted_rows))\r\n",
        "df_clean = df_clean.reset_index()"
      ],
      "execution_count": 9,
      "outputs": [
        {
          "output_type": "stream",
          "text": [
            "Number of errors found: 233\n",
            "\n",
            "Question: What instrument did Anna Lelkes play?\n",
            "Passage: In 1997, the Vienna Philharmonic was \"facing protests during a [US] tour\" by the National Organization for Women and the International Alliance for Women in Music. Finally, \"after being held up to increasing ridicule even in socially conservative Austria, members of the orchestra gathered [on 28 February 1997] in an extraordinary meeting on the eve of their departure and agreed to admit a woman, Anna Lelkes, as harpist.\" As of 2013, the orchestra has six female members; one of them, violinist Albena Danailova became one of the orchestra's concertmasters in 2008, the first woman to hold that position. In 2012, women still made up just 6% of the orchestra's membership. VPO president Clemens Hellsberg said the VPO now uses completely screened blind auditions.\n",
            "Answer: harp\n",
            "Answer extracted from: as harpist\n",
            "\n",
            "Question: What did John Milton do for world literature?\n",
            "Passage: World literature was enriched by the works of Edmund Spenser, John Milton, John Bunyan, John Donne, John Dryden, Daniel Defoe, William Wordsworth, Jonathan Swift, Johann Wolfgang Goethe, Friedrich Schiller, Samuel Taylor Coleridge, Edgar Allan Poe, Matthew Arnold, Conrad Ferdinand Meyer, Theodor Fontane, Washington Irving, Robert Browning, Emily Dickinson, Emily Brontë, Charles Dickens, Nathaniel Hawthorne, Thomas Stearns Eliot, John Galsworthy, Thomas Mann, William Faulkner, John Updike, and many others.\n",
            "Answer: enrich\n",
            "Answer extracted from: as enriched \n",
            "\n",
            "Question: Which season's dark mornings led to people complaining about the switch from DST?\n",
            "Passage: The 2011 declaration by Russia that it would not turn its clocks back and stay in DST all year long was subsequently followed by a similar declaration from Belarus. The plan generated widespread complaints due to the dark of wintertime morning, and thus was abandoned in 2014. The country changed its clocks to Standard Time on 26 October 2014 - and intends to stay there permanently.\n",
            "Answer: winter\n",
            "Answer extracted from: of wintertim\n",
            "\n",
            "Question: How many major highways cross through Oklahoma City?\n",
            "Passage: Oklahoma City is an integral point on the United States Interstate Network, with three major interstate highways – Interstate 35, Interstate 40, and Interstate 44 – bisecting the city. Interstate 240 connects Interstate 40 and Interstate 44 in south Oklahoma City, while Interstate 235 spurs from Interstate 44 in north-central Oklahoma City into downtown.\n",
            "Answer: 3\n",
            "Answer extracted from: te 35, \n",
            "\n",
            "Question: What do specialized predators and prey rely on to get the upper hand? \n",
            "Passage: Among predators there is a large degree of specialization. Many predators specialize in hunting only one species of prey. Others are more opportunistic and will kill and eat almost anything (examples: humans, leopards, dogs and alligators). The specialists are usually particularly well suited to capturing their preferred prey. The prey in turn, are often equally suited to escape that predator. This is called an evolutionary arms race and tends to keep the populations of both species in equilibrium. Some predators specialize in certain classes of prey, not just single species. Some will switch to other prey (with varying degrees of success) when the preferred target is extremely scarce, and they may also resort to scavenging or a herbivorous diet if possible.[citation needed]\n",
            "Answer: evolution\n",
            "Answer extracted from: an evolutionary\n",
            "\n"
          ],
          "name": "stdout"
        }
      ]
    },
    {
      "cell_type": "code",
      "metadata": {
        "id": "DwY6t1FKhwTK"
      },
      "source": [
        "#@title padding { form-width: \"25%\" }\r\n",
        "\r\n",
        "# all sequences in train and val sets will be padded with a number of tokens equal to the maximum sentence length \r\n",
        "MAX_LENGTH_PASSAGE = len(max(df_clean['passage'], key=len))   \r\n",
        "passages = [[word_to_idx[el] for el in sentence.split()] for sentence in df_clean['passage']]  # passages extraction\r\n",
        "passages_pad = tf.keras.preprocessing.sequence.pad_sequences(passages, maxlen=MAX_LENGTH_PASSAGE, padding='post') # padding passages\r\n",
        "\r\n",
        "MAX_LENGTH_QUESTION = len(max(df_clean['question'], key=len))   \r\n",
        "questions = [[word_to_idx[el] for el in sentence.split()] for sentence in df_clean['question']]  # questions extraction\r\n",
        "questions_pad = tf.keras.preprocessing.sequence.pad_sequences(questions, maxlen=MAX_LENGTH_QUESTION, padding='post') # padding questions\r\n",
        "\r\n",
        "df_clean['passage_pad'] = list(passages_pad)\r\n",
        "df_clean['question_pad'] = list(questions_pad)"
      ],
      "execution_count": 10,
      "outputs": []
    },
    {
      "cell_type": "markdown",
      "metadata": {
        "id": "gjJaZWZyCmI4"
      },
      "source": [
        "# Skip preprocessing"
      ]
    },
    {
      "cell_type": "code",
      "metadata": {
        "id": "6cKOshQJ64TS"
      },
      "source": [
        "#@title load/store { form-width: \"25%\" }\r\n",
        "import pickle\r\n",
        "load = True #@param {type: \"boolean\"}\r\n",
        "\r\n",
        "if load:\r\n",
        "    !gcloud config set project feisty-mechanic-221914\r\n",
        "    !gsutil cp gs://squad_squad/df_clean.pkl ./df_clean.pkl\r\n",
        "    !gsutil cp gs://squad_squad/embedding_matrix.pkl ./embedding_matrix.pkl\r\n",
        "    !gsutil cp gs://squad_squad/idx_to_word.pkl ./idx_to_word.pkl\r\n",
        "\r\n",
        "    df_clean = pd.read_pickle(\"df_clean.pkl\")\r\n",
        "    with open('embedding_matrix.pkl', 'rb') as handle:\r\n",
        "        embedding_matrix = pickle.load(handle)\r\n",
        "    with open('idx_to_word.pkl', 'rb') as handle:\r\n",
        "        idx_to_word = pickle.load(handle)\r\n",
        "else:\r\n",
        "    df_clean.to_pickle(\"df_clean.pkl\")\r\n",
        "    with open('embedding_matrix.pkl', 'wb') as handle:\r\n",
        "        pickle.dump(embedding_matrix, handle, protocol=pickle.HIGHEST_PROTOCOL)\r\n",
        "    with open('idx_to_word.pkl', 'wb') as handle:\r\n",
        "        pickle.dump(idx_to_word, handle, protocol=pickle.HIGHEST_PROTOCOL)\r\n",
        "    \r\n",
        "    from google.colab import auth\r\n",
        "    auth.authenticate_user()\r\n",
        "    \r\n",
        "    !gcloud config set project feisty-mechanic-221914\r\n",
        "    !gsutil cp ./df_clean.pkl gs://squad_squad/df_clean.pkl\r\n",
        "    !gsutil cp ./embedding_matrix.pkl gs://squad_squad/embedding_matrix.pkl\r\n",
        "    !gsutil cp ./idx_to_word.pkl gs://squad_squad/idx_to_word.pkl\r\n",
        "\r\n",
        "!nvidia-smi"
      ],
      "execution_count": null,
      "outputs": []
    },
    {
      "cell_type": "markdown",
      "metadata": {
        "id": "1XrcygkwCfqD"
      },
      "source": [
        "# Model"
      ]
    },
    {
      "cell_type": "code",
      "metadata": {
        "id": "B8T_mnKJii2m"
      },
      "source": [
        "#@title split { form-width: \"25%\" }\r\n",
        "\r\n",
        "split_value = 0.1 #@param {type:\"number\"} \r\n",
        "val_dim = int(len(df_clean['title'].unique()) * split_value)\r\n",
        "val_titles = np.random.choice(df_clean['title'].unique(), size=val_dim, replace=False)\r\n",
        "passage_length = len(df_clean['passage_pad'][0])\r\n",
        "question_length = len(df_clean['question_pad'][0])\r\n",
        "\r\n",
        "# creating train and val sets\r\n",
        "df_val = df_clean[df_clean['title'].isin(val_titles)]\r\n",
        "df_train = df_clean[~(df_clean['title'].isin(val_titles))]"
      ],
      "execution_count": 11,
      "outputs": []
    },
    {
      "cell_type": "code",
      "metadata": {
        "id": "2gbCvH4xjEfo"
      },
      "source": [
        "#@title model definition { form-width: \"25%\" }\n",
        "\n",
        "from tensorflow.keras.layers import Input, Embedding, Bidirectional, LSTM\n",
        "from tensorflow.keras.layers import Attention, concatenate, Dense, Softmax\n",
        "\n",
        "def build_model():\n",
        "    input_size=len(idx_to_word)\n",
        "    embedding_dim=100\n",
        "    encoding_units = 256\n",
        "    dropout = 0\n",
        "\n",
        "    input_passage = Input(shape=[None])\n",
        "    input_question = Input(shape=[None])\n",
        "\n",
        "    # EMBEDDING\n",
        "    embedding = Embedding(input_size, embedding_dim, \n",
        "                          weights=[embedding_matrix],\n",
        "                          trainable=False, mask_zero=True)   \n",
        "    # trainable param is False because we use pre-trained Glove embeddings, \n",
        "    # mask_zero param is True because we have padding\n",
        "    \n",
        "    embedding_passage = embedding(input_passage)\n",
        "    embedding_question = embedding(input_question)\n",
        "\n",
        "    # ENCODING passage AND question\n",
        "    encoding_passage = Bidirectional(LSTM(encoding_units,\n",
        "                                          kernel_initializer='glorot_uniform',\n",
        "                                          recurrent_initializer='orthogonal',\n",
        "                                          dropout=dropout,\n",
        "                                          stateful=False,\n",
        "                                          return_sequences=True))(embedding_passage)   \n",
        "\n",
        "    encoding_question = Bidirectional(LSTM(encoding_units,\n",
        "                                           kernel_initializer='glorot_uniform',\n",
        "                                           recurrent_initializer='orthogonal',\n",
        "                                           dropout=dropout,\n",
        "                                           stateful=False,\n",
        "                                           return_sequences=True))(embedding_question)\n",
        "\n",
        "    # ATTENTION LAYER\n",
        "    query_value_attention_seq = Attention()([encoding_passage, encoding_question])   # out shape: [batch_size, passage_len, encoding_dim]\n",
        "    combined = concatenate([encoding_passage, query_value_attention_seq])  # tried add but doesnt work\n",
        "\n",
        "    lstm_start = Bidirectional(LSTM(encoding_units, \n",
        "                                    kernel_initializer='glorot_uniform',\n",
        "                                    recurrent_initializer='orthogonal',\n",
        "                                    dropout=dropout,\n",
        "                                    stateful=False,\n",
        "                                    return_sequences=True))(combined)\n",
        "\n",
        "\n",
        "    output_start = Dense(1)(lstm_start)\n",
        "    logits = tf.squeeze(output_start, axis=[2]) # shape (batch_size, seq_len)\n",
        "    output_start = Softmax(name=\"answ_start\")(logits)\n",
        "\n",
        "    lstm_end = Bidirectional(LSTM(encoding_units, \n",
        "                                  kernel_initializer='glorot_uniform',\n",
        "                                  recurrent_initializer='orthogonal',\n",
        "                                  dropout=dropout,\n",
        "                                  stateful=False,\n",
        "                                  return_sequences=True))(combined)\n",
        "\n",
        "    output_end = Dense(1)(lstm_end)\n",
        "    logits = tf.squeeze(output_end, axis=[2]) # shape (batch_size, seq_len)\n",
        "    output_end = Softmax(name=\"answ_end\")(logits)\n",
        "\n",
        "    out = tf.stack([output_start, output_end],axis=-1)\n",
        "    model = tf.keras.Model([input_passage,input_question], outputs=[out])  \n",
        "\n",
        "    model.summary()\n",
        "    return model"
      ],
      "execution_count": 24,
      "outputs": []
    },
    {
      "cell_type": "code",
      "metadata": {
        "id": "iMALb-9ZrGET"
      },
      "source": [
        "#@title metrics { form-width: \"25%\" }\r\n",
        "\r\n",
        "def prec(y_true, y_pred):\r\n",
        "    sampled = tf.argmax(y_pred, axis=-1)\r\n",
        "    return 1 - tf.math.count_nonzero(tf.squeeze(tf.cast(y_true, tf.int64)) - sampled) / tf.cast(len(sampled), tf.int64)\r\n",
        "\r\n",
        "def precision_start(y_true, y_pred):\r\n",
        "    return prec(y_true[:,0], y_pred[:,:,0])\r\n",
        "\r\n",
        "def precision_end(y_true, y_pred):\r\n",
        "    return prec(y_true[:,1], y_pred[:,:,1])\r\n",
        "\r\n",
        "def dist(y_true, y_pred):\r\n",
        "    sampled = tf.argmax(y_pred, axis=-1)\r\n",
        "    return tf.reduce_sum(tf.abs(tf.squeeze(tf.cast(y_true, tf.int64)) - sampled)) / tf.cast(len(sampled), tf.int64)\r\n",
        "\r\n",
        "def mean_abs_dist_start(y_true_tuple, y_pred_tuple):\r\n",
        "    return dist(y_true_tuple[:,0], y_pred_tuple[:,:,0])\r\n",
        "    \r\n",
        "def mean_abs_dist_end(y_true_tuple, y_pred_tuple):\r\n",
        "    return dist(y_true_tuple[:,1], y_pred_tuple[:,:,1])\r\n",
        "\r\n",
        "def exact_match(y_true, y_pred):\r\n",
        "    sampled_start = tf.argmax(y_pred[:,:,0], axis=-1)\r\n",
        "    sampled_end = tf.argmax(y_pred[:,:,1], axis=-1)\r\n",
        "    start_diff = tf.cast(tf.math.abs(tf.cast(y_true[:,0], tf.int64) - sampled_start),tf.float32)\r\n",
        "    end_diff = tf.cast(tf.math.abs(tf.cast(y_true[:,1], tf.int64) - sampled_end),tf.float32)\r\n",
        "    count = tf.math.count_nonzero(tf.cast(start_diff + end_diff, tf.int64))\r\n",
        "    return 1 - count / tf.cast(len(y_true), tf.int64)"
      ],
      "execution_count": 15,
      "outputs": []
    },
    {
      "cell_type": "code",
      "metadata": {
        "id": "2SVakP3N9JbC"
      },
      "source": [
        "!wandb login --relogin"
      ],
      "execution_count": null,
      "outputs": []
    },
    {
      "cell_type": "code",
      "metadata": {
        "id": "o3tICXuzmwmn"
      },
      "source": [
        "#@title train {form-width: \"25%\"}\n",
        "from tensorflow.keras.callbacks import EarlyStopping, ModelCheckpoint\n",
        "\n",
        "ce = tf.keras.losses.SparseCategoricalCrossentropy()\n",
        "β = 0\n",
        "\n",
        "def custom_loss(y_true, y_pred):\n",
        "    sampled_start = tf.argmax(y_pred[:,:,0], axis=-1)\n",
        "    sampled_end = tf.argmax(y_pred[:,:,1], axis=-1)\n",
        "    precedence_constraint = - tf.math.minimum(sampled_end - sampled_start, \n",
        "                                             tf.zeros(len(sampled_end), dtype=tf.int64)) / tf.cast(len(sampled_end), dtype=tf.int64)\n",
        "    precedence_constraint = tf.cast(precedence_constraint, tf.float32)\n",
        "\n",
        "    start_loss = ce(y_true[:,0], y_pred[:,:,0])\n",
        "    end_loss = ce(y_true[:,1], y_pred[:,:,1])\n",
        "    cross_entropy = start_loss + end_loss \n",
        "\n",
        "    return cross_entropy + β*precedence_constraint\n",
        "\n",
        "batch_size = 16\n",
        "epochs = 1000\n",
        "\n",
        "ENABLE_WANDB = False        #@param {type:\"boolean\"}\n",
        "wandb_experiment_name = \"RNN_classification_final\"  #@param {type: \"string\"}\n",
        "if ENABLE_WANDB:\n",
        "    os.environ[\"WANDB_SILENT\"] = \"true\"\n",
        "    !pip install wandb > /dev/null\n",
        "    !wandb login wandb_api_token\n",
        "    import wandb\n",
        "    from wandb.keras import WandbCallback\n",
        "    wandb.init(project=\"SQUAD\", name=wandb_experiment_name)\n",
        "    wandb.config.batch_size = batch_size\n",
        "    wandb.config.epochs = epochs\n",
        "    \n",
        "\n",
        "saveDir = os.path.join(os.getcwd(), 'saved_models')\n",
        "if not os.path.isdir(saveDir):\n",
        "    os.makedirs(saveDir)\n",
        "chkpt = saveDir + '/squad_check.hdf5'\n",
        "\n",
        "es_cb = EarlyStopping(monitor='val_loss', patience=2, verbose=1, mode='auto')\n",
        "cp_cb = ModelCheckpoint(filepath = chkpt, monitor='val_loss', verbose=1, \n",
        "                        save_best_only=False, mode='auto', \n",
        "                        save_weights_only=True)\n",
        "\n",
        "callbacks = [es_cb, cp_cb]\n",
        "\n",
        "if ENABLE_WANDB:\n",
        "    callbacks.append(WandbCallback(log_batch_frequency=10))\n",
        "\n",
        "metrics = [precision_start, precision_end, mean_abs_dist_start, mean_abs_dist_end, exact_match]\n",
        "\n",
        "model = build_model()\n",
        "tf.keras.backend.clear_session()\n",
        "\n",
        "model.compile(optimizer='adam', loss=custom_loss, metrics=metrics)\n",
        "\n",
        "history = model.fit([np.stack(df_train['passage_pad']),np.stack(df_train['question_pad'])],np.stack(df_train['word_idx_answer'].to_numpy()), epochs=epochs,\n",
        "                        callbacks=callbacks, validation_data=([np.stack(df_val['passage_pad']), np.stack(df_val['question_pad'])],np.stack(df_val['word_idx_answer'].to_numpy())),\n",
        "                        batch_size=batch_size)"
      ],
      "execution_count": null,
      "outputs": []
    },
    {
      "cell_type": "markdown",
      "metadata": {
        "id": "6mXyQL7zHUI0"
      },
      "source": [
        "#Evaluation"
      ]
    },
    {
      "cell_type": "code",
      "metadata": {
        "id": "eVr9XyW1wWF5",
        "outputId": "8fb787ca-d4c3-4407-cc07-7254ee642823",
        "colab": {
          "base_uri": "https://localhost:8080/"
        }
      },
      "source": [
        "#@title load weights {form-width: \"25%\"}\n",
        "model = build_model()\n",
        "\n",
        "!wget https://api.wandb.ai/files/veri/SQUAD/51e4x276/model-best.h5\n",
        "model.load_weights(\"model-best.h5\")"
      ],
      "execution_count": 26,
      "outputs": [
        {
          "output_type": "stream",
          "text": [
            "Model: \"model\"\n",
            "__________________________________________________________________________________________________\n",
            "Layer (type)                    Output Shape         Param #     Connected to                     \n",
            "==================================================================================================\n",
            "input_1 (InputLayer)            [(None, None)]       0                                            \n",
            "__________________________________________________________________________________________________\n",
            "input_2 (InputLayer)            [(None, None)]       0                                            \n",
            "__________________________________________________________________________________________________\n",
            "embedding (Embedding)           (None, None, 100)    8263000     input_1[0][0]                    \n",
            "                                                                 input_2[0][0]                    \n",
            "__________________________________________________________________________________________________\n",
            "bidirectional (Bidirectional)   (None, None, 512)    731136      embedding[0][0]                  \n",
            "__________________________________________________________________________________________________\n",
            "bidirectional_1 (Bidirectional) (None, None, 512)    731136      embedding[1][0]                  \n",
            "__________________________________________________________________________________________________\n",
            "attention (Attention)           (None, None, 512)    0           bidirectional[0][0]              \n",
            "                                                                 bidirectional_1[0][0]            \n",
            "__________________________________________________________________________________________________\n",
            "concatenate (Concatenate)       (None, None, 1024)   0           bidirectional[0][0]              \n",
            "                                                                 attention[0][0]                  \n",
            "__________________________________________________________________________________________________\n",
            "bidirectional_2 (Bidirectional) (None, None, 512)    2623488     concatenate[0][0]                \n",
            "__________________________________________________________________________________________________\n",
            "bidirectional_3 (Bidirectional) (None, None, 512)    2623488     concatenate[0][0]                \n",
            "__________________________________________________________________________________________________\n",
            "dense (Dense)                   (None, None, 1)      513         bidirectional_2[0][0]            \n",
            "__________________________________________________________________________________________________\n",
            "dense_1 (Dense)                 (None, None, 1)      513         bidirectional_3[0][0]            \n",
            "__________________________________________________________________________________________________\n",
            "tf.compat.v1.squeeze (TFOpLambd (None, None)         0           dense[0][0]                      \n",
            "__________________________________________________________________________________________________\n",
            "tf.compat.v1.squeeze_1 (TFOpLam (None, None)         0           dense_1[0][0]                    \n",
            "__________________________________________________________________________________________________\n",
            "answ_start (Softmax)            (None, None)         0           tf.compat.v1.squeeze[0][0]       \n",
            "__________________________________________________________________________________________________\n",
            "answ_end (Softmax)              (None, None)         0           tf.compat.v1.squeeze_1[0][0]     \n",
            "__________________________________________________________________________________________________\n",
            "tf.stack (TFOpLambda)           (None, None, 2)      0           answ_start[0][0]                 \n",
            "                                                                 answ_end[0][0]                   \n",
            "==================================================================================================\n",
            "Total params: 14,973,274\n",
            "Trainable params: 6,710,274\n",
            "Non-trainable params: 8,263,000\n",
            "__________________________________________________________________________________________________\n",
            "--2021-03-08 21:34:02--  https://api.wandb.ai/files/veri/SQUAD/51e4x276/model-best.h5\n",
            "Resolving api.wandb.ai (api.wandb.ai)... 35.186.228.49\n",
            "Connecting to api.wandb.ai (api.wandb.ai)|35.186.228.49|:443... connected.\n",
            "HTTP request sent, awaiting response... 307 Temporary Redirect\n",
            "Location: https://storage.googleapis.com/wandb-production.appspot.com/veri/SQUAD/51e4x276/model-best.h5?Expires=1615239302&GoogleAccessId=wandb-production%40appspot.gserviceaccount.com&Signature=CeRJzP5nJb0Od6WOFdXPG2BTomZHEq%2BMZq4QyYgx1Zd0SRe62s6eqqvMPIjZB6yqLp2jDfVLH%2BQsSM09JL6f2BMBApeYyjrQ0yGzk7p7iK1pT8Y2yCMmtOdwlrODn2yzKnsINm6Kgizpl%2FFViXrMHR2FgKU4lI%2BDBg4R3zGf8kmpZ44l4KdiIicp0WfJ4nas5gb%2B4TQSCqTyI7QXufpYlQMtPJlKjzM%2FeDTb3VQ0QdqNs69u7kzHQkxxdEcy49N4qwk9V%2F6WKNfYHvz8SzuMLX3AW7FU5tJvnjYquBwfAi0lOUWYxR4zGEN5NLQ%2FSko5lEwSJjNoDzP2oaF6tzTXtA%3D%3D [following]\n",
            "--2021-03-08 21:34:02--  https://storage.googleapis.com/wandb-production.appspot.com/veri/SQUAD/51e4x276/model-best.h5?Expires=1615239302&GoogleAccessId=wandb-production%40appspot.gserviceaccount.com&Signature=CeRJzP5nJb0Od6WOFdXPG2BTomZHEq%2BMZq4QyYgx1Zd0SRe62s6eqqvMPIjZB6yqLp2jDfVLH%2BQsSM09JL6f2BMBApeYyjrQ0yGzk7p7iK1pT8Y2yCMmtOdwlrODn2yzKnsINm6Kgizpl%2FFViXrMHR2FgKU4lI%2BDBg4R3zGf8kmpZ44l4KdiIicp0WfJ4nas5gb%2B4TQSCqTyI7QXufpYlQMtPJlKjzM%2FeDTb3VQ0QdqNs69u7kzHQkxxdEcy49N4qwk9V%2F6WKNfYHvz8SzuMLX3AW7FU5tJvnjYquBwfAi0lOUWYxR4zGEN5NLQ%2FSko5lEwSJjNoDzP2oaF6tzTXtA%3D%3D\n",
            "Resolving storage.googleapis.com (storage.googleapis.com)... 108.177.120.128, 142.251.6.128, 173.194.198.128, ...\n",
            "Connecting to storage.googleapis.com (storage.googleapis.com)|108.177.120.128|:443... connected.\n",
            "HTTP request sent, awaiting response... 200 OK\n",
            "Length: 113721680 (108M) [application/keras]\n",
            "Saving to: ‘model-best.h5’\n",
            "\n",
            "model-best.h5       100%[===================>] 108.45M   124MB/s    in 0.9s    \n",
            "\n",
            "2021-03-08 21:34:03 (124 MB/s) - ‘model-best.h5’ saved [113721680/113721680]\n",
            "\n"
          ],
          "name": "stdout"
        }
      ]
    },
    {
      "cell_type": "code",
      "metadata": {
        "id": "qe41qgu25sjR",
        "colab": {
          "base_uri": "https://localhost:8080/",
          "height": 1000
        },
        "outputId": "61948b37-067f-441d-8949-288b6b795931"
      },
      "source": [
        "#@title precedence plot {form-width: \"25%\"}\r\n",
        "\r\n",
        "predictions = model.predict([np.stack(df_val['passage_pad']), \r\n",
        "                             np.stack(df_val['question_pad'])],\r\n",
        "                             verbose=1)\r\n",
        "\r\n",
        "sampled_start = np.argmax(predictions[:,:,0], axis=-1)\r\n",
        "sampled_end = np.argmax(predictions[:,:,1], axis=-1)\r\n",
        "plt.figure(figsize=(30,30))\r\n",
        "plt.plot(np.stack(df_val['word_idx_answer'])[:,0],np.stack(df_val['word_idx_answer'])[:,1], \".\")\r\n",
        "plt.plot(sampled_start, sampled_end,\"*\")\r\n",
        "\r\n",
        "\r\n",
        "precedence_violation = sum(sampled_end - sampled_start < 0) / len(sampled_end)\r\n",
        "print(f\"End before Start ratio: {precedence_violation:.2%}\")\r\n",
        "\r\n",
        "if ENABLE_WANDB:\r\n",
        "    wandb.log({\"precedence violation\": wandb.Html(\r\n",
        "        \"<pre>precedence violation: \"+str(precedence_violation)+\" %<pre>\", inject=False)})"
      ],
      "execution_count": 28,
      "outputs": [
        {
          "output_type": "stream",
          "text": [
            "239/239 [==============================] - 37s 153ms/step\n",
            "end before start ratio\n",
            "10.28%\n"
          ],
          "name": "stdout"
        },
        {
          "output_type": "display_data",
          "data": {
            "image/png": "[encoded data removed]",
            "text/plain": [
              "<Figure size 2160x2160 with 1 Axes>"
            ]
          },
          "metadata": {
            "tags": [],
            "needs_background": "light"
          }
        }
      ]
    },
    {
      "cell_type": "code",
      "metadata": {
        "id": "_4wVWJUwHWeE"
      },
      "source": [
        "#@title evaluation script {form-width: \"25%\"}\n"
      ],
      "execution_count": null,
      "outputs": []
    }
  ]
}